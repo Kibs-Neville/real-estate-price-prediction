{
 "cells": [
  {
   "cell_type": "code",
   "execution_count": 1,
   "id": "b795d53e",
   "metadata": {},
   "outputs": [],
   "source": [
    "import pandas as pd\n",
    "import numpy as np\n",
    "import matplotlib.pyplot as plt\n",
    "import matplotlib\n",
    "%matplotlib inline\n",
    "matplotlib.rcParams[\"figure.figsize\"] = (10,7)"
   ]
  },
  {
   "cell_type": "code",
   "execution_count": 2,
   "id": "94e949ca",
   "metadata": {},
   "outputs": [
    {
     "data": {
      "application/vnd.microsoft.datawrangler.viewer.v0+json": {
       "columns": [
        {
         "name": "index",
         "rawType": "int64",
         "type": "integer"
        },
        {
         "name": "area_type",
         "rawType": "object",
         "type": "string"
        },
        {
         "name": "availability",
         "rawType": "object",
         "type": "string"
        },
        {
         "name": "location",
         "rawType": "object",
         "type": "string"
        },
        {
         "name": "size",
         "rawType": "object",
         "type": "string"
        },
        {
         "name": "society",
         "rawType": "object",
         "type": "unknown"
        },
        {
         "name": "total_sqft",
         "rawType": "object",
         "type": "string"
        },
        {
         "name": "bath",
         "rawType": "float64",
         "type": "float"
        },
        {
         "name": "balcony",
         "rawType": "float64",
         "type": "float"
        },
        {
         "name": "price",
         "rawType": "float64",
         "type": "float"
        }
       ],
       "ref": "f4cfbea9-0d45-472a-ac6f-c56f40342ec6",
       "rows": [
        [
         "0",
         "Super built-up  Area",
         "19-Dec",
         "Electronic City Phase II",
         "2 BHK",
         "Coomee ",
         "1056",
         "2.0",
         "1.0",
         "39.07"
        ],
        [
         "1",
         "Plot  Area",
         "Ready To Move",
         "Chikka Tirupathi",
         "4 Bedroom",
         "Theanmp",
         "2600",
         "5.0",
         "3.0",
         "120.0"
        ],
        [
         "2",
         "Built-up  Area",
         "Ready To Move",
         "Uttarahalli",
         "3 BHK",
         null,
         "1440",
         "2.0",
         "3.0",
         "62.0"
        ],
        [
         "3",
         "Super built-up  Area",
         "Ready To Move",
         "Lingadheeranahalli",
         "3 BHK",
         "Soiewre",
         "1521",
         "3.0",
         "1.0",
         "95.0"
        ],
        [
         "4",
         "Super built-up  Area",
         "Ready To Move",
         "Kothanur",
         "2 BHK",
         null,
         "1200",
         "2.0",
         "1.0",
         "51.0"
        ]
       ],
       "shape": {
        "columns": 9,
        "rows": 5
       }
      },
      "text/html": [
       "<div>\n",
       "<style scoped>\n",
       "    .dataframe tbody tr th:only-of-type {\n",
       "        vertical-align: middle;\n",
       "    }\n",
       "\n",
       "    .dataframe tbody tr th {\n",
       "        vertical-align: top;\n",
       "    }\n",
       "\n",
       "    .dataframe thead th {\n",
       "        text-align: right;\n",
       "    }\n",
       "</style>\n",
       "<table border=\"1\" class=\"dataframe\">\n",
       "  <thead>\n",
       "    <tr style=\"text-align: right;\">\n",
       "      <th></th>\n",
       "      <th>area_type</th>\n",
       "      <th>availability</th>\n",
       "      <th>location</th>\n",
       "      <th>size</th>\n",
       "      <th>society</th>\n",
       "      <th>total_sqft</th>\n",
       "      <th>bath</th>\n",
       "      <th>balcony</th>\n",
       "      <th>price</th>\n",
       "    </tr>\n",
       "  </thead>\n",
       "  <tbody>\n",
       "    <tr>\n",
       "      <th>0</th>\n",
       "      <td>Super built-up  Area</td>\n",
       "      <td>19-Dec</td>\n",
       "      <td>Electronic City Phase II</td>\n",
       "      <td>2 BHK</td>\n",
       "      <td>Coomee</td>\n",
       "      <td>1056</td>\n",
       "      <td>2.0</td>\n",
       "      <td>1.0</td>\n",
       "      <td>39.07</td>\n",
       "    </tr>\n",
       "    <tr>\n",
       "      <th>1</th>\n",
       "      <td>Plot  Area</td>\n",
       "      <td>Ready To Move</td>\n",
       "      <td>Chikka Tirupathi</td>\n",
       "      <td>4 Bedroom</td>\n",
       "      <td>Theanmp</td>\n",
       "      <td>2600</td>\n",
       "      <td>5.0</td>\n",
       "      <td>3.0</td>\n",
       "      <td>120.00</td>\n",
       "    </tr>\n",
       "    <tr>\n",
       "      <th>2</th>\n",
       "      <td>Built-up  Area</td>\n",
       "      <td>Ready To Move</td>\n",
       "      <td>Uttarahalli</td>\n",
       "      <td>3 BHK</td>\n",
       "      <td>NaN</td>\n",
       "      <td>1440</td>\n",
       "      <td>2.0</td>\n",
       "      <td>3.0</td>\n",
       "      <td>62.00</td>\n",
       "    </tr>\n",
       "    <tr>\n",
       "      <th>3</th>\n",
       "      <td>Super built-up  Area</td>\n",
       "      <td>Ready To Move</td>\n",
       "      <td>Lingadheeranahalli</td>\n",
       "      <td>3 BHK</td>\n",
       "      <td>Soiewre</td>\n",
       "      <td>1521</td>\n",
       "      <td>3.0</td>\n",
       "      <td>1.0</td>\n",
       "      <td>95.00</td>\n",
       "    </tr>\n",
       "    <tr>\n",
       "      <th>4</th>\n",
       "      <td>Super built-up  Area</td>\n",
       "      <td>Ready To Move</td>\n",
       "      <td>Kothanur</td>\n",
       "      <td>2 BHK</td>\n",
       "      <td>NaN</td>\n",
       "      <td>1200</td>\n",
       "      <td>2.0</td>\n",
       "      <td>1.0</td>\n",
       "      <td>51.00</td>\n",
       "    </tr>\n",
       "  </tbody>\n",
       "</table>\n",
       "</div>"
      ],
      "text/plain": [
       "              area_type   availability                  location       size  \\\n",
       "0  Super built-up  Area         19-Dec  Electronic City Phase II      2 BHK   \n",
       "1            Plot  Area  Ready To Move          Chikka Tirupathi  4 Bedroom   \n",
       "2        Built-up  Area  Ready To Move               Uttarahalli      3 BHK   \n",
       "3  Super built-up  Area  Ready To Move        Lingadheeranahalli      3 BHK   \n",
       "4  Super built-up  Area  Ready To Move                  Kothanur      2 BHK   \n",
       "\n",
       "   society total_sqft  bath  balcony   price  \n",
       "0  Coomee        1056   2.0      1.0   39.07  \n",
       "1  Theanmp       2600   5.0      3.0  120.00  \n",
       "2      NaN       1440   2.0      3.0   62.00  \n",
       "3  Soiewre       1521   3.0      1.0   95.00  \n",
       "4      NaN       1200   2.0      1.0   51.00  "
      ]
     },
     "execution_count": 2,
     "metadata": {},
     "output_type": "execute_result"
    }
   ],
   "source": [
    "df1 = pd.read_csv(\"Bengaluru_House_Data.csv\")\n",
    "df1.head()"
   ]
  },
  {
   "cell_type": "code",
   "execution_count": 3,
   "id": "b10e1d9f",
   "metadata": {},
   "outputs": [
    {
     "data": {
      "text/plain": [
       "(13320, 9)"
      ]
     },
     "execution_count": 3,
     "metadata": {},
     "output_type": "execute_result"
    }
   ],
   "source": [
    "df1.shape"
   ]
  },
  {
   "cell_type": "code",
   "execution_count": 4,
   "id": "af23fcc4",
   "metadata": {},
   "outputs": [
    {
     "data": {
      "application/vnd.microsoft.datawrangler.viewer.v0+json": {
       "columns": [
        {
         "name": "area_type",
         "rawType": "object",
         "type": "string"
        },
        {
         "name": "area_type",
         "rawType": "int64",
         "type": "integer"
        }
       ],
       "ref": "4953c126-73d6-4f7e-a462-15bcc81718f1",
       "rows": [
        [
         "Built-up  Area",
         "2418"
        ],
        [
         "Carpet  Area",
         "87"
        ],
        [
         "Plot  Area",
         "2025"
        ],
        [
         "Super built-up  Area",
         "8790"
        ]
       ],
       "shape": {
        "columns": 1,
        "rows": 4
       }
      },
      "text/plain": [
       "area_type\n",
       "Built-up  Area          2418\n",
       "Carpet  Area              87\n",
       "Plot  Area              2025\n",
       "Super built-up  Area    8790\n",
       "Name: area_type, dtype: int64"
      ]
     },
     "execution_count": 4,
     "metadata": {},
     "output_type": "execute_result"
    }
   ],
   "source": [
    "df1.groupby('area_type')['area_type'].agg('count')"
   ]
  },
  {
   "cell_type": "code",
   "execution_count": 5,
   "id": "4ff2afaf",
   "metadata": {},
   "outputs": [
    {
     "data": {
      "application/vnd.microsoft.datawrangler.viewer.v0+json": {
       "columns": [
        {
         "name": "index",
         "rawType": "int64",
         "type": "integer"
        },
        {
         "name": "location",
         "rawType": "object",
         "type": "string"
        },
        {
         "name": "size",
         "rawType": "object",
         "type": "string"
        },
        {
         "name": "total_sqft",
         "rawType": "object",
         "type": "string"
        },
        {
         "name": "bath",
         "rawType": "float64",
         "type": "float"
        },
        {
         "name": "price",
         "rawType": "float64",
         "type": "float"
        }
       ],
       "ref": "f37f8b4a-f8f6-4405-839f-ca6388a7e6c3",
       "rows": [
        [
         "0",
         "Electronic City Phase II",
         "2 BHK",
         "1056",
         "2.0",
         "39.07"
        ],
        [
         "1",
         "Chikka Tirupathi",
         "4 Bedroom",
         "2600",
         "5.0",
         "120.0"
        ],
        [
         "2",
         "Uttarahalli",
         "3 BHK",
         "1440",
         "2.0",
         "62.0"
        ],
        [
         "3",
         "Lingadheeranahalli",
         "3 BHK",
         "1521",
         "3.0",
         "95.0"
        ],
        [
         "4",
         "Kothanur",
         "2 BHK",
         "1200",
         "2.0",
         "51.0"
        ]
       ],
       "shape": {
        "columns": 5,
        "rows": 5
       }
      },
      "text/html": [
       "<div>\n",
       "<style scoped>\n",
       "    .dataframe tbody tr th:only-of-type {\n",
       "        vertical-align: middle;\n",
       "    }\n",
       "\n",
       "    .dataframe tbody tr th {\n",
       "        vertical-align: top;\n",
       "    }\n",
       "\n",
       "    .dataframe thead th {\n",
       "        text-align: right;\n",
       "    }\n",
       "</style>\n",
       "<table border=\"1\" class=\"dataframe\">\n",
       "  <thead>\n",
       "    <tr style=\"text-align: right;\">\n",
       "      <th></th>\n",
       "      <th>location</th>\n",
       "      <th>size</th>\n",
       "      <th>total_sqft</th>\n",
       "      <th>bath</th>\n",
       "      <th>price</th>\n",
       "    </tr>\n",
       "  </thead>\n",
       "  <tbody>\n",
       "    <tr>\n",
       "      <th>0</th>\n",
       "      <td>Electronic City Phase II</td>\n",
       "      <td>2 BHK</td>\n",
       "      <td>1056</td>\n",
       "      <td>2.0</td>\n",
       "      <td>39.07</td>\n",
       "    </tr>\n",
       "    <tr>\n",
       "      <th>1</th>\n",
       "      <td>Chikka Tirupathi</td>\n",
       "      <td>4 Bedroom</td>\n",
       "      <td>2600</td>\n",
       "      <td>5.0</td>\n",
       "      <td>120.00</td>\n",
       "    </tr>\n",
       "    <tr>\n",
       "      <th>2</th>\n",
       "      <td>Uttarahalli</td>\n",
       "      <td>3 BHK</td>\n",
       "      <td>1440</td>\n",
       "      <td>2.0</td>\n",
       "      <td>62.00</td>\n",
       "    </tr>\n",
       "    <tr>\n",
       "      <th>3</th>\n",
       "      <td>Lingadheeranahalli</td>\n",
       "      <td>3 BHK</td>\n",
       "      <td>1521</td>\n",
       "      <td>3.0</td>\n",
       "      <td>95.00</td>\n",
       "    </tr>\n",
       "    <tr>\n",
       "      <th>4</th>\n",
       "      <td>Kothanur</td>\n",
       "      <td>2 BHK</td>\n",
       "      <td>1200</td>\n",
       "      <td>2.0</td>\n",
       "      <td>51.00</td>\n",
       "    </tr>\n",
       "  </tbody>\n",
       "</table>\n",
       "</div>"
      ],
      "text/plain": [
       "                   location       size total_sqft  bath   price\n",
       "0  Electronic City Phase II      2 BHK       1056   2.0   39.07\n",
       "1          Chikka Tirupathi  4 Bedroom       2600   5.0  120.00\n",
       "2               Uttarahalli      3 BHK       1440   2.0   62.00\n",
       "3        Lingadheeranahalli      3 BHK       1521   3.0   95.00\n",
       "4                  Kothanur      2 BHK       1200   2.0   51.00"
      ]
     },
     "execution_count": 5,
     "metadata": {},
     "output_type": "execute_result"
    }
   ],
   "source": [
    "df2 = df1.drop(['area_type','availability','society','balcony'] , axis = 1)\n",
    "df2.head()"
   ]
  },
  {
   "cell_type": "markdown",
   "id": "31819e20",
   "metadata": {},
   "source": [
    "## Data Cleaning: Handling null values"
   ]
  },
  {
   "cell_type": "code",
   "execution_count": 6,
   "id": "cdc2c7f4",
   "metadata": {},
   "outputs": [
    {
     "data": {
      "application/vnd.microsoft.datawrangler.viewer.v0+json": {
       "columns": [
        {
         "name": "index",
         "rawType": "object",
         "type": "string"
        },
        {
         "name": "0",
         "rawType": "int64",
         "type": "integer"
        }
       ],
       "ref": "1bf26996-0215-47cf-a68c-61430904f54b",
       "rows": [
        [
         "location",
         "1"
        ],
        [
         "size",
         "16"
        ],
        [
         "total_sqft",
         "0"
        ],
        [
         "bath",
         "73"
        ],
        [
         "price",
         "0"
        ]
       ],
       "shape": {
        "columns": 1,
        "rows": 5
       }
      },
      "text/plain": [
       "location       1\n",
       "size          16\n",
       "total_sqft     0\n",
       "bath          73\n",
       "price          0\n",
       "dtype: int64"
      ]
     },
     "execution_count": 6,
     "metadata": {},
     "output_type": "execute_result"
    }
   ],
   "source": [
    "df2.isna().sum()"
   ]
  },
  {
   "cell_type": "code",
   "execution_count": 7,
   "id": "d78ea8e2",
   "metadata": {},
   "outputs": [
    {
     "data": {
      "application/vnd.microsoft.datawrangler.viewer.v0+json": {
       "columns": [
        {
         "name": "index",
         "rawType": "object",
         "type": "string"
        },
        {
         "name": "0",
         "rawType": "int64",
         "type": "integer"
        }
       ],
       "ref": "0d8b43b6-b3f7-4cbc-a3bb-72f986b66d5f",
       "rows": [
        [
         "location",
         "0"
        ],
        [
         "size",
         "0"
        ],
        [
         "total_sqft",
         "0"
        ],
        [
         "bath",
         "0"
        ],
        [
         "price",
         "0"
        ]
       ],
       "shape": {
        "columns": 1,
        "rows": 5
       }
      },
      "text/plain": [
       "location      0\n",
       "size          0\n",
       "total_sqft    0\n",
       "bath          0\n",
       "price         0\n",
       "dtype: int64"
      ]
     },
     "execution_count": 7,
     "metadata": {},
     "output_type": "execute_result"
    }
   ],
   "source": [
    "df3 = df2.dropna()\n",
    "df3.isna().sum()"
   ]
  },
  {
   "cell_type": "code",
   "execution_count": 8,
   "id": "10d7f3bc",
   "metadata": {},
   "outputs": [
    {
     "data": {
      "text/plain": [
       "(13246, 5)"
      ]
     },
     "execution_count": 8,
     "metadata": {},
     "output_type": "execute_result"
    }
   ],
   "source": [
    "df3.shape"
   ]
  },
  {
   "cell_type": "markdown",
   "id": "c3814d02",
   "metadata": {},
   "source": [
    "## Feature Engineering"
   ]
  },
  {
   "cell_type": "code",
   "execution_count": 9,
   "id": "db8986e8",
   "metadata": {},
   "outputs": [
    {
     "data": {
      "text/plain": [
       "array(['2 BHK', '4 Bedroom', '3 BHK', '4 BHK', '6 Bedroom', '3 Bedroom',\n",
       "       '1 BHK', '1 RK', '1 Bedroom', '8 Bedroom', '2 Bedroom',\n",
       "       '7 Bedroom', '5 BHK', '7 BHK', '6 BHK', '5 Bedroom', '11 BHK',\n",
       "       '9 BHK', '9 Bedroom', '27 BHK', '10 Bedroom', '11 Bedroom',\n",
       "       '10 BHK', '19 BHK', '16 BHK', '43 Bedroom', '14 BHK', '8 BHK',\n",
       "       '12 Bedroom', '13 BHK', '18 Bedroom'], dtype=object)"
      ]
     },
     "execution_count": 9,
     "metadata": {},
     "output_type": "execute_result"
    }
   ],
   "source": [
    "df3['size'].unique()"
   ]
  },
  {
   "cell_type": "code",
   "execution_count": 10,
   "id": "9428f32b",
   "metadata": {},
   "outputs": [
    {
     "name": "stderr",
     "output_type": "stream",
     "text": [
      "C:\\Users\\Neville Evan\\AppData\\Local\\Temp\\ipykernel_20492\\1741794864.py:1: SettingWithCopyWarning: \n",
      "A value is trying to be set on a copy of a slice from a DataFrame.\n",
      "Try using .loc[row_indexer,col_indexer] = value instead\n",
      "\n",
      "See the caveats in the documentation: https://pandas.pydata.org/pandas-docs/stable/user_guide/indexing.html#returning-a-view-versus-a-copy\n",
      "  df3['BHK'] = df3['size'].apply(lambda x: int(x.split(' ')[0]))\n"
     ]
    },
    {
     "data": {
      "application/vnd.microsoft.datawrangler.viewer.v0+json": {
       "columns": [
        {
         "name": "index",
         "rawType": "int64",
         "type": "integer"
        },
        {
         "name": "location",
         "rawType": "object",
         "type": "string"
        },
        {
         "name": "size",
         "rawType": "object",
         "type": "string"
        },
        {
         "name": "total_sqft",
         "rawType": "object",
         "type": "string"
        },
        {
         "name": "bath",
         "rawType": "float64",
         "type": "float"
        },
        {
         "name": "price",
         "rawType": "float64",
         "type": "float"
        },
        {
         "name": "BHK",
         "rawType": "int64",
         "type": "integer"
        }
       ],
       "ref": "ed365e58-c59b-4133-adee-cba539068efd",
       "rows": [
        [
         "0",
         "Electronic City Phase II",
         "2 BHK",
         "1056",
         "2.0",
         "39.07",
         "2"
        ],
        [
         "1",
         "Chikka Tirupathi",
         "4 Bedroom",
         "2600",
         "5.0",
         "120.0",
         "4"
        ],
        [
         "2",
         "Uttarahalli",
         "3 BHK",
         "1440",
         "2.0",
         "62.0",
         "3"
        ],
        [
         "3",
         "Lingadheeranahalli",
         "3 BHK",
         "1521",
         "3.0",
         "95.0",
         "3"
        ],
        [
         "4",
         "Kothanur",
         "2 BHK",
         "1200",
         "2.0",
         "51.0",
         "2"
        ]
       ],
       "shape": {
        "columns": 6,
        "rows": 5
       }
      },
      "text/html": [
       "<div>\n",
       "<style scoped>\n",
       "    .dataframe tbody tr th:only-of-type {\n",
       "        vertical-align: middle;\n",
       "    }\n",
       "\n",
       "    .dataframe tbody tr th {\n",
       "        vertical-align: top;\n",
       "    }\n",
       "\n",
       "    .dataframe thead th {\n",
       "        text-align: right;\n",
       "    }\n",
       "</style>\n",
       "<table border=\"1\" class=\"dataframe\">\n",
       "  <thead>\n",
       "    <tr style=\"text-align: right;\">\n",
       "      <th></th>\n",
       "      <th>location</th>\n",
       "      <th>size</th>\n",
       "      <th>total_sqft</th>\n",
       "      <th>bath</th>\n",
       "      <th>price</th>\n",
       "      <th>BHK</th>\n",
       "    </tr>\n",
       "  </thead>\n",
       "  <tbody>\n",
       "    <tr>\n",
       "      <th>0</th>\n",
       "      <td>Electronic City Phase II</td>\n",
       "      <td>2 BHK</td>\n",
       "      <td>1056</td>\n",
       "      <td>2.0</td>\n",
       "      <td>39.07</td>\n",
       "      <td>2</td>\n",
       "    </tr>\n",
       "    <tr>\n",
       "      <th>1</th>\n",
       "      <td>Chikka Tirupathi</td>\n",
       "      <td>4 Bedroom</td>\n",
       "      <td>2600</td>\n",
       "      <td>5.0</td>\n",
       "      <td>120.00</td>\n",
       "      <td>4</td>\n",
       "    </tr>\n",
       "    <tr>\n",
       "      <th>2</th>\n",
       "      <td>Uttarahalli</td>\n",
       "      <td>3 BHK</td>\n",
       "      <td>1440</td>\n",
       "      <td>2.0</td>\n",
       "      <td>62.00</td>\n",
       "      <td>3</td>\n",
       "    </tr>\n",
       "    <tr>\n",
       "      <th>3</th>\n",
       "      <td>Lingadheeranahalli</td>\n",
       "      <td>3 BHK</td>\n",
       "      <td>1521</td>\n",
       "      <td>3.0</td>\n",
       "      <td>95.00</td>\n",
       "      <td>3</td>\n",
       "    </tr>\n",
       "    <tr>\n",
       "      <th>4</th>\n",
       "      <td>Kothanur</td>\n",
       "      <td>2 BHK</td>\n",
       "      <td>1200</td>\n",
       "      <td>2.0</td>\n",
       "      <td>51.00</td>\n",
       "      <td>2</td>\n",
       "    </tr>\n",
       "  </tbody>\n",
       "</table>\n",
       "</div>"
      ],
      "text/plain": [
       "                   location       size total_sqft  bath   price  BHK\n",
       "0  Electronic City Phase II      2 BHK       1056   2.0   39.07    2\n",
       "1          Chikka Tirupathi  4 Bedroom       2600   5.0  120.00    4\n",
       "2               Uttarahalli      3 BHK       1440   2.0   62.00    3\n",
       "3        Lingadheeranahalli      3 BHK       1521   3.0   95.00    3\n",
       "4                  Kothanur      2 BHK       1200   2.0   51.00    2"
      ]
     },
     "execution_count": 10,
     "metadata": {},
     "output_type": "execute_result"
    }
   ],
   "source": [
    "df3['BHK'] = df3['size'].apply(lambda x: int(x.split(' ')[0]))\n",
    "df3.head()"
   ]
  },
  {
   "cell_type": "code",
   "execution_count": 11,
   "id": "2808ec8b",
   "metadata": {},
   "outputs": [
    {
     "data": {
      "text/plain": [
       "array([ 2,  4,  3,  6,  1,  8,  7,  5, 11,  9, 27, 10, 19, 16, 43, 14, 12,\n",
       "       13, 18], dtype=int64)"
      ]
     },
     "execution_count": 11,
     "metadata": {},
     "output_type": "execute_result"
    }
   ],
   "source": [
    "df3['BHK'].unique()"
   ]
  },
  {
   "cell_type": "code",
   "execution_count": 12,
   "id": "6f7e9999",
   "metadata": {},
   "outputs": [
    {
     "data": {
      "application/vnd.microsoft.datawrangler.viewer.v0+json": {
       "columns": [
        {
         "name": "index",
         "rawType": "int64",
         "type": "integer"
        },
        {
         "name": "location",
         "rawType": "object",
         "type": "string"
        },
        {
         "name": "size",
         "rawType": "object",
         "type": "string"
        },
        {
         "name": "total_sqft",
         "rawType": "object",
         "type": "string"
        },
        {
         "name": "bath",
         "rawType": "float64",
         "type": "float"
        },
        {
         "name": "price",
         "rawType": "float64",
         "type": "float"
        },
        {
         "name": "BHK",
         "rawType": "int64",
         "type": "integer"
        }
       ],
       "ref": "2a71ac03-3463-4fa0-9c54-acb04e9d626c",
       "rows": [
        [
         "1718",
         "2Electronic City Phase II",
         "27 BHK",
         "8000",
         "27.0",
         "230.0",
         "27"
        ],
        [
         "4684",
         "Munnekollal",
         "43 Bedroom",
         "2400",
         "40.0",
         "660.0",
         "43"
        ]
       ],
       "shape": {
        "columns": 6,
        "rows": 2
       }
      },
      "text/html": [
       "<div>\n",
       "<style scoped>\n",
       "    .dataframe tbody tr th:only-of-type {\n",
       "        vertical-align: middle;\n",
       "    }\n",
       "\n",
       "    .dataframe tbody tr th {\n",
       "        vertical-align: top;\n",
       "    }\n",
       "\n",
       "    .dataframe thead th {\n",
       "        text-align: right;\n",
       "    }\n",
       "</style>\n",
       "<table border=\"1\" class=\"dataframe\">\n",
       "  <thead>\n",
       "    <tr style=\"text-align: right;\">\n",
       "      <th></th>\n",
       "      <th>location</th>\n",
       "      <th>size</th>\n",
       "      <th>total_sqft</th>\n",
       "      <th>bath</th>\n",
       "      <th>price</th>\n",
       "      <th>BHK</th>\n",
       "    </tr>\n",
       "  </thead>\n",
       "  <tbody>\n",
       "    <tr>\n",
       "      <th>1718</th>\n",
       "      <td>2Electronic City Phase II</td>\n",
       "      <td>27 BHK</td>\n",
       "      <td>8000</td>\n",
       "      <td>27.0</td>\n",
       "      <td>230.0</td>\n",
       "      <td>27</td>\n",
       "    </tr>\n",
       "    <tr>\n",
       "      <th>4684</th>\n",
       "      <td>Munnekollal</td>\n",
       "      <td>43 Bedroom</td>\n",
       "      <td>2400</td>\n",
       "      <td>40.0</td>\n",
       "      <td>660.0</td>\n",
       "      <td>43</td>\n",
       "    </tr>\n",
       "  </tbody>\n",
       "</table>\n",
       "</div>"
      ],
      "text/plain": [
       "                       location        size total_sqft  bath  price  BHK\n",
       "1718  2Electronic City Phase II      27 BHK       8000  27.0  230.0   27\n",
       "4684                Munnekollal  43 Bedroom       2400  40.0  660.0   43"
      ]
     },
     "execution_count": 12,
     "metadata": {},
     "output_type": "execute_result"
    }
   ],
   "source": [
    "df3[df3.BHK > 20]"
   ]
  },
  {
   "cell_type": "code",
   "execution_count": 13,
   "id": "e2924442",
   "metadata": {},
   "outputs": [
    {
     "data": {
      "text/plain": [
       "array(['1056', '2600', '1440', ..., '1133 - 1384', '774', '4689'],\n",
       "      dtype=object)"
      ]
     },
     "execution_count": 13,
     "metadata": {},
     "output_type": "execute_result"
    }
   ],
   "source": [
    "df3['total_sqft'].unique()"
   ]
  },
  {
   "cell_type": "code",
   "execution_count": 14,
   "id": "fb55b763",
   "metadata": {},
   "outputs": [],
   "source": [
    "def is_float(x):\n",
    "    try:\n",
    "        float(x)\n",
    "    except:\n",
    "        return False\n",
    "    return True"
   ]
  },
  {
   "cell_type": "code",
   "execution_count": 15,
   "id": "7f68672b",
   "metadata": {},
   "outputs": [
    {
     "data": {
      "application/vnd.microsoft.datawrangler.viewer.v0+json": {
       "columns": [
        {
         "name": "index",
         "rawType": "int64",
         "type": "integer"
        },
        {
         "name": "location",
         "rawType": "object",
         "type": "string"
        },
        {
         "name": "size",
         "rawType": "object",
         "type": "string"
        },
        {
         "name": "total_sqft",
         "rawType": "object",
         "type": "string"
        },
        {
         "name": "bath",
         "rawType": "float64",
         "type": "float"
        },
        {
         "name": "price",
         "rawType": "float64",
         "type": "float"
        },
        {
         "name": "BHK",
         "rawType": "int64",
         "type": "integer"
        }
       ],
       "ref": "08ba86b8-eafb-414b-b9d3-cfa4f99dd429",
       "rows": [
        [
         "30",
         "Yelahanka",
         "4 BHK",
         "2100 - 2850",
         "4.0",
         "186.0",
         "4"
        ],
        [
         "122",
         "Hebbal",
         "4 BHK",
         "3067 - 8156",
         "4.0",
         "477.0",
         "4"
        ],
        [
         "137",
         "8th Phase JP Nagar",
         "2 BHK",
         "1042 - 1105",
         "2.0",
         "54.005",
         "2"
        ],
        [
         "165",
         "Sarjapur",
         "2 BHK",
         "1145 - 1340",
         "2.0",
         "43.49",
         "2"
        ],
        [
         "188",
         "KR Puram",
         "2 BHK",
         "1015 - 1540",
         "2.0",
         "56.8",
         "2"
        ],
        [
         "410",
         "Kengeri",
         "1 BHK",
         "34.46Sq. Meter",
         "1.0",
         "18.5",
         "1"
        ],
        [
         "549",
         "Hennur Road",
         "2 BHK",
         "1195 - 1440",
         "2.0",
         "63.77",
         "2"
        ],
        [
         "648",
         "Arekere",
         "9 Bedroom",
         "4125Perch",
         "9.0",
         "265.0",
         "9"
        ],
        [
         "661",
         "Yelahanka",
         "2 BHK",
         "1120 - 1145",
         "2.0",
         "48.13",
         "2"
        ],
        [
         "672",
         "Bettahalsoor",
         "4 Bedroom",
         "3090 - 5002",
         "4.0",
         "445.0",
         "4"
        ],
        [
         "772",
         "Banashankari Stage VI",
         "2 BHK",
         "1160 - 1195",
         "2.0",
         "59.935",
         "2"
        ],
        [
         "775",
         "Basavanagara",
         "1 BHK",
         "1000Sq. Meter",
         "2.0",
         "93.0",
         "1"
        ],
        [
         "850",
         "Bannerghatta Road",
         "2 BHK",
         "1115 - 1130",
         "2.0",
         "58.935",
         "2"
        ],
        [
         "872",
         "Singapura Village",
         "2 BHK",
         "1100Sq. Yards",
         "2.0",
         "45.0",
         "2"
        ],
        [
         "886",
         "Chandapura",
         "1 BHK",
         "520 - 645",
         "1.0",
         "15.135",
         "1"
        ],
        [
         "927",
         "Thanisandra",
         "2 BHK",
         "1000 - 1285",
         "2.0",
         "43.415",
         "2"
        ],
        [
         "959",
         "Kammasandra",
         "1 BHK",
         "650 - 665",
         "1.0",
         "18.41",
         "1"
        ],
        [
         "990",
         "Sarjapur",
         "1 BHK",
         "633 - 666",
         "1.0",
         "17.535",
         "1"
        ],
        [
         "1019",
         "Marathi Layout",
         "1 Bedroom",
         "5.31Acres",
         "1.0",
         "110.0",
         "1"
        ],
        [
         "1086",
         "Narasapura",
         "2 Bedroom",
         "30Acres",
         "2.0",
         "29.5",
         "2"
        ],
        [
         "1178",
         "Yelahanka",
         "3 BHK",
         "1445 - 1455",
         "3.0",
         "65.255",
         "3"
        ],
        [
         "1183",
         "Magadi Road",
         "2 BHK",
         "884 - 1116",
         "2.0",
         "46.5",
         "2"
        ],
        [
         "1187",
         "Thanisandra",
         "2 BHK",
         "850 - 1093",
         "2.0",
         "36.435",
         "2"
        ],
        [
         "1400",
         "Chamrajpet",
         "9 BHK",
         "716Sq. Meter",
         "9.0",
         "296.0",
         "9"
        ],
        [
         "1484",
         "Hebbal",
         "2 BHK",
         "547.34 - 827.31",
         "2.0",
         "42.72",
         "2"
        ],
        [
         "1542",
         "Sarjapur  Road",
         "1 BHK",
         "580 - 650",
         "1.0",
         "17.835",
         "1"
        ],
        [
         "1614",
         "Sarjapur  Road",
         "4 BHK",
         "3425 - 3435",
         "6.0",
         "228.5",
         "4"
        ],
        [
         "1643",
         "Talaghattapura",
         "3 BHK",
         "1804 - 2273",
         "3.0",
         "120.0",
         "3"
        ],
        [
         "1683",
         "Old Madras Road",
         "4 BHK",
         "3630 - 3800",
         "6.0",
         "224.5",
         "4"
        ],
        [
         "1694",
         "JP Nagar",
         "4 BHK",
         "4000 - 5249",
         "4.0",
         "314.5",
         "4"
        ],
        [
         "1712",
         "Singena Agrahara",
         "3 Bedroom",
         "1500Sq. Meter",
         "3.0",
         "95.0",
         "3"
        ],
        [
         "1743",
         "Hosa Road",
         "3 BHK",
         "142.61Sq. Meter",
         "3.0",
         "115.0",
         "3"
        ],
        [
         "1821",
         "Sarjapur",
         "3 Bedroom",
         "1574Sq. Yards",
         "3.0",
         "76.0",
         "3"
        ],
        [
         "2088",
         "Yeshwanthpur",
         "2 BHK",
         "1250 - 1305",
         "2.0",
         "95.815",
         "2"
        ],
        [
         "2128",
         "Kanakpura Road",
         "1 BHK",
         "670 - 980",
         "1.0",
         "36.29",
         "1"
        ],
        [
         "2228",
         "KR Puram",
         "3 BHK",
         "1005.03 - 1252.49",
         "3.0",
         "47.405",
         "3"
        ],
        [
         "2265",
         "Old Madras Road",
         "4 BHK",
         "3630 - 3800",
         "6.0",
         "200.5",
         "4"
        ],
        [
         "2301",
         "Hosa Road",
         "2 BHK",
         "1004 - 1204",
         "2.0",
         "36.43",
         "2"
        ],
        [
         "2310",
         "Whitefield",
         "4 BHK",
         "361.33Sq. Yards",
         "4.0",
         "270.0",
         "4"
        ],
        [
         "2396",
         "Balagere",
         "1 BHK",
         "645 - 936",
         "1.0",
         "41.9",
         "1"
        ],
        [
         "2431",
         "EPIP Zone",
         "4 BHK",
         "2710 - 3360",
         "5.0",
         "200.0",
         "4"
        ],
        [
         "2575",
         "Whitefield",
         "4 BHK",
         "2830 - 2882",
         "5.0",
         "145.5",
         "4"
        ],
        [
         "2587",
         "Tumkur Road",
         "1 BHK",
         "596 - 804",
         "1.0",
         "30.09",
         "1"
        ],
        [
         "2713",
         "KR Puram",
         "3 BHK",
         "1255 - 1863",
         "3.0",
         "69.315",
         "3"
        ],
        [
         "2716",
         "JP Nagar",
         "2 BHK",
         "1300 - 1405",
         "2.0",
         "93.865",
         "2"
        ],
        [
         "2881",
         "Volagerekallahalli",
         "2 BHK",
         "117Sq. Yards",
         "2.0",
         "38.0",
         "2"
        ],
        [
         "2916",
         "Thanisandra",
         "2 BHK",
         "934 - 1437",
         "2.0",
         "58.68",
         "2"
        ],
        [
         "2920",
         "Mysore Road",
         "2 BHK",
         "980 - 1030",
         "2.0",
         "35.175",
         "2"
        ],
        [
         "3174",
         "Jakkur",
         "4 BHK",
         "2249.81 - 4112.19",
         "4.0",
         "260.5",
         "4"
        ],
        [
         "3215",
         "KR Puram",
         "2 BHK",
         "1070 - 1315",
         "2.0",
         "51.22",
         "2"
        ]
       ],
       "shape": {
        "columns": 6,
        "rows": 190
       }
      },
      "text/html": [
       "<div>\n",
       "<style scoped>\n",
       "    .dataframe tbody tr th:only-of-type {\n",
       "        vertical-align: middle;\n",
       "    }\n",
       "\n",
       "    .dataframe tbody tr th {\n",
       "        vertical-align: top;\n",
       "    }\n",
       "\n",
       "    .dataframe thead th {\n",
       "        text-align: right;\n",
       "    }\n",
       "</style>\n",
       "<table border=\"1\" class=\"dataframe\">\n",
       "  <thead>\n",
       "    <tr style=\"text-align: right;\">\n",
       "      <th></th>\n",
       "      <th>location</th>\n",
       "      <th>size</th>\n",
       "      <th>total_sqft</th>\n",
       "      <th>bath</th>\n",
       "      <th>price</th>\n",
       "      <th>BHK</th>\n",
       "    </tr>\n",
       "  </thead>\n",
       "  <tbody>\n",
       "    <tr>\n",
       "      <th>30</th>\n",
       "      <td>Yelahanka</td>\n",
       "      <td>4 BHK</td>\n",
       "      <td>2100 - 2850</td>\n",
       "      <td>4.0</td>\n",
       "      <td>186.000</td>\n",
       "      <td>4</td>\n",
       "    </tr>\n",
       "    <tr>\n",
       "      <th>122</th>\n",
       "      <td>Hebbal</td>\n",
       "      <td>4 BHK</td>\n",
       "      <td>3067 - 8156</td>\n",
       "      <td>4.0</td>\n",
       "      <td>477.000</td>\n",
       "      <td>4</td>\n",
       "    </tr>\n",
       "    <tr>\n",
       "      <th>137</th>\n",
       "      <td>8th Phase JP Nagar</td>\n",
       "      <td>2 BHK</td>\n",
       "      <td>1042 - 1105</td>\n",
       "      <td>2.0</td>\n",
       "      <td>54.005</td>\n",
       "      <td>2</td>\n",
       "    </tr>\n",
       "    <tr>\n",
       "      <th>165</th>\n",
       "      <td>Sarjapur</td>\n",
       "      <td>2 BHK</td>\n",
       "      <td>1145 - 1340</td>\n",
       "      <td>2.0</td>\n",
       "      <td>43.490</td>\n",
       "      <td>2</td>\n",
       "    </tr>\n",
       "    <tr>\n",
       "      <th>188</th>\n",
       "      <td>KR Puram</td>\n",
       "      <td>2 BHK</td>\n",
       "      <td>1015 - 1540</td>\n",
       "      <td>2.0</td>\n",
       "      <td>56.800</td>\n",
       "      <td>2</td>\n",
       "    </tr>\n",
       "    <tr>\n",
       "      <th>...</th>\n",
       "      <td>...</td>\n",
       "      <td>...</td>\n",
       "      <td>...</td>\n",
       "      <td>...</td>\n",
       "      <td>...</td>\n",
       "      <td>...</td>\n",
       "    </tr>\n",
       "    <tr>\n",
       "      <th>12975</th>\n",
       "      <td>Whitefield</td>\n",
       "      <td>2 BHK</td>\n",
       "      <td>850 - 1060</td>\n",
       "      <td>2.0</td>\n",
       "      <td>38.190</td>\n",
       "      <td>2</td>\n",
       "    </tr>\n",
       "    <tr>\n",
       "      <th>12990</th>\n",
       "      <td>Talaghattapura</td>\n",
       "      <td>3 BHK</td>\n",
       "      <td>1804 - 2273</td>\n",
       "      <td>3.0</td>\n",
       "      <td>122.000</td>\n",
       "      <td>3</td>\n",
       "    </tr>\n",
       "    <tr>\n",
       "      <th>13059</th>\n",
       "      <td>Harlur</td>\n",
       "      <td>2 BHK</td>\n",
       "      <td>1200 - 1470</td>\n",
       "      <td>2.0</td>\n",
       "      <td>72.760</td>\n",
       "      <td>2</td>\n",
       "    </tr>\n",
       "    <tr>\n",
       "      <th>13265</th>\n",
       "      <td>Hoodi</td>\n",
       "      <td>2 BHK</td>\n",
       "      <td>1133 - 1384</td>\n",
       "      <td>2.0</td>\n",
       "      <td>59.135</td>\n",
       "      <td>2</td>\n",
       "    </tr>\n",
       "    <tr>\n",
       "      <th>13299</th>\n",
       "      <td>Whitefield</td>\n",
       "      <td>4 BHK</td>\n",
       "      <td>2830 - 2882</td>\n",
       "      <td>5.0</td>\n",
       "      <td>154.500</td>\n",
       "      <td>4</td>\n",
       "    </tr>\n",
       "  </tbody>\n",
       "</table>\n",
       "<p>190 rows × 6 columns</p>\n",
       "</div>"
      ],
      "text/plain": [
       "                 location   size   total_sqft  bath    price  BHK\n",
       "30              Yelahanka  4 BHK  2100 - 2850   4.0  186.000    4\n",
       "122                Hebbal  4 BHK  3067 - 8156   4.0  477.000    4\n",
       "137    8th Phase JP Nagar  2 BHK  1042 - 1105   2.0   54.005    2\n",
       "165              Sarjapur  2 BHK  1145 - 1340   2.0   43.490    2\n",
       "188              KR Puram  2 BHK  1015 - 1540   2.0   56.800    2\n",
       "...                   ...    ...          ...   ...      ...  ...\n",
       "12975          Whitefield  2 BHK   850 - 1060   2.0   38.190    2\n",
       "12990      Talaghattapura  3 BHK  1804 - 2273   3.0  122.000    3\n",
       "13059              Harlur  2 BHK  1200 - 1470   2.0   72.760    2\n",
       "13265               Hoodi  2 BHK  1133 - 1384   2.0   59.135    2\n",
       "13299          Whitefield  4 BHK  2830 - 2882   5.0  154.500    4\n",
       "\n",
       "[190 rows x 6 columns]"
      ]
     },
     "execution_count": 15,
     "metadata": {},
     "output_type": "execute_result"
    }
   ],
   "source": [
    "df3[~df3['total_sqft'].apply(is_float)]"
   ]
  },
  {
   "cell_type": "code",
   "execution_count": 16,
   "id": "18e53556",
   "metadata": {},
   "outputs": [],
   "source": [
    "def convert_sqft_to_num(x):\n",
    "    tokens = x.split('-')\n",
    "    if len(tokens) == 2:\n",
    "        return (float(tokens[0]) + float(tokens[1]))/2\n",
    "    try:\n",
    "        return float(x)\n",
    "    except:\n",
    "        return None"
   ]
  },
  {
   "cell_type": "code",
   "execution_count": 17,
   "id": "6868fb9c",
   "metadata": {},
   "outputs": [
    {
     "data": {
      "application/vnd.microsoft.datawrangler.viewer.v0+json": {
       "columns": [
        {
         "name": "index",
         "rawType": "int64",
         "type": "integer"
        },
        {
         "name": "location",
         "rawType": "object",
         "type": "string"
        },
        {
         "name": "size",
         "rawType": "object",
         "type": "string"
        },
        {
         "name": "total_sqft",
         "rawType": "float64",
         "type": "float"
        },
        {
         "name": "bath",
         "rawType": "float64",
         "type": "float"
        },
        {
         "name": "price",
         "rawType": "float64",
         "type": "float"
        },
        {
         "name": "BHK",
         "rawType": "int64",
         "type": "integer"
        }
       ],
       "ref": "d9d21515-971d-4cb2-9785-d43e10b9ec86",
       "rows": [
        [
         "0",
         "Electronic City Phase II",
         "2 BHK",
         "1056.0",
         "2.0",
         "39.07",
         "2"
        ],
        [
         "1",
         "Chikka Tirupathi",
         "4 Bedroom",
         "2600.0",
         "5.0",
         "120.0",
         "4"
        ],
        [
         "2",
         "Uttarahalli",
         "3 BHK",
         "1440.0",
         "2.0",
         "62.0",
         "3"
        ],
        [
         "3",
         "Lingadheeranahalli",
         "3 BHK",
         "1521.0",
         "3.0",
         "95.0",
         "3"
        ],
        [
         "4",
         "Kothanur",
         "2 BHK",
         "1200.0",
         "2.0",
         "51.0",
         "2"
        ]
       ],
       "shape": {
        "columns": 6,
        "rows": 5
       }
      },
      "text/html": [
       "<div>\n",
       "<style scoped>\n",
       "    .dataframe tbody tr th:only-of-type {\n",
       "        vertical-align: middle;\n",
       "    }\n",
       "\n",
       "    .dataframe tbody tr th {\n",
       "        vertical-align: top;\n",
       "    }\n",
       "\n",
       "    .dataframe thead th {\n",
       "        text-align: right;\n",
       "    }\n",
       "</style>\n",
       "<table border=\"1\" class=\"dataframe\">\n",
       "  <thead>\n",
       "    <tr style=\"text-align: right;\">\n",
       "      <th></th>\n",
       "      <th>location</th>\n",
       "      <th>size</th>\n",
       "      <th>total_sqft</th>\n",
       "      <th>bath</th>\n",
       "      <th>price</th>\n",
       "      <th>BHK</th>\n",
       "    </tr>\n",
       "  </thead>\n",
       "  <tbody>\n",
       "    <tr>\n",
       "      <th>0</th>\n",
       "      <td>Electronic City Phase II</td>\n",
       "      <td>2 BHK</td>\n",
       "      <td>1056.0</td>\n",
       "      <td>2.0</td>\n",
       "      <td>39.07</td>\n",
       "      <td>2</td>\n",
       "    </tr>\n",
       "    <tr>\n",
       "      <th>1</th>\n",
       "      <td>Chikka Tirupathi</td>\n",
       "      <td>4 Bedroom</td>\n",
       "      <td>2600.0</td>\n",
       "      <td>5.0</td>\n",
       "      <td>120.00</td>\n",
       "      <td>4</td>\n",
       "    </tr>\n",
       "    <tr>\n",
       "      <th>2</th>\n",
       "      <td>Uttarahalli</td>\n",
       "      <td>3 BHK</td>\n",
       "      <td>1440.0</td>\n",
       "      <td>2.0</td>\n",
       "      <td>62.00</td>\n",
       "      <td>3</td>\n",
       "    </tr>\n",
       "    <tr>\n",
       "      <th>3</th>\n",
       "      <td>Lingadheeranahalli</td>\n",
       "      <td>3 BHK</td>\n",
       "      <td>1521.0</td>\n",
       "      <td>3.0</td>\n",
       "      <td>95.00</td>\n",
       "      <td>3</td>\n",
       "    </tr>\n",
       "    <tr>\n",
       "      <th>4</th>\n",
       "      <td>Kothanur</td>\n",
       "      <td>2 BHK</td>\n",
       "      <td>1200.0</td>\n",
       "      <td>2.0</td>\n",
       "      <td>51.00</td>\n",
       "      <td>2</td>\n",
       "    </tr>\n",
       "  </tbody>\n",
       "</table>\n",
       "</div>"
      ],
      "text/plain": [
       "                   location       size  total_sqft  bath   price  BHK\n",
       "0  Electronic City Phase II      2 BHK      1056.0   2.0   39.07    2\n",
       "1          Chikka Tirupathi  4 Bedroom      2600.0   5.0  120.00    4\n",
       "2               Uttarahalli      3 BHK      1440.0   2.0   62.00    3\n",
       "3        Lingadheeranahalli      3 BHK      1521.0   3.0   95.00    3\n",
       "4                  Kothanur      2 BHK      1200.0   2.0   51.00    2"
      ]
     },
     "execution_count": 17,
     "metadata": {},
     "output_type": "execute_result"
    }
   ],
   "source": [
    "df4 = df3.copy()\n",
    "df4['total_sqft'] = df4['total_sqft'].apply(convert_sqft_to_num)\n",
    "df4.head()"
   ]
  },
  {
   "cell_type": "code",
   "execution_count": 18,
   "id": "db203882",
   "metadata": {},
   "outputs": [
    {
     "data": {
      "application/vnd.microsoft.datawrangler.viewer.v0+json": {
       "columns": [
        {
         "name": "index",
         "rawType": "object",
         "type": "string"
        },
        {
         "name": "30",
         "rawType": "object",
         "type": "unknown"
        }
       ],
       "ref": "808edd64-7ae0-48e6-92ec-a178011c17c0",
       "rows": [
        [
         "location",
         "Yelahanka"
        ],
        [
         "size",
         "4 BHK"
        ],
        [
         "total_sqft",
         "2475.0"
        ],
        [
         "bath",
         "4.0"
        ],
        [
         "price",
         "186.0"
        ],
        [
         "BHK",
         "4"
        ]
       ],
       "shape": {
        "columns": 1,
        "rows": 6
       }
      },
      "text/plain": [
       "location      Yelahanka\n",
       "size              4 BHK\n",
       "total_sqft       2475.0\n",
       "bath                4.0\n",
       "price             186.0\n",
       "BHK                   4\n",
       "Name: 30, dtype: object"
      ]
     },
     "execution_count": 18,
     "metadata": {},
     "output_type": "execute_result"
    }
   ],
   "source": [
    "df4.loc[30]"
   ]
  },
  {
   "cell_type": "code",
   "execution_count": 19,
   "id": "07c73561",
   "metadata": {},
   "outputs": [
    {
     "data": {
      "application/vnd.microsoft.datawrangler.viewer.v0+json": {
       "columns": [
        {
         "name": "index",
         "rawType": "int64",
         "type": "integer"
        },
        {
         "name": "location",
         "rawType": "object",
         "type": "string"
        },
        {
         "name": "size",
         "rawType": "object",
         "type": "string"
        },
        {
         "name": "total_sqft",
         "rawType": "float64",
         "type": "float"
        },
        {
         "name": "bath",
         "rawType": "float64",
         "type": "float"
        },
        {
         "name": "price",
         "rawType": "float64",
         "type": "float"
        },
        {
         "name": "BHK",
         "rawType": "int64",
         "type": "integer"
        },
        {
         "name": "price_per_sqft",
         "rawType": "float64",
         "type": "float"
        }
       ],
       "ref": "7ea57dc0-e69b-4abb-9fdb-3f2dbdccafb7",
       "rows": [
        [
         "0",
         "Electronic City Phase II",
         "2 BHK",
         "1056.0",
         "2.0",
         "39.07",
         "2",
         "3699.810606060606"
        ],
        [
         "1",
         "Chikka Tirupathi",
         "4 Bedroom",
         "2600.0",
         "5.0",
         "120.0",
         "4",
         "4615.384615384615"
        ],
        [
         "2",
         "Uttarahalli",
         "3 BHK",
         "1440.0",
         "2.0",
         "62.0",
         "3",
         "4305.555555555556"
        ],
        [
         "3",
         "Lingadheeranahalli",
         "3 BHK",
         "1521.0",
         "3.0",
         "95.0",
         "3",
         "6245.890861275477"
        ],
        [
         "4",
         "Kothanur",
         "2 BHK",
         "1200.0",
         "2.0",
         "51.0",
         "2",
         "4250.0"
        ]
       ],
       "shape": {
        "columns": 7,
        "rows": 5
       }
      },
      "text/html": [
       "<div>\n",
       "<style scoped>\n",
       "    .dataframe tbody tr th:only-of-type {\n",
       "        vertical-align: middle;\n",
       "    }\n",
       "\n",
       "    .dataframe tbody tr th {\n",
       "        vertical-align: top;\n",
       "    }\n",
       "\n",
       "    .dataframe thead th {\n",
       "        text-align: right;\n",
       "    }\n",
       "</style>\n",
       "<table border=\"1\" class=\"dataframe\">\n",
       "  <thead>\n",
       "    <tr style=\"text-align: right;\">\n",
       "      <th></th>\n",
       "      <th>location</th>\n",
       "      <th>size</th>\n",
       "      <th>total_sqft</th>\n",
       "      <th>bath</th>\n",
       "      <th>price</th>\n",
       "      <th>BHK</th>\n",
       "      <th>price_per_sqft</th>\n",
       "    </tr>\n",
       "  </thead>\n",
       "  <tbody>\n",
       "    <tr>\n",
       "      <th>0</th>\n",
       "      <td>Electronic City Phase II</td>\n",
       "      <td>2 BHK</td>\n",
       "      <td>1056.0</td>\n",
       "      <td>2.0</td>\n",
       "      <td>39.07</td>\n",
       "      <td>2</td>\n",
       "      <td>3699.810606</td>\n",
       "    </tr>\n",
       "    <tr>\n",
       "      <th>1</th>\n",
       "      <td>Chikka Tirupathi</td>\n",
       "      <td>4 Bedroom</td>\n",
       "      <td>2600.0</td>\n",
       "      <td>5.0</td>\n",
       "      <td>120.00</td>\n",
       "      <td>4</td>\n",
       "      <td>4615.384615</td>\n",
       "    </tr>\n",
       "    <tr>\n",
       "      <th>2</th>\n",
       "      <td>Uttarahalli</td>\n",
       "      <td>3 BHK</td>\n",
       "      <td>1440.0</td>\n",
       "      <td>2.0</td>\n",
       "      <td>62.00</td>\n",
       "      <td>3</td>\n",
       "      <td>4305.555556</td>\n",
       "    </tr>\n",
       "    <tr>\n",
       "      <th>3</th>\n",
       "      <td>Lingadheeranahalli</td>\n",
       "      <td>3 BHK</td>\n",
       "      <td>1521.0</td>\n",
       "      <td>3.0</td>\n",
       "      <td>95.00</td>\n",
       "      <td>3</td>\n",
       "      <td>6245.890861</td>\n",
       "    </tr>\n",
       "    <tr>\n",
       "      <th>4</th>\n",
       "      <td>Kothanur</td>\n",
       "      <td>2 BHK</td>\n",
       "      <td>1200.0</td>\n",
       "      <td>2.0</td>\n",
       "      <td>51.00</td>\n",
       "      <td>2</td>\n",
       "      <td>4250.000000</td>\n",
       "    </tr>\n",
       "  </tbody>\n",
       "</table>\n",
       "</div>"
      ],
      "text/plain": [
       "                   location       size  total_sqft  bath   price  BHK  \\\n",
       "0  Electronic City Phase II      2 BHK      1056.0   2.0   39.07    2   \n",
       "1          Chikka Tirupathi  4 Bedroom      2600.0   5.0  120.00    4   \n",
       "2               Uttarahalli      3 BHK      1440.0   2.0   62.00    3   \n",
       "3        Lingadheeranahalli      3 BHK      1521.0   3.0   95.00    3   \n",
       "4                  Kothanur      2 BHK      1200.0   2.0   51.00    2   \n",
       "\n",
       "   price_per_sqft  \n",
       "0     3699.810606  \n",
       "1     4615.384615  \n",
       "2     4305.555556  \n",
       "3     6245.890861  \n",
       "4     4250.000000  "
      ]
     },
     "execution_count": 19,
     "metadata": {},
     "output_type": "execute_result"
    }
   ],
   "source": [
    "df5 = df4.copy()\n",
    "df5['price_per_sqft'] = df5['price']*100000/df5['total_sqft']\n",
    "df5.head()"
   ]
  },
  {
   "cell_type": "code",
   "execution_count": 20,
   "id": "a5551a4d",
   "metadata": {},
   "outputs": [
    {
     "data": {
      "text/plain": [
       "array(['Electronic City Phase II', 'Chikka Tirupathi', 'Uttarahalli', ...,\n",
       "       '12th cross srinivas nagar banshankari 3rd stage',\n",
       "       'Havanur extension', 'Abshot Layout'], dtype=object)"
      ]
     },
     "execution_count": 20,
     "metadata": {},
     "output_type": "execute_result"
    }
   ],
   "source": [
    "df5.location.unique()"
   ]
  },
  {
   "cell_type": "code",
   "execution_count": 21,
   "id": "9e6a163d",
   "metadata": {},
   "outputs": [
    {
     "data": {
      "text/plain": [
       "1304"
      ]
     },
     "execution_count": 21,
     "metadata": {},
     "output_type": "execute_result"
    }
   ],
   "source": [
    "len(df5.location.unique())"
   ]
  },
  {
   "cell_type": "code",
   "execution_count": 22,
   "id": "3b6b65f8",
   "metadata": {},
   "outputs": [
    {
     "data": {
      "application/vnd.microsoft.datawrangler.viewer.v0+json": {
       "columns": [
        {
         "name": "location",
         "rawType": "object",
         "type": "string"
        },
        {
         "name": "location",
         "rawType": "int64",
         "type": "integer"
        }
       ],
       "ref": "2fee8146-1427-4e93-8164-585bfcec2080",
       "rows": [
        [
         "Whitefield",
         "535"
        ],
        [
         "Sarjapur  Road",
         "392"
        ],
        [
         "Electronic City",
         "304"
        ],
        [
         "Kanakpura Road",
         "266"
        ],
        [
         "Thanisandra",
         "236"
        ],
        [
         "Yelahanka",
         "210"
        ],
        [
         "Uttarahalli",
         "186"
        ],
        [
         "Hebbal",
         "176"
        ],
        [
         "Marathahalli",
         "175"
        ],
        [
         "Raja Rajeshwari Nagar",
         "171"
        ],
        [
         "Bannerghatta Road",
         "152"
        ],
        [
         "Hennur Road",
         "150"
        ],
        [
         "7th Phase JP Nagar",
         "149"
        ],
        [
         "Haralur Road",
         "141"
        ],
        [
         "Electronic City Phase II",
         "131"
        ],
        [
         "Rajaji Nagar",
         "106"
        ],
        [
         "Chandapura",
         "98"
        ],
        [
         "Bellandur",
         "96"
        ],
        [
         "KR Puram",
         "88"
        ],
        [
         "Hoodi",
         "88"
        ],
        [
         "Electronics City Phase 1",
         "87"
        ],
        [
         "Yeshwanthpur",
         "85"
        ],
        [
         "Begur Road",
         "84"
        ],
        [
         "Sarjapur",
         "81"
        ],
        [
         "Kasavanhalli",
         "79"
        ],
        [
         "Harlur",
         "79"
        ],
        [
         "Hormavu",
         "74"
        ],
        [
         "Banashankari",
         "74"
        ],
        [
         "Ramamurthy Nagar",
         "73"
        ],
        [
         "Kengeri",
         "73"
        ],
        [
         "Hosa Road",
         "72"
        ],
        [
         "Koramangala",
         "72"
        ],
        [
         "Old Madras Road",
         "70"
        ],
        [
         "Varthur",
         "70"
        ],
        [
         "Jakkur",
         "68"
        ],
        [
         "JP Nagar",
         "67"
        ],
        [
         "Kothanur",
         "66"
        ],
        [
         "Kaggadasapura",
         "64"
        ],
        [
         "Nagarbhavi",
         "63"
        ],
        [
         "Akshaya Nagar",
         "62"
        ],
        [
         "Thigalarapalya",
         "62"
        ],
        [
         "TC Palaya",
         "60"
        ],
        [
         "Rachenahalli",
         "58"
        ],
        [
         "8th Phase JP Nagar",
         "57"
        ],
        [
         "Malleshwaram",
         "57"
        ],
        [
         "Budigere",
         "54"
        ],
        [
         "HSR Layout",
         "53"
        ],
        [
         "Hennur",
         "52"
        ],
        [
         "Hulimavu",
         "52"
        ],
        [
         "Jigani",
         "52"
        ]
       ],
       "shape": {
        "columns": 1,
        "rows": 1293
       }
      },
      "text/plain": [
       "location\n",
       "Whitefield               535\n",
       "Sarjapur  Road           392\n",
       "Electronic City          304\n",
       "Kanakpura Road           266\n",
       "Thanisandra              236\n",
       "                        ... \n",
       "1 Giri Nagar               1\n",
       "Kanakapura Road,           1\n",
       "Kanakapura main  Road      1\n",
       "Karnataka Shabarimala      1\n",
       "whitefiled                 1\n",
       "Name: location, Length: 1293, dtype: int64"
      ]
     },
     "execution_count": 22,
     "metadata": {},
     "output_type": "execute_result"
    }
   ],
   "source": [
    "df5.location = df5.location.apply(lambda x: x.strip())\n",
    "\n",
    "location_stats = df5.groupby('location')['location'].agg('count').sort_values(ascending = False)\n",
    "location_stats"
   ]
  },
  {
   "cell_type": "code",
   "execution_count": 23,
   "id": "6af5bea5",
   "metadata": {},
   "outputs": [
    {
     "data": {
      "text/plain": [
       "1052"
      ]
     },
     "execution_count": 23,
     "metadata": {},
     "output_type": "execute_result"
    }
   ],
   "source": [
    "len(location_stats[location_stats<=10])"
   ]
  },
  {
   "cell_type": "markdown",
   "id": "4b8ff6c7",
   "metadata": {},
   "source": [
    "## Dimensionality Reduction"
   ]
  },
  {
   "cell_type": "code",
   "execution_count": 24,
   "id": "331870bd",
   "metadata": {},
   "outputs": [
    {
     "data": {
      "application/vnd.microsoft.datawrangler.viewer.v0+json": {
       "columns": [
        {
         "name": "location",
         "rawType": "object",
         "type": "string"
        },
        {
         "name": "location",
         "rawType": "int64",
         "type": "integer"
        }
       ],
       "ref": "4d0f862d-730d-412d-a145-c7f3ce384cb4",
       "rows": [
        [
         "Basapura",
         "10"
        ],
        [
         "1st Block Koramangala",
         "10"
        ],
        [
         "Gunjur Palya",
         "10"
        ],
        [
         "Kalkere",
         "10"
        ],
        [
         "Sector 1 HSR Layout",
         "10"
        ],
        [
         "Dairy Circle",
         "10"
        ],
        [
         "Naganathapura",
         "10"
        ],
        [
         "Sadashiva Nagar",
         "10"
        ],
        [
         "Nagadevanahalli",
         "10"
        ],
        [
         "BTM 1st Stage",
         "10"
        ],
        [
         "Nagappa Reddy Layout",
         "10"
        ],
        [
         "Dodsworth Layout",
         "10"
        ],
        [
         "Ganga Nagar",
         "10"
        ],
        [
         "2nd Phase JP Nagar",
         "9"
        ],
        [
         "Volagerekallahalli",
         "9"
        ],
        [
         "Yemlur",
         "9"
        ],
        [
         "4th Block Koramangala",
         "9"
        ],
        [
         "Lingarajapuram",
         "9"
        ],
        [
         "Medahalli",
         "9"
        ],
        [
         "Kaverappa Layout",
         "9"
        ],
        [
         "Gollahalli",
         "9"
        ],
        [
         "Richmond Town",
         "9"
        ],
        [
         "Vishwanatha Nagenahalli",
         "9"
        ],
        [
         "Chennammana Kere",
         "9"
        ],
        [
         "KUDLU MAIN ROAD",
         "9"
        ],
        [
         "Banagiri Nagar",
         "9"
        ],
        [
         "Peenya",
         "9"
        ],
        [
         "Ejipura",
         "9"
        ],
        [
         "Vignana Nagar",
         "9"
        ],
        [
         "Mathikere",
         "9"
        ],
        [
         "Chandra Layout",
         "9"
        ],
        [
         "Jakkur Plantation",
         "9"
        ],
        [
         "Kamakshipalya",
         "9"
        ],
        [
         "B Narayanapura",
         "9"
        ],
        [
         "Huskur",
         "8"
        ],
        [
         "Kanaka Nagar",
         "8"
        ],
        [
         "Thirumenahalli",
         "8"
        ],
        [
         "Vajarahalli",
         "8"
        ],
        [
         "Vasanth nagar",
         "8"
        ],
        [
         "Kattigenahalli",
         "8"
        ],
        [
         "Ittamadu",
         "8"
        ],
        [
         "1st Block HRBR Layout",
         "8"
        ],
        [
         "Sidedahalli",
         "8"
        ],
        [
         "Sarjapur Road,",
         "8"
        ],
        [
         "Cambridge Layout",
         "8"
        ],
        [
         "Outer Ring Road East",
         "8"
        ],
        [
         "Nelamangala",
         "8"
        ],
        [
         "Jalahalli West",
         "8"
        ],
        [
         "MS Pallya",
         "8"
        ],
        [
         "Seetharampalya",
         "8"
        ]
       ],
       "shape": {
        "columns": 1,
        "rows": 1052
       }
      },
      "text/plain": [
       "location\n",
       "Basapura                 10\n",
       "1st Block Koramangala    10\n",
       "Gunjur Palya             10\n",
       "Kalkere                  10\n",
       "Sector 1 HSR Layout      10\n",
       "                         ..\n",
       "1 Giri Nagar              1\n",
       "Kanakapura Road,          1\n",
       "Kanakapura main  Road     1\n",
       "Karnataka Shabarimala     1\n",
       "whitefiled                1\n",
       "Name: location, Length: 1052, dtype: int64"
      ]
     },
     "execution_count": 24,
     "metadata": {},
     "output_type": "execute_result"
    }
   ],
   "source": [
    "location_stats_less_than_10 = location_stats[location_stats<=10]\n",
    "location_stats_less_than_10"
   ]
  },
  {
   "cell_type": "code",
   "execution_count": 25,
   "id": "29dbb54e",
   "metadata": {},
   "outputs": [
    {
     "data": {
      "text/plain": [
       "1293"
      ]
     },
     "execution_count": 25,
     "metadata": {},
     "output_type": "execute_result"
    }
   ],
   "source": [
    "len(df5.location.unique())"
   ]
  },
  {
   "cell_type": "code",
   "execution_count": 26,
   "id": "b79f1a70",
   "metadata": {},
   "outputs": [
    {
     "data": {
      "text/plain": [
       "242"
      ]
     },
     "execution_count": 26,
     "metadata": {},
     "output_type": "execute_result"
    }
   ],
   "source": [
    "df5.location = df5.location.apply(lambda x:'Other' if x in location_stats_less_than_10 else x)\n",
    "len(df5.location.unique())"
   ]
  },
  {
   "cell_type": "markdown",
   "id": "e9d1aea6",
   "metadata": {},
   "source": [
    "## Outlier detection and removal"
   ]
  },
  {
   "cell_type": "markdown",
   "id": "93c0189d",
   "metadata": {},
   "source": [
    "#### As a data scientist when you have a conversation with your business manager (who has expertise in real estate), he will tell you that normally square ft per bedroom is 300 (i.e. 2 bhk apartment is minimum 600 sqft. If you have for example 400 sqft apartment with 2 bhk than that seems suspicious and can be removed as an outlier. We will remove such outliers by keeping our minimum thresold per bhk to be 300 sqft"
   ]
  },
  {
   "cell_type": "code",
   "execution_count": 27,
   "id": "fbaeb4f1",
   "metadata": {},
   "outputs": [
    {
     "data": {
      "application/vnd.microsoft.datawrangler.viewer.v0+json": {
       "columns": [
        {
         "name": "index",
         "rawType": "int64",
         "type": "integer"
        },
        {
         "name": "location",
         "rawType": "object",
         "type": "string"
        },
        {
         "name": "size",
         "rawType": "object",
         "type": "string"
        },
        {
         "name": "total_sqft",
         "rawType": "float64",
         "type": "float"
        },
        {
         "name": "bath",
         "rawType": "float64",
         "type": "float"
        },
        {
         "name": "price",
         "rawType": "float64",
         "type": "float"
        },
        {
         "name": "BHK",
         "rawType": "int64",
         "type": "integer"
        },
        {
         "name": "price_per_sqft",
         "rawType": "float64",
         "type": "float"
        }
       ],
       "ref": "10b34459-53c8-4e85-8cba-b76e4607e253",
       "rows": [
        [
         "9",
         "Other",
         "6 Bedroom",
         "1020.0",
         "6.0",
         "370.0",
         "6",
         "36274.509803921566"
        ],
        [
         "45",
         "HSR Layout",
         "8 Bedroom",
         "600.0",
         "9.0",
         "200.0",
         "8",
         "33333.333333333336"
        ],
        [
         "58",
         "Murugeshpalya",
         "6 Bedroom",
         "1407.0",
         "4.0",
         "150.0",
         "6",
         "10660.980810234541"
        ],
        [
         "68",
         "Devarachikkanahalli",
         "8 Bedroom",
         "1350.0",
         "7.0",
         "85.0",
         "8",
         "6296.2962962962965"
        ],
        [
         "70",
         "Other",
         "3 Bedroom",
         "500.0",
         "3.0",
         "100.0",
         "3",
         "20000.0"
        ]
       ],
       "shape": {
        "columns": 7,
        "rows": 5
       }
      },
      "text/html": [
       "<div>\n",
       "<style scoped>\n",
       "    .dataframe tbody tr th:only-of-type {\n",
       "        vertical-align: middle;\n",
       "    }\n",
       "\n",
       "    .dataframe tbody tr th {\n",
       "        vertical-align: top;\n",
       "    }\n",
       "\n",
       "    .dataframe thead th {\n",
       "        text-align: right;\n",
       "    }\n",
       "</style>\n",
       "<table border=\"1\" class=\"dataframe\">\n",
       "  <thead>\n",
       "    <tr style=\"text-align: right;\">\n",
       "      <th></th>\n",
       "      <th>location</th>\n",
       "      <th>size</th>\n",
       "      <th>total_sqft</th>\n",
       "      <th>bath</th>\n",
       "      <th>price</th>\n",
       "      <th>BHK</th>\n",
       "      <th>price_per_sqft</th>\n",
       "    </tr>\n",
       "  </thead>\n",
       "  <tbody>\n",
       "    <tr>\n",
       "      <th>9</th>\n",
       "      <td>Other</td>\n",
       "      <td>6 Bedroom</td>\n",
       "      <td>1020.0</td>\n",
       "      <td>6.0</td>\n",
       "      <td>370.0</td>\n",
       "      <td>6</td>\n",
       "      <td>36274.509804</td>\n",
       "    </tr>\n",
       "    <tr>\n",
       "      <th>45</th>\n",
       "      <td>HSR Layout</td>\n",
       "      <td>8 Bedroom</td>\n",
       "      <td>600.0</td>\n",
       "      <td>9.0</td>\n",
       "      <td>200.0</td>\n",
       "      <td>8</td>\n",
       "      <td>33333.333333</td>\n",
       "    </tr>\n",
       "    <tr>\n",
       "      <th>58</th>\n",
       "      <td>Murugeshpalya</td>\n",
       "      <td>6 Bedroom</td>\n",
       "      <td>1407.0</td>\n",
       "      <td>4.0</td>\n",
       "      <td>150.0</td>\n",
       "      <td>6</td>\n",
       "      <td>10660.980810</td>\n",
       "    </tr>\n",
       "    <tr>\n",
       "      <th>68</th>\n",
       "      <td>Devarachikkanahalli</td>\n",
       "      <td>8 Bedroom</td>\n",
       "      <td>1350.0</td>\n",
       "      <td>7.0</td>\n",
       "      <td>85.0</td>\n",
       "      <td>8</td>\n",
       "      <td>6296.296296</td>\n",
       "    </tr>\n",
       "    <tr>\n",
       "      <th>70</th>\n",
       "      <td>Other</td>\n",
       "      <td>3 Bedroom</td>\n",
       "      <td>500.0</td>\n",
       "      <td>3.0</td>\n",
       "      <td>100.0</td>\n",
       "      <td>3</td>\n",
       "      <td>20000.000000</td>\n",
       "    </tr>\n",
       "  </tbody>\n",
       "</table>\n",
       "</div>"
      ],
      "text/plain": [
       "               location       size  total_sqft  bath  price  BHK  \\\n",
       "9                 Other  6 Bedroom      1020.0   6.0  370.0    6   \n",
       "45           HSR Layout  8 Bedroom       600.0   9.0  200.0    8   \n",
       "58        Murugeshpalya  6 Bedroom      1407.0   4.0  150.0    6   \n",
       "68  Devarachikkanahalli  8 Bedroom      1350.0   7.0   85.0    8   \n",
       "70                Other  3 Bedroom       500.0   3.0  100.0    3   \n",
       "\n",
       "    price_per_sqft  \n",
       "9     36274.509804  \n",
       "45    33333.333333  \n",
       "58    10660.980810  \n",
       "68     6296.296296  \n",
       "70    20000.000000  "
      ]
     },
     "execution_count": 27,
     "metadata": {},
     "output_type": "execute_result"
    }
   ],
   "source": [
    "df5[df5.total_sqft/df5.BHK<300].head()"
   ]
  },
  {
   "cell_type": "markdown",
   "id": "a575e210",
   "metadata": {},
   "source": [
    "#### Check above data points. We have 6 bhk apartment with 1020 sqft. Another one is 8 bhk and total sqft is 600. These are clear data errors that can be removed safely"
   ]
  },
  {
   "cell_type": "code",
   "execution_count": 28,
   "id": "656b2d8c",
   "metadata": {},
   "outputs": [
    {
     "data": {
      "text/plain": [
       "(13246, 7)"
      ]
     },
     "execution_count": 28,
     "metadata": {},
     "output_type": "execute_result"
    }
   ],
   "source": [
    "df5.shape"
   ]
  },
  {
   "cell_type": "code",
   "execution_count": 29,
   "id": "cabaac99",
   "metadata": {},
   "outputs": [
    {
     "data": {
      "text/plain": [
       "(12502, 7)"
      ]
     },
     "execution_count": 29,
     "metadata": {},
     "output_type": "execute_result"
    }
   ],
   "source": [
    "df6 = df5[~(df5.total_sqft/df5.BHK<300)]\n",
    "df6.shape"
   ]
  },
  {
   "cell_type": "code",
   "execution_count": 30,
   "id": "2a805e22",
   "metadata": {},
   "outputs": [
    {
     "data": {
      "application/vnd.microsoft.datawrangler.viewer.v0+json": {
       "columns": [
        {
         "name": "index",
         "rawType": "object",
         "type": "string"
        },
        {
         "name": "price_per_sqft",
         "rawType": "float64",
         "type": "float"
        }
       ],
       "ref": "e67cba58-2bca-42d5-8d36-a410a5f809b6",
       "rows": [
        [
         "count",
         "12456.0"
        ],
        [
         "mean",
         "6308.502826047989"
        ],
        [
         "std",
         "4168.127338507347"
        ],
        [
         "min",
         "267.82981328435875"
        ],
        [
         "25%",
         "4210.526315789473"
        ],
        [
         "50%",
         "5294.117647058823"
        ],
        [
         "75%",
         "6916.666666666667"
        ],
        [
         "max",
         "176470.58823529413"
        ]
       ],
       "shape": {
        "columns": 1,
        "rows": 8
       }
      },
      "text/plain": [
       "count     12456.000000\n",
       "mean       6308.502826\n",
       "std        4168.127339\n",
       "min         267.829813\n",
       "25%        4210.526316\n",
       "50%        5294.117647\n",
       "75%        6916.666667\n",
       "max      176470.588235\n",
       "Name: price_per_sqft, dtype: float64"
      ]
     },
     "execution_count": 30,
     "metadata": {},
     "output_type": "execute_result"
    }
   ],
   "source": [
    "df6.price_per_sqft.describe()"
   ]
  },
  {
   "cell_type": "markdown",
   "id": "52b2b4fb",
   "metadata": {},
   "source": [
    "#### Here we find that min price per sqft is 267 rs/sqft whereas max is 12000000, this shows a wide variation in property prices. We should remove outliers per location using mean and one standard deviation"
   ]
  },
  {
   "cell_type": "code",
   "execution_count": 31,
   "id": "f364c8aa",
   "metadata": {},
   "outputs": [
    {
     "data": {
      "text/plain": [
       "(10241, 7)"
      ]
     },
     "execution_count": 31,
     "metadata": {},
     "output_type": "execute_result"
    }
   ],
   "source": [
    "def remove_price_per_sqft_outliers(df):\n",
    "    df_out = pd.DataFrame()\n",
    "    for key, subdf in df.groupby('location'):\n",
    "        m = np.mean(subdf.price_per_sqft)\n",
    "        st = np.std(subdf.price_per_sqft)\n",
    "        reduced_df = subdf[(subdf.price_per_sqft > (m-st)) & (subdf.price_per_sqft<=(m+st))]\n",
    "        df_out = pd.concat([df_out,reduced_df], ignore_index = True)\n",
    "    return df_out\n",
    "\n",
    "df7 = remove_price_per_sqft_outliers(df6)\n",
    "df7.shape"
   ]
  },
  {
   "cell_type": "markdown",
   "id": "d8dda4a1",
   "metadata": {},
   "source": [
    "#### Let's check if for a given location how does the 2 BHK and 3 BHK property prices look like"
   ]
  },
  {
   "cell_type": "code",
   "execution_count": 32,
   "id": "0dba4e3d",
   "metadata": {},
   "outputs": [
    {
     "data": {
      "image/png": "[encoded data removed]",
      "text/plain": [
       "<Figure size 1000x700 with 1 Axes>"
      ]
     },
     "metadata": {},
     "output_type": "display_data"
    }
   ],
   "source": [
    "def plot_scatter_chart(df,location):\n",
    "    bhk2 = df[(df.location==location) & (df.BHK==2)]\n",
    "    bhk3 = df[(df.location==location) & (df.BHK==3)]\n",
    "    matplotlib.rcParams['figure.figsize'] = (10,7)\n",
    "    plt.scatter(bhk2.total_sqft,bhk2.price,color='blue',label='2 BHK', s=50)\n",
    "    plt.scatter(bhk3.total_sqft,bhk3.price,marker='+', color='green',label='3 BHK', s=50)\n",
    "    plt.xlabel(\"Total Square Feet Area\")\n",
    "    plt.ylabel(\"Price (Lakh Indian Rupees)\")\n",
    "    plt.title(location)\n",
    "    plt.legend()\n",
    "    \n",
    "plot_scatter_chart(df7,\"Rajaji Nagar\")"
   ]
  },
  {
   "cell_type": "code",
   "execution_count": 33,
   "id": "f92148f8",
   "metadata": {},
   "outputs": [
    {
     "data": {
      "image/png": "[encoded data removed]",
      "text/plain": [
       "<Figure size 1000x700 with 1 Axes>"
      ]
     },
     "metadata": {},
     "output_type": "display_data"
    }
   ],
   "source": [
    "plot_scatter_chart(df7,\"Hebbal\")"
   ]
  },
  {
   "cell_type": "markdown",
   "id": "0c57db03",
   "metadata": {},
   "source": [
    "We should also remove properties where for same location, the price of (for example) 3 bedroom apartment is less than 2 bedroom apartment (with same square ft area). What we will do is for a given location, we will build a dictionary of stats per bhk, i.e.\n",
    "\n",
    "{\n",
    "    '1' : {\n",
    "        'mean': 4000,\n",
    "        'std: 2000,\n",
    "        'count': 34\n",
    "    },\n",
    "    '2' : {\n",
    "        'mean': 4300,\n",
    "        'std: 2300,\n",
    "        'count': 22\n",
    "    },    \n",
    "}\n",
    "\n",
    "Now we can remove those 2 BHK apartments whose price_per_sqft is less than mean price_per_sqft of 1 BHK apartment"
   ]
  },
  {
   "cell_type": "code",
   "execution_count": 34,
   "id": "bdb95f57",
   "metadata": {},
   "outputs": [
    {
     "data": {
      "text/plain": [
       "(7329, 7)"
      ]
     },
     "execution_count": 34,
     "metadata": {},
     "output_type": "execute_result"
    }
   ],
   "source": [
    "def remove_bhk_outliers(df):\n",
    "    exclude_indices = np.array([])\n",
    "    for location, location_df in df.groupby('location'):\n",
    "        bhk_stats = {}\n",
    "        for bhk, bhk_df in location_df.groupby('BHK'):\n",
    "            bhk_stats[bhk] = {\n",
    "                'mean': np.mean(bhk_df.price_per_sqft),\n",
    "                'std': np.std(bhk_df.price_per_sqft),\n",
    "                'count': bhk_df.shape[0]\n",
    "            }\n",
    "            \n",
    "        for bhk, bhk_df in location_df.groupby('BHK'):\n",
    "            stats = bhk_stats.get(bhk-1)\n",
    "            if stats and stats['count']>5:\n",
    "                exclude_indices = np.append(exclude_indices, bhk_df[bhk_df.price_per_sqft<(stats['mean'])].index.values)\n",
    "    return df.drop(exclude_indices,axis='index')\n",
    "df8 = remove_bhk_outliers(df7)\n",
    "df8.shape"
   ]
  },
  {
   "cell_type": "code",
   "execution_count": 35,
   "id": "8ef5e58e",
   "metadata": {},
   "outputs": [
    {
     "data": {
      "image/png": "[encoded data removed]",
      "text/plain": [
       "<Figure size 1000x700 with 1 Axes>"
      ]
     },
     "metadata": {},
     "output_type": "display_data"
    }
   ],
   "source": [
    "plot_scatter_chart(df8,\"Rajaji Nagar\")"
   ]
  },
  {
   "cell_type": "code",
   "execution_count": 36,
   "id": "79422efe",
   "metadata": {},
   "outputs": [
    {
     "data": {
      "image/png": "[encoded data removed]",
      "text/plain": [
       "<Figure size 1000x700 with 1 Axes>"
      ]
     },
     "metadata": {},
     "output_type": "display_data"
    }
   ],
   "source": [
    "plot_scatter_chart(df8,\"Hebbal\")"
   ]
  },
  {
   "cell_type": "code",
   "execution_count": 37,
   "id": "97d7228e",
   "metadata": {},
   "outputs": [
    {
     "data": {
      "image/png": "[encoded data removed]",
      "text/plain": [
       "<Figure size 1000x700 with 1 Axes>"
      ]
     },
     "metadata": {},
     "output_type": "display_data"
    }
   ],
   "source": [
    "matplotlib.rcParams[\"figure.figsize\"] = (10,7)\n",
    "plt.hist(df8.price_per_sqft,rwidth = 0.8)\n",
    "plt.xlabel(\"Price Per Square Feet\")\n",
    "plt.ylabel(\"Count\")\n",
    "plt.show()"
   ]
  },
  {
   "cell_type": "code",
   "execution_count": 38,
   "id": "935ed5fa",
   "metadata": {},
   "outputs": [
    {
     "data": {
      "text/plain": [
       "array([ 4.,  3.,  2.,  5.,  8.,  1.,  6.,  7.,  9., 12., 16., 13.])"
      ]
     },
     "execution_count": 38,
     "metadata": {},
     "output_type": "execute_result"
    }
   ],
   "source": [
    "df8.bath.unique()"
   ]
  },
  {
   "cell_type": "code",
   "execution_count": 39,
   "id": "60f0ebfe",
   "metadata": {},
   "outputs": [
    {
     "data": {
      "application/vnd.microsoft.datawrangler.viewer.v0+json": {
       "columns": [
        {
         "name": "index",
         "rawType": "int64",
         "type": "integer"
        },
        {
         "name": "location",
         "rawType": "object",
         "type": "string"
        },
        {
         "name": "size",
         "rawType": "object",
         "type": "string"
        },
        {
         "name": "total_sqft",
         "rawType": "float64",
         "type": "float"
        },
        {
         "name": "bath",
         "rawType": "float64",
         "type": "float"
        },
        {
         "name": "price",
         "rawType": "float64",
         "type": "float"
        },
        {
         "name": "BHK",
         "rawType": "int64",
         "type": "integer"
        },
        {
         "name": "price_per_sqft",
         "rawType": "float64",
         "type": "float"
        }
       ],
       "ref": "c5d6a7fc-5eeb-492b-b20c-12207e8c384c",
       "rows": [
        [
         "5277",
         "Neeladri Nagar",
         "10 BHK",
         "4000.0",
         "12.0",
         "160.0",
         "10",
         "4000.0"
        ],
        [
         "5925",
         "Other",
         "10 BHK",
         "12000.0",
         "12.0",
         "525.0",
         "10",
         "4375.0"
        ],
        [
         "6014",
         "Other",
         "16 BHK",
         "10000.0",
         "16.0",
         "550.0",
         "16",
         "5500.0"
        ],
        [
         "6747",
         "Other",
         "11 BHK",
         "6000.0",
         "12.0",
         "150.0",
         "11",
         "2500.0"
        ],
        [
         "7078",
         "Other",
         "13 BHK",
         "5425.0",
         "13.0",
         "275.0",
         "13",
         "5069.124423963133"
        ]
       ],
       "shape": {
        "columns": 7,
        "rows": 5
       }
      },
      "text/html": [
       "<div>\n",
       "<style scoped>\n",
       "    .dataframe tbody tr th:only-of-type {\n",
       "        vertical-align: middle;\n",
       "    }\n",
       "\n",
       "    .dataframe tbody tr th {\n",
       "        vertical-align: top;\n",
       "    }\n",
       "\n",
       "    .dataframe thead th {\n",
       "        text-align: right;\n",
       "    }\n",
       "</style>\n",
       "<table border=\"1\" class=\"dataframe\">\n",
       "  <thead>\n",
       "    <tr style=\"text-align: right;\">\n",
       "      <th></th>\n",
       "      <th>location</th>\n",
       "      <th>size</th>\n",
       "      <th>total_sqft</th>\n",
       "      <th>bath</th>\n",
       "      <th>price</th>\n",
       "      <th>BHK</th>\n",
       "      <th>price_per_sqft</th>\n",
       "    </tr>\n",
       "  </thead>\n",
       "  <tbody>\n",
       "    <tr>\n",
       "      <th>5277</th>\n",
       "      <td>Neeladri Nagar</td>\n",
       "      <td>10 BHK</td>\n",
       "      <td>4000.0</td>\n",
       "      <td>12.0</td>\n",
       "      <td>160.0</td>\n",
       "      <td>10</td>\n",
       "      <td>4000.000000</td>\n",
       "    </tr>\n",
       "    <tr>\n",
       "      <th>5925</th>\n",
       "      <td>Other</td>\n",
       "      <td>10 BHK</td>\n",
       "      <td>12000.0</td>\n",
       "      <td>12.0</td>\n",
       "      <td>525.0</td>\n",
       "      <td>10</td>\n",
       "      <td>4375.000000</td>\n",
       "    </tr>\n",
       "    <tr>\n",
       "      <th>6014</th>\n",
       "      <td>Other</td>\n",
       "      <td>16 BHK</td>\n",
       "      <td>10000.0</td>\n",
       "      <td>16.0</td>\n",
       "      <td>550.0</td>\n",
       "      <td>16</td>\n",
       "      <td>5500.000000</td>\n",
       "    </tr>\n",
       "    <tr>\n",
       "      <th>6747</th>\n",
       "      <td>Other</td>\n",
       "      <td>11 BHK</td>\n",
       "      <td>6000.0</td>\n",
       "      <td>12.0</td>\n",
       "      <td>150.0</td>\n",
       "      <td>11</td>\n",
       "      <td>2500.000000</td>\n",
       "    </tr>\n",
       "    <tr>\n",
       "      <th>7078</th>\n",
       "      <td>Other</td>\n",
       "      <td>13 BHK</td>\n",
       "      <td>5425.0</td>\n",
       "      <td>13.0</td>\n",
       "      <td>275.0</td>\n",
       "      <td>13</td>\n",
       "      <td>5069.124424</td>\n",
       "    </tr>\n",
       "  </tbody>\n",
       "</table>\n",
       "</div>"
      ],
      "text/plain": [
       "            location    size  total_sqft  bath  price  BHK  price_per_sqft\n",
       "5277  Neeladri Nagar  10 BHK      4000.0  12.0  160.0   10     4000.000000\n",
       "5925           Other  10 BHK     12000.0  12.0  525.0   10     4375.000000\n",
       "6014           Other  16 BHK     10000.0  16.0  550.0   16     5500.000000\n",
       "6747           Other  11 BHK      6000.0  12.0  150.0   11     2500.000000\n",
       "7078           Other  13 BHK      5425.0  13.0  275.0   13     5069.124424"
      ]
     },
     "execution_count": 39,
     "metadata": {},
     "output_type": "execute_result"
    }
   ],
   "source": [
    "df8[df8.bath>10]"
   ]
  },
  {
   "cell_type": "code",
   "execution_count": 40,
   "id": "c28c123b",
   "metadata": {},
   "outputs": [
    {
     "data": {
      "image/png": "[encoded data removed]",
      "text/plain": [
       "<Figure size 1000x700 with 1 Axes>"
      ]
     },
     "metadata": {},
     "output_type": "display_data"
    }
   ],
   "source": [
    "plt.hist(df8.bath, rwidth = 0.8)\n",
    "plt.xlabel(\"Number of bathrooms\")\n",
    "plt.ylabel(\"Count\")\n",
    "plt.show()"
   ]
  },
  {
   "cell_type": "code",
   "execution_count": 41,
   "id": "84265665",
   "metadata": {},
   "outputs": [
    {
     "data": {
      "application/vnd.microsoft.datawrangler.viewer.v0+json": {
       "columns": [
        {
         "name": "index",
         "rawType": "int64",
         "type": "integer"
        },
        {
         "name": "location",
         "rawType": "object",
         "type": "string"
        },
        {
         "name": "size",
         "rawType": "object",
         "type": "string"
        },
        {
         "name": "total_sqft",
         "rawType": "float64",
         "type": "float"
        },
        {
         "name": "bath",
         "rawType": "float64",
         "type": "float"
        },
        {
         "name": "price",
         "rawType": "float64",
         "type": "float"
        },
        {
         "name": "BHK",
         "rawType": "int64",
         "type": "integer"
        },
        {
         "name": "price_per_sqft",
         "rawType": "float64",
         "type": "float"
        }
       ],
       "ref": "3a9f44a6-53da-4176-80d5-333e1a4decb0",
       "rows": [
        [
         "0",
         "1st Block Jayanagar",
         "4 BHK",
         "2850.0",
         "4.0",
         "428.0",
         "4",
         "15017.543859649122"
        ],
        [
         "1",
         "1st Block Jayanagar",
         "3 BHK",
         "1630.0",
         "3.0",
         "194.0",
         "3",
         "11901.840490797545"
        ],
        [
         "2",
         "1st Block Jayanagar",
         "3 BHK",
         "1875.0",
         "2.0",
         "235.0",
         "3",
         "12533.333333333334"
        ],
        [
         "3",
         "1st Block Jayanagar",
         "3 BHK",
         "1200.0",
         "2.0",
         "130.0",
         "3",
         "10833.333333333334"
        ],
        [
         "4",
         "1st Block Jayanagar",
         "2 BHK",
         "1235.0",
         "2.0",
         "148.0",
         "2",
         "11983.805668016194"
        ]
       ],
       "shape": {
        "columns": 7,
        "rows": 5
       }
      },
      "text/html": [
       "<div>\n",
       "<style scoped>\n",
       "    .dataframe tbody tr th:only-of-type {\n",
       "        vertical-align: middle;\n",
       "    }\n",
       "\n",
       "    .dataframe tbody tr th {\n",
       "        vertical-align: top;\n",
       "    }\n",
       "\n",
       "    .dataframe thead th {\n",
       "        text-align: right;\n",
       "    }\n",
       "</style>\n",
       "<table border=\"1\" class=\"dataframe\">\n",
       "  <thead>\n",
       "    <tr style=\"text-align: right;\">\n",
       "      <th></th>\n",
       "      <th>location</th>\n",
       "      <th>size</th>\n",
       "      <th>total_sqft</th>\n",
       "      <th>bath</th>\n",
       "      <th>price</th>\n",
       "      <th>BHK</th>\n",
       "      <th>price_per_sqft</th>\n",
       "    </tr>\n",
       "  </thead>\n",
       "  <tbody>\n",
       "    <tr>\n",
       "      <th>0</th>\n",
       "      <td>1st Block Jayanagar</td>\n",
       "      <td>4 BHK</td>\n",
       "      <td>2850.0</td>\n",
       "      <td>4.0</td>\n",
       "      <td>428.0</td>\n",
       "      <td>4</td>\n",
       "      <td>15017.543860</td>\n",
       "    </tr>\n",
       "    <tr>\n",
       "      <th>1</th>\n",
       "      <td>1st Block Jayanagar</td>\n",
       "      <td>3 BHK</td>\n",
       "      <td>1630.0</td>\n",
       "      <td>3.0</td>\n",
       "      <td>194.0</td>\n",
       "      <td>3</td>\n",
       "      <td>11901.840491</td>\n",
       "    </tr>\n",
       "    <tr>\n",
       "      <th>2</th>\n",
       "      <td>1st Block Jayanagar</td>\n",
       "      <td>3 BHK</td>\n",
       "      <td>1875.0</td>\n",
       "      <td>2.0</td>\n",
       "      <td>235.0</td>\n",
       "      <td>3</td>\n",
       "      <td>12533.333333</td>\n",
       "    </tr>\n",
       "    <tr>\n",
       "      <th>3</th>\n",
       "      <td>1st Block Jayanagar</td>\n",
       "      <td>3 BHK</td>\n",
       "      <td>1200.0</td>\n",
       "      <td>2.0</td>\n",
       "      <td>130.0</td>\n",
       "      <td>3</td>\n",
       "      <td>10833.333333</td>\n",
       "    </tr>\n",
       "    <tr>\n",
       "      <th>4</th>\n",
       "      <td>1st Block Jayanagar</td>\n",
       "      <td>2 BHK</td>\n",
       "      <td>1235.0</td>\n",
       "      <td>2.0</td>\n",
       "      <td>148.0</td>\n",
       "      <td>2</td>\n",
       "      <td>11983.805668</td>\n",
       "    </tr>\n",
       "  </tbody>\n",
       "</table>\n",
       "</div>"
      ],
      "text/plain": [
       "              location   size  total_sqft  bath  price  BHK  price_per_sqft\n",
       "0  1st Block Jayanagar  4 BHK      2850.0   4.0  428.0    4    15017.543860\n",
       "1  1st Block Jayanagar  3 BHK      1630.0   3.0  194.0    3    11901.840491\n",
       "2  1st Block Jayanagar  3 BHK      1875.0   2.0  235.0    3    12533.333333\n",
       "3  1st Block Jayanagar  3 BHK      1200.0   2.0  130.0    3    10833.333333\n",
       "4  1st Block Jayanagar  2 BHK      1235.0   2.0  148.0    2    11983.805668"
      ]
     },
     "execution_count": 41,
     "metadata": {},
     "output_type": "execute_result"
    }
   ],
   "source": [
    "df9 = df8[~(df8.bath > (df8.BHK + 2))]\n",
    "df9.head()"
   ]
  },
  {
   "cell_type": "code",
   "execution_count": 42,
   "id": "5ca04a9b",
   "metadata": {},
   "outputs": [
    {
     "data": {
      "text/plain": [
       "(7325, 7)"
      ]
     },
     "execution_count": 42,
     "metadata": {},
     "output_type": "execute_result"
    }
   ],
   "source": [
    "df9.shape"
   ]
  },
  {
   "cell_type": "code",
   "execution_count": 43,
   "id": "7850659a",
   "metadata": {},
   "outputs": [
    {
     "data": {
      "application/vnd.microsoft.datawrangler.viewer.v0+json": {
       "columns": [
        {
         "name": "index",
         "rawType": "int64",
         "type": "integer"
        },
        {
         "name": "location",
         "rawType": "object",
         "type": "string"
        },
        {
         "name": "total_sqft",
         "rawType": "float64",
         "type": "float"
        },
        {
         "name": "bath",
         "rawType": "float64",
         "type": "float"
        },
        {
         "name": "price",
         "rawType": "float64",
         "type": "float"
        },
        {
         "name": "BHK",
         "rawType": "int64",
         "type": "integer"
        }
       ],
       "ref": "38e86dd5-d2af-4629-8205-fee406d11223",
       "rows": [
        [
         "0",
         "1st Block Jayanagar",
         "2850.0",
         "4.0",
         "428.0",
         "4"
        ],
        [
         "1",
         "1st Block Jayanagar",
         "1630.0",
         "3.0",
         "194.0",
         "3"
        ],
        [
         "2",
         "1st Block Jayanagar",
         "1875.0",
         "2.0",
         "235.0",
         "3"
        ],
        [
         "3",
         "1st Block Jayanagar",
         "1200.0",
         "2.0",
         "130.0",
         "3"
        ],
        [
         "4",
         "1st Block Jayanagar",
         "1235.0",
         "2.0",
         "148.0",
         "2"
        ]
       ],
       "shape": {
        "columns": 5,
        "rows": 5
       }
      },
      "text/html": [
       "<div>\n",
       "<style scoped>\n",
       "    .dataframe tbody tr th:only-of-type {\n",
       "        vertical-align: middle;\n",
       "    }\n",
       "\n",
       "    .dataframe tbody tr th {\n",
       "        vertical-align: top;\n",
       "    }\n",
       "\n",
       "    .dataframe thead th {\n",
       "        text-align: right;\n",
       "    }\n",
       "</style>\n",
       "<table border=\"1\" class=\"dataframe\">\n",
       "  <thead>\n",
       "    <tr style=\"text-align: right;\">\n",
       "      <th></th>\n",
       "      <th>location</th>\n",
       "      <th>total_sqft</th>\n",
       "      <th>bath</th>\n",
       "      <th>price</th>\n",
       "      <th>BHK</th>\n",
       "    </tr>\n",
       "  </thead>\n",
       "  <tbody>\n",
       "    <tr>\n",
       "      <th>0</th>\n",
       "      <td>1st Block Jayanagar</td>\n",
       "      <td>2850.0</td>\n",
       "      <td>4.0</td>\n",
       "      <td>428.0</td>\n",
       "      <td>4</td>\n",
       "    </tr>\n",
       "    <tr>\n",
       "      <th>1</th>\n",
       "      <td>1st Block Jayanagar</td>\n",
       "      <td>1630.0</td>\n",
       "      <td>3.0</td>\n",
       "      <td>194.0</td>\n",
       "      <td>3</td>\n",
       "    </tr>\n",
       "    <tr>\n",
       "      <th>2</th>\n",
       "      <td>1st Block Jayanagar</td>\n",
       "      <td>1875.0</td>\n",
       "      <td>2.0</td>\n",
       "      <td>235.0</td>\n",
       "      <td>3</td>\n",
       "    </tr>\n",
       "    <tr>\n",
       "      <th>3</th>\n",
       "      <td>1st Block Jayanagar</td>\n",
       "      <td>1200.0</td>\n",
       "      <td>2.0</td>\n",
       "      <td>130.0</td>\n",
       "      <td>3</td>\n",
       "    </tr>\n",
       "    <tr>\n",
       "      <th>4</th>\n",
       "      <td>1st Block Jayanagar</td>\n",
       "      <td>1235.0</td>\n",
       "      <td>2.0</td>\n",
       "      <td>148.0</td>\n",
       "      <td>2</td>\n",
       "    </tr>\n",
       "  </tbody>\n",
       "</table>\n",
       "</div>"
      ],
      "text/plain": [
       "              location  total_sqft  bath  price  BHK\n",
       "0  1st Block Jayanagar      2850.0   4.0  428.0    4\n",
       "1  1st Block Jayanagar      1630.0   3.0  194.0    3\n",
       "2  1st Block Jayanagar      1875.0   2.0  235.0    3\n",
       "3  1st Block Jayanagar      1200.0   2.0  130.0    3\n",
       "4  1st Block Jayanagar      1235.0   2.0  148.0    2"
      ]
     },
     "execution_count": 43,
     "metadata": {},
     "output_type": "execute_result"
    }
   ],
   "source": [
    "df10 = df9.drop(['size','price_per_sqft'] , axis = 1)\n",
    "df10.head()"
   ]
  },
  {
   "cell_type": "markdown",
   "id": "cfe4bd4c",
   "metadata": {},
   "source": [
    "## Using one hot encoding for location"
   ]
  },
  {
   "cell_type": "code",
   "execution_count": 44,
   "id": "b5a2b655",
   "metadata": {},
   "outputs": [],
   "source": [
    "dummies = pd.get_dummies(df10.location)"
   ]
  },
  {
   "cell_type": "code",
   "execution_count": 45,
   "id": "55f770e9",
   "metadata": {},
   "outputs": [
    {
     "data": {
      "application/vnd.microsoft.datawrangler.viewer.v0+json": {
       "columns": [
        {
         "name": "index",
         "rawType": "int64",
         "type": "integer"
        },
        {
         "name": "location",
         "rawType": "object",
         "type": "string"
        },
        {
         "name": "total_sqft",
         "rawType": "float64",
         "type": "float"
        },
        {
         "name": "bath",
         "rawType": "float64",
         "type": "float"
        },
        {
         "name": "price",
         "rawType": "float64",
         "type": "float"
        },
        {
         "name": "BHK",
         "rawType": "int64",
         "type": "integer"
        },
        {
         "name": "1st Block Jayanagar",
         "rawType": "bool",
         "type": "boolean"
        },
        {
         "name": "1st Phase JP Nagar",
         "rawType": "bool",
         "type": "boolean"
        },
        {
         "name": "2nd Phase Judicial Layout",
         "rawType": "bool",
         "type": "boolean"
        },
        {
         "name": "2nd Stage Nagarbhavi",
         "rawType": "bool",
         "type": "boolean"
        },
        {
         "name": "5th Block Hbr Layout",
         "rawType": "bool",
         "type": "boolean"
        },
        {
         "name": "5th Phase JP Nagar",
         "rawType": "bool",
         "type": "boolean"
        },
        {
         "name": "6th Phase JP Nagar",
         "rawType": "bool",
         "type": "boolean"
        },
        {
         "name": "7th Phase JP Nagar",
         "rawType": "bool",
         "type": "boolean"
        },
        {
         "name": "8th Phase JP Nagar",
         "rawType": "bool",
         "type": "boolean"
        },
        {
         "name": "9th Phase JP Nagar",
         "rawType": "bool",
         "type": "boolean"
        },
        {
         "name": "AECS Layout",
         "rawType": "bool",
         "type": "boolean"
        },
        {
         "name": "Abbigere",
         "rawType": "bool",
         "type": "boolean"
        },
        {
         "name": "Akshaya Nagar",
         "rawType": "bool",
         "type": "boolean"
        },
        {
         "name": "Ambalipura",
         "rawType": "bool",
         "type": "boolean"
        },
        {
         "name": "Ambedkar Nagar",
         "rawType": "bool",
         "type": "boolean"
        },
        {
         "name": "Amruthahalli",
         "rawType": "bool",
         "type": "boolean"
        },
        {
         "name": "Anandapura",
         "rawType": "bool",
         "type": "boolean"
        },
        {
         "name": "Ananth Nagar",
         "rawType": "bool",
         "type": "boolean"
        },
        {
         "name": "Anekal",
         "rawType": "bool",
         "type": "boolean"
        },
        {
         "name": "Anjanapura",
         "rawType": "bool",
         "type": "boolean"
        },
        {
         "name": "Ardendale",
         "rawType": "bool",
         "type": "boolean"
        },
        {
         "name": "Arekere",
         "rawType": "bool",
         "type": "boolean"
        },
        {
         "name": "Attibele",
         "rawType": "bool",
         "type": "boolean"
        },
        {
         "name": "BEML Layout",
         "rawType": "bool",
         "type": "boolean"
        },
        {
         "name": "BTM 2nd Stage",
         "rawType": "bool",
         "type": "boolean"
        },
        {
         "name": "BTM Layout",
         "rawType": "bool",
         "type": "boolean"
        },
        {
         "name": "Babusapalaya",
         "rawType": "bool",
         "type": "boolean"
        },
        {
         "name": "Badavala Nagar",
         "rawType": "bool",
         "type": "boolean"
        },
        {
         "name": "Balagere",
         "rawType": "bool",
         "type": "boolean"
        },
        {
         "name": "Banashankari",
         "rawType": "bool",
         "type": "boolean"
        },
        {
         "name": "Banashankari Stage II",
         "rawType": "bool",
         "type": "boolean"
        },
        {
         "name": "Banashankari Stage III",
         "rawType": "bool",
         "type": "boolean"
        },
        {
         "name": "Banashankari Stage V",
         "rawType": "bool",
         "type": "boolean"
        },
        {
         "name": "Banashankari Stage VI",
         "rawType": "bool",
         "type": "boolean"
        },
        {
         "name": "Banaswadi",
         "rawType": "bool",
         "type": "boolean"
        },
        {
         "name": "Banjara Layout",
         "rawType": "bool",
         "type": "boolean"
        },
        {
         "name": "Bannerghatta",
         "rawType": "bool",
         "type": "boolean"
        },
        {
         "name": "Bannerghatta Road",
         "rawType": "bool",
         "type": "boolean"
        },
        {
         "name": "Basavangudi",
         "rawType": "bool",
         "type": "boolean"
        },
        {
         "name": "Basaveshwara Nagar",
         "rawType": "bool",
         "type": "boolean"
        },
        {
         "name": "Battarahalli",
         "rawType": "bool",
         "type": "boolean"
        },
        {
         "name": "Begur",
         "rawType": "bool",
         "type": "boolean"
        },
        {
         "name": "Begur Road",
         "rawType": "bool",
         "type": "boolean"
        },
        {
         "name": "Bellandur",
         "rawType": "bool",
         "type": "boolean"
        },
        {
         "name": "Benson Town",
         "rawType": "bool",
         "type": "boolean"
        },
        {
         "name": "Bharathi Nagar",
         "rawType": "bool",
         "type": "boolean"
        },
        {
         "name": "Bhoganhalli",
         "rawType": "bool",
         "type": "boolean"
        },
        {
         "name": "Billekahalli",
         "rawType": "bool",
         "type": "boolean"
        },
        {
         "name": "Binny Pete",
         "rawType": "bool",
         "type": "boolean"
        },
        {
         "name": "Bisuvanahalli",
         "rawType": "bool",
         "type": "boolean"
        },
        {
         "name": "Bommanahalli",
         "rawType": "bool",
         "type": "boolean"
        },
        {
         "name": "Bommasandra",
         "rawType": "bool",
         "type": "boolean"
        },
        {
         "name": "Bommasandra Industrial Area",
         "rawType": "bool",
         "type": "boolean"
        },
        {
         "name": "Bommenahalli",
         "rawType": "bool",
         "type": "boolean"
        },
        {
         "name": "Brookefield",
         "rawType": "bool",
         "type": "boolean"
        },
        {
         "name": "Budigere",
         "rawType": "bool",
         "type": "boolean"
        },
        {
         "name": "CV Raman Nagar",
         "rawType": "bool",
         "type": "boolean"
        },
        {
         "name": "Chamrajpet",
         "rawType": "bool",
         "type": "boolean"
        },
        {
         "name": "Chandapura",
         "rawType": "bool",
         "type": "boolean"
        },
        {
         "name": "Channasandra",
         "rawType": "bool",
         "type": "boolean"
        },
        {
         "name": "Chikka Tirupathi",
         "rawType": "bool",
         "type": "boolean"
        },
        {
         "name": "Chikkabanavar",
         "rawType": "bool",
         "type": "boolean"
        },
        {
         "name": "Chikkalasandra",
         "rawType": "bool",
         "type": "boolean"
        },
        {
         "name": "Choodasandra",
         "rawType": "bool",
         "type": "boolean"
        },
        {
         "name": "Cooke Town",
         "rawType": "bool",
         "type": "boolean"
        },
        {
         "name": "Cox Town",
         "rawType": "bool",
         "type": "boolean"
        },
        {
         "name": "Cunningham Road",
         "rawType": "bool",
         "type": "boolean"
        },
        {
         "name": "Dasanapura",
         "rawType": "bool",
         "type": "boolean"
        },
        {
         "name": "Dasarahalli",
         "rawType": "bool",
         "type": "boolean"
        },
        {
         "name": "Devanahalli",
         "rawType": "bool",
         "type": "boolean"
        },
        {
         "name": "Devarachikkanahalli",
         "rawType": "bool",
         "type": "boolean"
        },
        {
         "name": "Dodda Nekkundi",
         "rawType": "bool",
         "type": "boolean"
        },
        {
         "name": "Doddaballapur",
         "rawType": "bool",
         "type": "boolean"
        },
        {
         "name": "Doddakallasandra",
         "rawType": "bool",
         "type": "boolean"
        },
        {
         "name": "Doddathoguru",
         "rawType": "bool",
         "type": "boolean"
        },
        {
         "name": "Domlur",
         "rawType": "bool",
         "type": "boolean"
        },
        {
         "name": "Dommasandra",
         "rawType": "bool",
         "type": "boolean"
        },
        {
         "name": "EPIP Zone",
         "rawType": "bool",
         "type": "boolean"
        },
        {
         "name": "Electronic City",
         "rawType": "bool",
         "type": "boolean"
        },
        {
         "name": "Electronic City Phase II",
         "rawType": "bool",
         "type": "boolean"
        },
        {
         "name": "Electronics City Phase 1",
         "rawType": "bool",
         "type": "boolean"
        },
        {
         "name": "Frazer Town",
         "rawType": "bool",
         "type": "boolean"
        },
        {
         "name": "GM Palaya",
         "rawType": "bool",
         "type": "boolean"
        },
        {
         "name": "Garudachar Palya",
         "rawType": "bool",
         "type": "boolean"
        },
        {
         "name": "Giri Nagar",
         "rawType": "bool",
         "type": "boolean"
        },
        {
         "name": "Gollarapalya Hosahalli",
         "rawType": "bool",
         "type": "boolean"
        },
        {
         "name": "Gottigere",
         "rawType": "bool",
         "type": "boolean"
        },
        {
         "name": "Green Glen Layout",
         "rawType": "bool",
         "type": "boolean"
        },
        {
         "name": "Gubbalala",
         "rawType": "bool",
         "type": "boolean"
        },
        {
         "name": "Gunjur",
         "rawType": "bool",
         "type": "boolean"
        },
        {
         "name": "HAL 2nd Stage",
         "rawType": "bool",
         "type": "boolean"
        },
        {
         "name": "HBR Layout",
         "rawType": "bool",
         "type": "boolean"
        },
        {
         "name": "HRBR Layout",
         "rawType": "bool",
         "type": "boolean"
        },
        {
         "name": "HSR Layout",
         "rawType": "bool",
         "type": "boolean"
        },
        {
         "name": "Haralur Road",
         "rawType": "bool",
         "type": "boolean"
        },
        {
         "name": "Harlur",
         "rawType": "bool",
         "type": "boolean"
        },
        {
         "name": "Hebbal",
         "rawType": "bool",
         "type": "boolean"
        },
        {
         "name": "Hebbal Kempapura",
         "rawType": "bool",
         "type": "boolean"
        },
        {
         "name": "Hegde Nagar",
         "rawType": "bool",
         "type": "boolean"
        },
        {
         "name": "Hennur",
         "rawType": "bool",
         "type": "boolean"
        },
        {
         "name": "Hennur Road",
         "rawType": "bool",
         "type": "boolean"
        },
        {
         "name": "Hoodi",
         "rawType": "bool",
         "type": "boolean"
        },
        {
         "name": "Horamavu Agara",
         "rawType": "bool",
         "type": "boolean"
        },
        {
         "name": "Horamavu Banaswadi",
         "rawType": "bool",
         "type": "boolean"
        },
        {
         "name": "Hormavu",
         "rawType": "bool",
         "type": "boolean"
        },
        {
         "name": "Hosa Road",
         "rawType": "bool",
         "type": "boolean"
        },
        {
         "name": "Hosakerehalli",
         "rawType": "bool",
         "type": "boolean"
        },
        {
         "name": "Hoskote",
         "rawType": "bool",
         "type": "boolean"
        },
        {
         "name": "Hosur Road",
         "rawType": "bool",
         "type": "boolean"
        },
        {
         "name": "Hulimavu",
         "rawType": "bool",
         "type": "boolean"
        },
        {
         "name": "ISRO Layout",
         "rawType": "bool",
         "type": "boolean"
        },
        {
         "name": "ITPL",
         "rawType": "bool",
         "type": "boolean"
        },
        {
         "name": "Iblur Village",
         "rawType": "bool",
         "type": "boolean"
        },
        {
         "name": "Indira Nagar",
         "rawType": "bool",
         "type": "boolean"
        },
        {
         "name": "JP Nagar",
         "rawType": "bool",
         "type": "boolean"
        },
        {
         "name": "Jakkur",
         "rawType": "bool",
         "type": "boolean"
        },
        {
         "name": "Jalahalli",
         "rawType": "bool",
         "type": "boolean"
        },
        {
         "name": "Jalahalli East",
         "rawType": "bool",
         "type": "boolean"
        },
        {
         "name": "Jigani",
         "rawType": "bool",
         "type": "boolean"
        },
        {
         "name": "Judicial Layout",
         "rawType": "bool",
         "type": "boolean"
        },
        {
         "name": "KR Puram",
         "rawType": "bool",
         "type": "boolean"
        },
        {
         "name": "Kadubeesanahalli",
         "rawType": "bool",
         "type": "boolean"
        },
        {
         "name": "Kadugodi",
         "rawType": "bool",
         "type": "boolean"
        },
        {
         "name": "Kaggadasapura",
         "rawType": "bool",
         "type": "boolean"
        },
        {
         "name": "Kaggalipura",
         "rawType": "bool",
         "type": "boolean"
        },
        {
         "name": "Kaikondrahalli",
         "rawType": "bool",
         "type": "boolean"
        },
        {
         "name": "Kalena Agrahara",
         "rawType": "bool",
         "type": "boolean"
        },
        {
         "name": "Kalyan nagar",
         "rawType": "bool",
         "type": "boolean"
        },
        {
         "name": "Kambipura",
         "rawType": "bool",
         "type": "boolean"
        },
        {
         "name": "Kammanahalli",
         "rawType": "bool",
         "type": "boolean"
        },
        {
         "name": "Kammasandra",
         "rawType": "bool",
         "type": "boolean"
        },
        {
         "name": "Kanakapura",
         "rawType": "bool",
         "type": "boolean"
        },
        {
         "name": "Kanakpura Road",
         "rawType": "bool",
         "type": "boolean"
        },
        {
         "name": "Kannamangala",
         "rawType": "bool",
         "type": "boolean"
        },
        {
         "name": "Karuna Nagar",
         "rawType": "bool",
         "type": "boolean"
        },
        {
         "name": "Kasavanhalli",
         "rawType": "bool",
         "type": "boolean"
        },
        {
         "name": "Kasturi Nagar",
         "rawType": "bool",
         "type": "boolean"
        },
        {
         "name": "Kathriguppe",
         "rawType": "bool",
         "type": "boolean"
        },
        {
         "name": "Kaval Byrasandra",
         "rawType": "bool",
         "type": "boolean"
        },
        {
         "name": "Kenchenahalli",
         "rawType": "bool",
         "type": "boolean"
        },
        {
         "name": "Kengeri",
         "rawType": "bool",
         "type": "boolean"
        },
        {
         "name": "Kengeri Satellite Town",
         "rawType": "bool",
         "type": "boolean"
        },
        {
         "name": "Kereguddadahalli",
         "rawType": "bool",
         "type": "boolean"
        },
        {
         "name": "Kodichikkanahalli",
         "rawType": "bool",
         "type": "boolean"
        },
        {
         "name": "Kodigehaali",
         "rawType": "bool",
         "type": "boolean"
        },
        {
         "name": "Kodigehalli",
         "rawType": "bool",
         "type": "boolean"
        },
        {
         "name": "Kodihalli",
         "rawType": "bool",
         "type": "boolean"
        },
        {
         "name": "Kogilu",
         "rawType": "bool",
         "type": "boolean"
        },
        {
         "name": "Konanakunte",
         "rawType": "bool",
         "type": "boolean"
        },
        {
         "name": "Koramangala",
         "rawType": "bool",
         "type": "boolean"
        },
        {
         "name": "Kothannur",
         "rawType": "bool",
         "type": "boolean"
        },
        {
         "name": "Kothanur",
         "rawType": "bool",
         "type": "boolean"
        },
        {
         "name": "Kudlu",
         "rawType": "bool",
         "type": "boolean"
        },
        {
         "name": "Kudlu Gate",
         "rawType": "bool",
         "type": "boolean"
        },
        {
         "name": "Kumaraswami Layout",
         "rawType": "bool",
         "type": "boolean"
        },
        {
         "name": "Kundalahalli",
         "rawType": "bool",
         "type": "boolean"
        },
        {
         "name": "LB Shastri Nagar",
         "rawType": "bool",
         "type": "boolean"
        },
        {
         "name": "Laggere",
         "rawType": "bool",
         "type": "boolean"
        },
        {
         "name": "Lakshminarayana Pura",
         "rawType": "bool",
         "type": "boolean"
        },
        {
         "name": "Lingadheeranahalli",
         "rawType": "bool",
         "type": "boolean"
        },
        {
         "name": "Magadi Road",
         "rawType": "bool",
         "type": "boolean"
        },
        {
         "name": "Mahadevpura",
         "rawType": "bool",
         "type": "boolean"
        },
        {
         "name": "Mahalakshmi Layout",
         "rawType": "bool",
         "type": "boolean"
        },
        {
         "name": "Mallasandra",
         "rawType": "bool",
         "type": "boolean"
        },
        {
         "name": "Malleshpalya",
         "rawType": "bool",
         "type": "boolean"
        },
        {
         "name": "Malleshwaram",
         "rawType": "bool",
         "type": "boolean"
        },
        {
         "name": "Marathahalli",
         "rawType": "bool",
         "type": "boolean"
        },
        {
         "name": "Margondanahalli",
         "rawType": "bool",
         "type": "boolean"
        },
        {
         "name": "Marsur",
         "rawType": "bool",
         "type": "boolean"
        },
        {
         "name": "Mico Layout",
         "rawType": "bool",
         "type": "boolean"
        },
        {
         "name": "Munnekollal",
         "rawType": "bool",
         "type": "boolean"
        },
        {
         "name": "Murugeshpalya",
         "rawType": "bool",
         "type": "boolean"
        },
        {
         "name": "Mysore Road",
         "rawType": "bool",
         "type": "boolean"
        },
        {
         "name": "NGR Layout",
         "rawType": "bool",
         "type": "boolean"
        },
        {
         "name": "NRI Layout",
         "rawType": "bool",
         "type": "boolean"
        },
        {
         "name": "Nagarbhavi",
         "rawType": "bool",
         "type": "boolean"
        },
        {
         "name": "Nagasandra",
         "rawType": "bool",
         "type": "boolean"
        },
        {
         "name": "Nagavara",
         "rawType": "bool",
         "type": "boolean"
        },
        {
         "name": "Nagavarapalya",
         "rawType": "bool",
         "type": "boolean"
        },
        {
         "name": "Narayanapura",
         "rawType": "bool",
         "type": "boolean"
        },
        {
         "name": "Neeladri Nagar",
         "rawType": "bool",
         "type": "boolean"
        },
        {
         "name": "Nehru Nagar",
         "rawType": "bool",
         "type": "boolean"
        },
        {
         "name": "OMBR Layout",
         "rawType": "bool",
         "type": "boolean"
        },
        {
         "name": "Old Airport Road",
         "rawType": "bool",
         "type": "boolean"
        },
        {
         "name": "Old Madras Road",
         "rawType": "bool",
         "type": "boolean"
        },
        {
         "name": "Padmanabhanagar",
         "rawType": "bool",
         "type": "boolean"
        },
        {
         "name": "Pai Layout",
         "rawType": "bool",
         "type": "boolean"
        },
        {
         "name": "Panathur",
         "rawType": "bool",
         "type": "boolean"
        },
        {
         "name": "Parappana Agrahara",
         "rawType": "bool",
         "type": "boolean"
        },
        {
         "name": "Pattandur Agrahara",
         "rawType": "bool",
         "type": "boolean"
        },
        {
         "name": "Poorna Pragna Layout",
         "rawType": "bool",
         "type": "boolean"
        },
        {
         "name": "Prithvi Layout",
         "rawType": "bool",
         "type": "boolean"
        },
        {
         "name": "R.T. Nagar",
         "rawType": "bool",
         "type": "boolean"
        },
        {
         "name": "Rachenahalli",
         "rawType": "bool",
         "type": "boolean"
        },
        {
         "name": "Raja Rajeshwari Nagar",
         "rawType": "bool",
         "type": "boolean"
        },
        {
         "name": "Rajaji Nagar",
         "rawType": "bool",
         "type": "boolean"
        },
        {
         "name": "Rajiv Nagar",
         "rawType": "bool",
         "type": "boolean"
        },
        {
         "name": "Ramagondanahalli",
         "rawType": "bool",
         "type": "boolean"
        },
        {
         "name": "Ramamurthy Nagar",
         "rawType": "bool",
         "type": "boolean"
        },
        {
         "name": "Rayasandra",
         "rawType": "bool",
         "type": "boolean"
        },
        {
         "name": "Sahakara Nagar",
         "rawType": "bool",
         "type": "boolean"
        },
        {
         "name": "Sanjay nagar",
         "rawType": "bool",
         "type": "boolean"
        },
        {
         "name": "Sarakki Nagar",
         "rawType": "bool",
         "type": "boolean"
        },
        {
         "name": "Sarjapur",
         "rawType": "bool",
         "type": "boolean"
        },
        {
         "name": "Sarjapur  Road",
         "rawType": "bool",
         "type": "boolean"
        },
        {
         "name": "Sarjapura - Attibele Road",
         "rawType": "bool",
         "type": "boolean"
        },
        {
         "name": "Sector 2 HSR Layout",
         "rawType": "bool",
         "type": "boolean"
        },
        {
         "name": "Sector 7 HSR Layout",
         "rawType": "bool",
         "type": "boolean"
        },
        {
         "name": "Seegehalli",
         "rawType": "bool",
         "type": "boolean"
        },
        {
         "name": "Shampura",
         "rawType": "bool",
         "type": "boolean"
        },
        {
         "name": "Shivaji Nagar",
         "rawType": "bool",
         "type": "boolean"
        },
        {
         "name": "Singasandra",
         "rawType": "bool",
         "type": "boolean"
        },
        {
         "name": "Somasundara Palya",
         "rawType": "bool",
         "type": "boolean"
        },
        {
         "name": "Sompura",
         "rawType": "bool",
         "type": "boolean"
        },
        {
         "name": "Sonnenahalli",
         "rawType": "bool",
         "type": "boolean"
        },
        {
         "name": "Subramanyapura",
         "rawType": "bool",
         "type": "boolean"
        },
        {
         "name": "Sultan Palaya",
         "rawType": "bool",
         "type": "boolean"
        },
        {
         "name": "TC Palaya",
         "rawType": "bool",
         "type": "boolean"
        },
        {
         "name": "Talaghattapura",
         "rawType": "bool",
         "type": "boolean"
        },
        {
         "name": "Thanisandra",
         "rawType": "bool",
         "type": "boolean"
        },
        {
         "name": "Thigalarapalya",
         "rawType": "bool",
         "type": "boolean"
        },
        {
         "name": "Thubarahalli",
         "rawType": "bool",
         "type": "boolean"
        },
        {
         "name": "Thyagaraja Nagar",
         "rawType": "bool",
         "type": "boolean"
        },
        {
         "name": "Tindlu",
         "rawType": "bool",
         "type": "boolean"
        },
        {
         "name": "Tumkur Road",
         "rawType": "bool",
         "type": "boolean"
        },
        {
         "name": "Ulsoor",
         "rawType": "bool",
         "type": "boolean"
        },
        {
         "name": "Uttarahalli",
         "rawType": "bool",
         "type": "boolean"
        },
        {
         "name": "Varthur",
         "rawType": "bool",
         "type": "boolean"
        },
        {
         "name": "Varthur Road",
         "rawType": "bool",
         "type": "boolean"
        },
        {
         "name": "Vasanthapura",
         "rawType": "bool",
         "type": "boolean"
        },
        {
         "name": "Vidyaranyapura",
         "rawType": "bool",
         "type": "boolean"
        },
        {
         "name": "Vijayanagar",
         "rawType": "bool",
         "type": "boolean"
        },
        {
         "name": "Vishveshwarya Layout",
         "rawType": "bool",
         "type": "boolean"
        },
        {
         "name": "Vishwapriya Layout",
         "rawType": "bool",
         "type": "boolean"
        },
        {
         "name": "Vittasandra",
         "rawType": "bool",
         "type": "boolean"
        },
        {
         "name": "Whitefield",
         "rawType": "bool",
         "type": "boolean"
        },
        {
         "name": "Yelachenahalli",
         "rawType": "bool",
         "type": "boolean"
        },
        {
         "name": "Yelahanka",
         "rawType": "bool",
         "type": "boolean"
        },
        {
         "name": "Yelahanka New Town",
         "rawType": "bool",
         "type": "boolean"
        },
        {
         "name": "Yelenahalli",
         "rawType": "bool",
         "type": "boolean"
        },
        {
         "name": "Yeshwanthpur",
         "rawType": "bool",
         "type": "boolean"
        }
       ],
       "ref": "74b90732-9d1d-48d8-8bad-557f3b138ef8",
       "rows": [
        [
         "0",
         "1st Block Jayanagar",
         "2850.0",
         "4.0",
         "428.0",
         "4",
         "True",
         "False",
         "False",
         "False",
         "False",
         "False",
         "False",
         "False",
         "False",
         "False",
         "False",
         "False",
         "False",
         "False",
         "False",
         "False",
         "False",
         "False",
         "False",
         "False",
         "False",
         "False",
         "False",
         "False",
         "False",
         "False",
         "False",
         "False",
         "False",
         "False",
         "False",
         "False",
         "False",
         "False",
         "False",
         "False",
         "False",
         "False",
         "False",
         "False",
         "False",
         "False",
         "False",
         "False",
         "False",
         "False",
         "False",
         "False",
         "False",
         "False",
         "False",
         "False",
         "False",
         "False",
         "False",
         "False",
         "False",
         "False",
         "False",
         "False",
         "False",
         "False",
         "False",
         "False",
         "False",
         "False",
         "False",
         "False",
         "False",
         "False",
         "False",
         "False",
         "False",
         "False",
         "False",
         "False",
         "False",
         "False",
         "False",
         "False",
         "False",
         "False",
         "False",
         "False",
         "False",
         "False",
         "False",
         "False",
         "False",
         "False",
         "False",
         "False",
         "False",
         "False",
         "False",
         "False",
         "False",
         "False",
         "False",
         "False",
         "False",
         "False",
         "False",
         "False",
         "False",
         "False",
         "False",
         "False",
         "False",
         "False",
         "False",
         "False",
         "False",
         "False",
         "False",
         "False",
         "False",
         "False",
         "False",
         "False",
         "False",
         "False",
         "False",
         "False",
         "False",
         "False",
         "False",
         "False",
         "False",
         "False",
         "False",
         "False",
         "False",
         "False",
         "False",
         "False",
         "False",
         "False",
         "False",
         "False",
         "False",
         "False",
         "False",
         "False",
         "False",
         "False",
         "False",
         "False",
         "False",
         "False",
         "False",
         "False",
         "False",
         "False",
         "False",
         "False",
         "False",
         "False",
         "False",
         "False",
         "False",
         "False",
         "False",
         "False",
         "False",
         "False",
         "False",
         "False",
         "False",
         "False",
         "False",
         "False",
         "False",
         "False",
         "False",
         "False",
         "False",
         "False",
         "False",
         "False",
         "False",
         "False",
         "False",
         "False",
         "False",
         "False",
         "False",
         "False",
         "False",
         "False",
         "False",
         "False",
         "False",
         "False",
         "False",
         "False",
         "False",
         "False",
         "False",
         "False",
         "False",
         "False",
         "False",
         "False",
         "False",
         "False",
         "False",
         "False",
         "False",
         "False",
         "False",
         "False",
         "False",
         "False",
         "False",
         "False",
         "False",
         "False",
         "False",
         "False",
         "False",
         "False",
         "False",
         "False",
         "False",
         "False",
         "False",
         "False",
         "False",
         "False",
         "False",
         "False",
         "False",
         "False",
         "False",
         "False",
         "False",
         "False",
         "False",
         "False",
         "False"
        ],
        [
         "1",
         "1st Block Jayanagar",
         "1630.0",
         "3.0",
         "194.0",
         "3",
         "True",
         "False",
         "False",
         "False",
         "False",
         "False",
         "False",
         "False",
         "False",
         "False",
         "False",
         "False",
         "False",
         "False",
         "False",
         "False",
         "False",
         "False",
         "False",
         "False",
         "False",
         "False",
         "False",
         "False",
         "False",
         "False",
         "False",
         "False",
         "False",
         "False",
         "False",
         "False",
         "False",
         "False",
         "False",
         "False",
         "False",
         "False",
         "False",
         "False",
         "False",
         "False",
         "False",
         "False",
         "False",
         "False",
         "False",
         "False",
         "False",
         "False",
         "False",
         "False",
         "False",
         "False",
         "False",
         "False",
         "False",
         "False",
         "False",
         "False",
         "False",
         "False",
         "False",
         "False",
         "False",
         "False",
         "False",
         "False",
         "False",
         "False",
         "False",
         "False",
         "False",
         "False",
         "False",
         "False",
         "False",
         "False",
         "False",
         "False",
         "False",
         "False",
         "False",
         "False",
         "False",
         "False",
         "False",
         "False",
         "False",
         "False",
         "False",
         "False",
         "False",
         "False",
         "False",
         "False",
         "False",
         "False",
         "False",
         "False",
         "False",
         "False",
         "False",
         "False",
         "False",
         "False",
         "False",
         "False",
         "False",
         "False",
         "False",
         "False",
         "False",
         "False",
         "False",
         "False",
         "False",
         "False",
         "False",
         "False",
         "False",
         "False",
         "False",
         "False",
         "False",
         "False",
         "False",
         "False",
         "False",
         "False",
         "False",
         "False",
         "False",
         "False",
         "False",
         "False",
         "False",
         "False",
         "False",
         "False",
         "False",
         "False",
         "False",
         "False",
         "False",
         "False",
         "False",
         "False",
         "False",
         "False",
         "False",
         "False",
         "False",
         "False",
         "False",
         "False",
         "False",
         "False",
         "False",
         "False",
         "False",
         "False",
         "False",
         "False",
         "False",
         "False",
         "False",
         "False",
         "False",
         "False",
         "False",
         "False",
         "False",
         "False",
         "False",
         "False",
         "False",
         "False",
         "False",
         "False",
         "False",
         "False",
         "False",
         "False",
         "False",
         "False",
         "False",
         "False",
         "False",
         "False",
         "False",
         "False",
         "False",
         "False",
         "False",
         "False",
         "False",
         "False",
         "False",
         "False",
         "False",
         "False",
         "False",
         "False",
         "False",
         "False",
         "False",
         "False",
         "False",
         "False",
         "False",
         "False",
         "False",
         "False",
         "False",
         "False",
         "False",
         "False",
         "False",
         "False",
         "False",
         "False",
         "False",
         "False",
         "False",
         "False",
         "False",
         "False",
         "False",
         "False",
         "False",
         "False",
         "False",
         "False",
         "False",
         "False",
         "False",
         "False",
         "False",
         "False",
         "False"
        ],
        [
         "2",
         "1st Block Jayanagar",
         "1875.0",
         "2.0",
         "235.0",
         "3",
         "True",
         "False",
         "False",
         "False",
         "False",
         "False",
         "False",
         "False",
         "False",
         "False",
         "False",
         "False",
         "False",
         "False",
         "False",
         "False",
         "False",
         "False",
         "False",
         "False",
         "False",
         "False",
         "False",
         "False",
         "False",
         "False",
         "False",
         "False",
         "False",
         "False",
         "False",
         "False",
         "False",
         "False",
         "False",
         "False",
         "False",
         "False",
         "False",
         "False",
         "False",
         "False",
         "False",
         "False",
         "False",
         "False",
         "False",
         "False",
         "False",
         "False",
         "False",
         "False",
         "False",
         "False",
         "False",
         "False",
         "False",
         "False",
         "False",
         "False",
         "False",
         "False",
         "False",
         "False",
         "False",
         "False",
         "False",
         "False",
         "False",
         "False",
         "False",
         "False",
         "False",
         "False",
         "False",
         "False",
         "False",
         "False",
         "False",
         "False",
         "False",
         "False",
         "False",
         "False",
         "False",
         "False",
         "False",
         "False",
         "False",
         "False",
         "False",
         "False",
         "False",
         "False",
         "False",
         "False",
         "False",
         "False",
         "False",
         "False",
         "False",
         "False",
         "False",
         "False",
         "False",
         "False",
         "False",
         "False",
         "False",
         "False",
         "False",
         "False",
         "False",
         "False",
         "False",
         "False",
         "False",
         "False",
         "False",
         "False",
         "False",
         "False",
         "False",
         "False",
         "False",
         "False",
         "False",
         "False",
         "False",
         "False",
         "False",
         "False",
         "False",
         "False",
         "False",
         "False",
         "False",
         "False",
         "False",
         "False",
         "False",
         "False",
         "False",
         "False",
         "False",
         "False",
         "False",
         "False",
         "False",
         "False",
         "False",
         "False",
         "False",
         "False",
         "False",
         "False",
         "False",
         "False",
         "False",
         "False",
         "False",
         "False",
         "False",
         "False",
         "False",
         "False",
         "False",
         "False",
         "False",
         "False",
         "False",
         "False",
         "False",
         "False",
         "False",
         "False",
         "False",
         "False",
         "False",
         "False",
         "False",
         "False",
         "False",
         "False",
         "False",
         "False",
         "False",
         "False",
         "False",
         "False",
         "False",
         "False",
         "False",
         "False",
         "False",
         "False",
         "False",
         "False",
         "False",
         "False",
         "False",
         "False",
         "False",
         "False",
         "False",
         "False",
         "False",
         "False",
         "False",
         "False",
         "False",
         "False",
         "False",
         "False",
         "False",
         "False",
         "False",
         "False",
         "False",
         "False",
         "False",
         "False",
         "False",
         "False",
         "False",
         "False",
         "False",
         "False",
         "False",
         "False",
         "False",
         "False",
         "False",
         "False",
         "False",
         "False",
         "False",
         "False",
         "False",
         "False",
         "False"
        ],
        [
         "3",
         "1st Block Jayanagar",
         "1200.0",
         "2.0",
         "130.0",
         "3",
         "True",
         "False",
         "False",
         "False",
         "False",
         "False",
         "False",
         "False",
         "False",
         "False",
         "False",
         "False",
         "False",
         "False",
         "False",
         "False",
         "False",
         "False",
         "False",
         "False",
         "False",
         "False",
         "False",
         "False",
         "False",
         "False",
         "False",
         "False",
         "False",
         "False",
         "False",
         "False",
         "False",
         "False",
         "False",
         "False",
         "False",
         "False",
         "False",
         "False",
         "False",
         "False",
         "False",
         "False",
         "False",
         "False",
         "False",
         "False",
         "False",
         "False",
         "False",
         "False",
         "False",
         "False",
         "False",
         "False",
         "False",
         "False",
         "False",
         "False",
         "False",
         "False",
         "False",
         "False",
         "False",
         "False",
         "False",
         "False",
         "False",
         "False",
         "False",
         "False",
         "False",
         "False",
         "False",
         "False",
         "False",
         "False",
         "False",
         "False",
         "False",
         "False",
         "False",
         "False",
         "False",
         "False",
         "False",
         "False",
         "False",
         "False",
         "False",
         "False",
         "False",
         "False",
         "False",
         "False",
         "False",
         "False",
         "False",
         "False",
         "False",
         "False",
         "False",
         "False",
         "False",
         "False",
         "False",
         "False",
         "False",
         "False",
         "False",
         "False",
         "False",
         "False",
         "False",
         "False",
         "False",
         "False",
         "False",
         "False",
         "False",
         "False",
         "False",
         "False",
         "False",
         "False",
         "False",
         "False",
         "False",
         "False",
         "False",
         "False",
         "False",
         "False",
         "False",
         "False",
         "False",
         "False",
         "False",
         "False",
         "False",
         "False",
         "False",
         "False",
         "False",
         "False",
         "False",
         "False",
         "False",
         "False",
         "False",
         "False",
         "False",
         "False",
         "False",
         "False",
         "False",
         "False",
         "False",
         "False",
         "False",
         "False",
         "False",
         "False",
         "False",
         "False",
         "False",
         "False",
         "False",
         "False",
         "False",
         "False",
         "False",
         "False",
         "False",
         "False",
         "False",
         "False",
         "False",
         "False",
         "False",
         "False",
         "False",
         "False",
         "False",
         "False",
         "False",
         "False",
         "False",
         "False",
         "False",
         "False",
         "False",
         "False",
         "False",
         "False",
         "False",
         "False",
         "False",
         "False",
         "False",
         "False",
         "False",
         "False",
         "False",
         "False",
         "False",
         "False",
         "False",
         "False",
         "False",
         "False",
         "False",
         "False",
         "False",
         "False",
         "False",
         "False",
         "False",
         "False",
         "False",
         "False",
         "False",
         "False",
         "False",
         "False",
         "False",
         "False",
         "False",
         "False",
         "False",
         "False",
         "False",
         "False",
         "False",
         "False",
         "False",
         "False",
         "False",
         "False",
         "False"
        ],
        [
         "4",
         "1st Block Jayanagar",
         "1235.0",
         "2.0",
         "148.0",
         "2",
         "True",
         "False",
         "False",
         "False",
         "False",
         "False",
         "False",
         "False",
         "False",
         "False",
         "False",
         "False",
         "False",
         "False",
         "False",
         "False",
         "False",
         "False",
         "False",
         "False",
         "False",
         "False",
         "False",
         "False",
         "False",
         "False",
         "False",
         "False",
         "False",
         "False",
         "False",
         "False",
         "False",
         "False",
         "False",
         "False",
         "False",
         "False",
         "False",
         "False",
         "False",
         "False",
         "False",
         "False",
         "False",
         "False",
         "False",
         "False",
         "False",
         "False",
         "False",
         "False",
         "False",
         "False",
         "False",
         "False",
         "False",
         "False",
         "False",
         "False",
         "False",
         "False",
         "False",
         "False",
         "False",
         "False",
         "False",
         "False",
         "False",
         "False",
         "False",
         "False",
         "False",
         "False",
         "False",
         "False",
         "False",
         "False",
         "False",
         "False",
         "False",
         "False",
         "False",
         "False",
         "False",
         "False",
         "False",
         "False",
         "False",
         "False",
         "False",
         "False",
         "False",
         "False",
         "False",
         "False",
         "False",
         "False",
         "False",
         "False",
         "False",
         "False",
         "False",
         "False",
         "False",
         "False",
         "False",
         "False",
         "False",
         "False",
         "False",
         "False",
         "False",
         "False",
         "False",
         "False",
         "False",
         "False",
         "False",
         "False",
         "False",
         "False",
         "False",
         "False",
         "False",
         "False",
         "False",
         "False",
         "False",
         "False",
         "False",
         "False",
         "False",
         "False",
         "False",
         "False",
         "False",
         "False",
         "False",
         "False",
         "False",
         "False",
         "False",
         "False",
         "False",
         "False",
         "False",
         "False",
         "False",
         "False",
         "False",
         "False",
         "False",
         "False",
         "False",
         "False",
         "False",
         "False",
         "False",
         "False",
         "False",
         "False",
         "False",
         "False",
         "False",
         "False",
         "False",
         "False",
         "False",
         "False",
         "False",
         "False",
         "False",
         "False",
         "False",
         "False",
         "False",
         "False",
         "False",
         "False",
         "False",
         "False",
         "False",
         "False",
         "False",
         "False",
         "False",
         "False",
         "False",
         "False",
         "False",
         "False",
         "False",
         "False",
         "False",
         "False",
         "False",
         "False",
         "False",
         "False",
         "False",
         "False",
         "False",
         "False",
         "False",
         "False",
         "False",
         "False",
         "False",
         "False",
         "False",
         "False",
         "False",
         "False",
         "False",
         "False",
         "False",
         "False",
         "False",
         "False",
         "False",
         "False",
         "False",
         "False",
         "False",
         "False",
         "False",
         "False",
         "False",
         "False",
         "False",
         "False",
         "False",
         "False",
         "False",
         "False",
         "False",
         "False",
         "False",
         "False",
         "False"
        ]
       ],
       "shape": {
        "columns": 246,
        "rows": 5
       }
      },
      "text/html": [
       "<div>\n",
       "<style scoped>\n",
       "    .dataframe tbody tr th:only-of-type {\n",
       "        vertical-align: middle;\n",
       "    }\n",
       "\n",
       "    .dataframe tbody tr th {\n",
       "        vertical-align: top;\n",
       "    }\n",
       "\n",
       "    .dataframe thead th {\n",
       "        text-align: right;\n",
       "    }\n",
       "</style>\n",
       "<table border=\"1\" class=\"dataframe\">\n",
       "  <thead>\n",
       "    <tr style=\"text-align: right;\">\n",
       "      <th></th>\n",
       "      <th>location</th>\n",
       "      <th>total_sqft</th>\n",
       "      <th>bath</th>\n",
       "      <th>price</th>\n",
       "      <th>BHK</th>\n",
       "      <th>1st Block Jayanagar</th>\n",
       "      <th>1st Phase JP Nagar</th>\n",
       "      <th>2nd Phase Judicial Layout</th>\n",
       "      <th>2nd Stage Nagarbhavi</th>\n",
       "      <th>5th Block Hbr Layout</th>\n",
       "      <th>...</th>\n",
       "      <th>Vijayanagar</th>\n",
       "      <th>Vishveshwarya Layout</th>\n",
       "      <th>Vishwapriya Layout</th>\n",
       "      <th>Vittasandra</th>\n",
       "      <th>Whitefield</th>\n",
       "      <th>Yelachenahalli</th>\n",
       "      <th>Yelahanka</th>\n",
       "      <th>Yelahanka New Town</th>\n",
       "      <th>Yelenahalli</th>\n",
       "      <th>Yeshwanthpur</th>\n",
       "    </tr>\n",
       "  </thead>\n",
       "  <tbody>\n",
       "    <tr>\n",
       "      <th>0</th>\n",
       "      <td>1st Block Jayanagar</td>\n",
       "      <td>2850.0</td>\n",
       "      <td>4.0</td>\n",
       "      <td>428.0</td>\n",
       "      <td>4</td>\n",
       "      <td>True</td>\n",
       "      <td>False</td>\n",
       "      <td>False</td>\n",
       "      <td>False</td>\n",
       "      <td>False</td>\n",
       "      <td>...</td>\n",
       "      <td>False</td>\n",
       "      <td>False</td>\n",
       "      <td>False</td>\n",
       "      <td>False</td>\n",
       "      <td>False</td>\n",
       "      <td>False</td>\n",
       "      <td>False</td>\n",
       "      <td>False</td>\n",
       "      <td>False</td>\n",
       "      <td>False</td>\n",
       "    </tr>\n",
       "    <tr>\n",
       "      <th>1</th>\n",
       "      <td>1st Block Jayanagar</td>\n",
       "      <td>1630.0</td>\n",
       "      <td>3.0</td>\n",
       "      <td>194.0</td>\n",
       "      <td>3</td>\n",
       "      <td>True</td>\n",
       "      <td>False</td>\n",
       "      <td>False</td>\n",
       "      <td>False</td>\n",
       "      <td>False</td>\n",
       "      <td>...</td>\n",
       "      <td>False</td>\n",
       "      <td>False</td>\n",
       "      <td>False</td>\n",
       "      <td>False</td>\n",
       "      <td>False</td>\n",
       "      <td>False</td>\n",
       "      <td>False</td>\n",
       "      <td>False</td>\n",
       "      <td>False</td>\n",
       "      <td>False</td>\n",
       "    </tr>\n",
       "    <tr>\n",
       "      <th>2</th>\n",
       "      <td>1st Block Jayanagar</td>\n",
       "      <td>1875.0</td>\n",
       "      <td>2.0</td>\n",
       "      <td>235.0</td>\n",
       "      <td>3</td>\n",
       "      <td>True</td>\n",
       "      <td>False</td>\n",
       "      <td>False</td>\n",
       "      <td>False</td>\n",
       "      <td>False</td>\n",
       "      <td>...</td>\n",
       "      <td>False</td>\n",
       "      <td>False</td>\n",
       "      <td>False</td>\n",
       "      <td>False</td>\n",
       "      <td>False</td>\n",
       "      <td>False</td>\n",
       "      <td>False</td>\n",
       "      <td>False</td>\n",
       "      <td>False</td>\n",
       "      <td>False</td>\n",
       "    </tr>\n",
       "    <tr>\n",
       "      <th>3</th>\n",
       "      <td>1st Block Jayanagar</td>\n",
       "      <td>1200.0</td>\n",
       "      <td>2.0</td>\n",
       "      <td>130.0</td>\n",
       "      <td>3</td>\n",
       "      <td>True</td>\n",
       "      <td>False</td>\n",
       "      <td>False</td>\n",
       "      <td>False</td>\n",
       "      <td>False</td>\n",
       "      <td>...</td>\n",
       "      <td>False</td>\n",
       "      <td>False</td>\n",
       "      <td>False</td>\n",
       "      <td>False</td>\n",
       "      <td>False</td>\n",
       "      <td>False</td>\n",
       "      <td>False</td>\n",
       "      <td>False</td>\n",
       "      <td>False</td>\n",
       "      <td>False</td>\n",
       "    </tr>\n",
       "    <tr>\n",
       "      <th>4</th>\n",
       "      <td>1st Block Jayanagar</td>\n",
       "      <td>1235.0</td>\n",
       "      <td>2.0</td>\n",
       "      <td>148.0</td>\n",
       "      <td>2</td>\n",
       "      <td>True</td>\n",
       "      <td>False</td>\n",
       "      <td>False</td>\n",
       "      <td>False</td>\n",
       "      <td>False</td>\n",
       "      <td>...</td>\n",
       "      <td>False</td>\n",
       "      <td>False</td>\n",
       "      <td>False</td>\n",
       "      <td>False</td>\n",
       "      <td>False</td>\n",
       "      <td>False</td>\n",
       "      <td>False</td>\n",
       "      <td>False</td>\n",
       "      <td>False</td>\n",
       "      <td>False</td>\n",
       "    </tr>\n",
       "  </tbody>\n",
       "</table>\n",
       "<p>5 rows × 246 columns</p>\n",
       "</div>"
      ],
      "text/plain": [
       "              location  total_sqft  bath  price  BHK  1st Block Jayanagar  \\\n",
       "0  1st Block Jayanagar      2850.0   4.0  428.0    4                 True   \n",
       "1  1st Block Jayanagar      1630.0   3.0  194.0    3                 True   \n",
       "2  1st Block Jayanagar      1875.0   2.0  235.0    3                 True   \n",
       "3  1st Block Jayanagar      1200.0   2.0  130.0    3                 True   \n",
       "4  1st Block Jayanagar      1235.0   2.0  148.0    2                 True   \n",
       "\n",
       "   1st Phase JP Nagar  2nd Phase Judicial Layout  2nd Stage Nagarbhavi  \\\n",
       "0               False                      False                 False   \n",
       "1               False                      False                 False   \n",
       "2               False                      False                 False   \n",
       "3               False                      False                 False   \n",
       "4               False                      False                 False   \n",
       "\n",
       "   5th Block Hbr Layout  ...  Vijayanagar  Vishveshwarya Layout  \\\n",
       "0                 False  ...        False                 False   \n",
       "1                 False  ...        False                 False   \n",
       "2                 False  ...        False                 False   \n",
       "3                 False  ...        False                 False   \n",
       "4                 False  ...        False                 False   \n",
       "\n",
       "   Vishwapriya Layout  Vittasandra  Whitefield  Yelachenahalli  Yelahanka  \\\n",
       "0               False        False       False           False      False   \n",
       "1               False        False       False           False      False   \n",
       "2               False        False       False           False      False   \n",
       "3               False        False       False           False      False   \n",
       "4               False        False       False           False      False   \n",
       "\n",
       "   Yelahanka New Town  Yelenahalli  Yeshwanthpur  \n",
       "0               False        False         False  \n",
       "1               False        False         False  \n",
       "2               False        False         False  \n",
       "3               False        False         False  \n",
       "4               False        False         False  \n",
       "\n",
       "[5 rows x 246 columns]"
      ]
     },
     "execution_count": 45,
     "metadata": {},
     "output_type": "execute_result"
    }
   ],
   "source": [
    "df11 = pd.concat([df10,dummies.drop('Other', axis = 1)],axis = 1)\n",
    "df11.head()"
   ]
  },
  {
   "cell_type": "code",
   "execution_count": 46,
   "id": "5bdb7afd",
   "metadata": {},
   "outputs": [
    {
     "data": {
      "application/vnd.microsoft.datawrangler.viewer.v0+json": {
       "columns": [
        {
         "name": "index",
         "rawType": "int64",
         "type": "integer"
        },
        {
         "name": "total_sqft",
         "rawType": "float64",
         "type": "float"
        },
        {
         "name": "bath",
         "rawType": "float64",
         "type": "float"
        },
        {
         "name": "price",
         "rawType": "float64",
         "type": "float"
        },
        {
         "name": "BHK",
         "rawType": "int64",
         "type": "integer"
        },
        {
         "name": "1st Block Jayanagar",
         "rawType": "bool",
         "type": "boolean"
        },
        {
         "name": "1st Phase JP Nagar",
         "rawType": "bool",
         "type": "boolean"
        },
        {
         "name": "2nd Phase Judicial Layout",
         "rawType": "bool",
         "type": "boolean"
        },
        {
         "name": "2nd Stage Nagarbhavi",
         "rawType": "bool",
         "type": "boolean"
        },
        {
         "name": "5th Block Hbr Layout",
         "rawType": "bool",
         "type": "boolean"
        },
        {
         "name": "5th Phase JP Nagar",
         "rawType": "bool",
         "type": "boolean"
        },
        {
         "name": "6th Phase JP Nagar",
         "rawType": "bool",
         "type": "boolean"
        },
        {
         "name": "7th Phase JP Nagar",
         "rawType": "bool",
         "type": "boolean"
        },
        {
         "name": "8th Phase JP Nagar",
         "rawType": "bool",
         "type": "boolean"
        },
        {
         "name": "9th Phase JP Nagar",
         "rawType": "bool",
         "type": "boolean"
        },
        {
         "name": "AECS Layout",
         "rawType": "bool",
         "type": "boolean"
        },
        {
         "name": "Abbigere",
         "rawType": "bool",
         "type": "boolean"
        },
        {
         "name": "Akshaya Nagar",
         "rawType": "bool",
         "type": "boolean"
        },
        {
         "name": "Ambalipura",
         "rawType": "bool",
         "type": "boolean"
        },
        {
         "name": "Ambedkar Nagar",
         "rawType": "bool",
         "type": "boolean"
        },
        {
         "name": "Amruthahalli",
         "rawType": "bool",
         "type": "boolean"
        },
        {
         "name": "Anandapura",
         "rawType": "bool",
         "type": "boolean"
        },
        {
         "name": "Ananth Nagar",
         "rawType": "bool",
         "type": "boolean"
        },
        {
         "name": "Anekal",
         "rawType": "bool",
         "type": "boolean"
        },
        {
         "name": "Anjanapura",
         "rawType": "bool",
         "type": "boolean"
        },
        {
         "name": "Ardendale",
         "rawType": "bool",
         "type": "boolean"
        },
        {
         "name": "Arekere",
         "rawType": "bool",
         "type": "boolean"
        },
        {
         "name": "Attibele",
         "rawType": "bool",
         "type": "boolean"
        },
        {
         "name": "BEML Layout",
         "rawType": "bool",
         "type": "boolean"
        },
        {
         "name": "BTM 2nd Stage",
         "rawType": "bool",
         "type": "boolean"
        },
        {
         "name": "BTM Layout",
         "rawType": "bool",
         "type": "boolean"
        },
        {
         "name": "Babusapalaya",
         "rawType": "bool",
         "type": "boolean"
        },
        {
         "name": "Badavala Nagar",
         "rawType": "bool",
         "type": "boolean"
        },
        {
         "name": "Balagere",
         "rawType": "bool",
         "type": "boolean"
        },
        {
         "name": "Banashankari",
         "rawType": "bool",
         "type": "boolean"
        },
        {
         "name": "Banashankari Stage II",
         "rawType": "bool",
         "type": "boolean"
        },
        {
         "name": "Banashankari Stage III",
         "rawType": "bool",
         "type": "boolean"
        },
        {
         "name": "Banashankari Stage V",
         "rawType": "bool",
         "type": "boolean"
        },
        {
         "name": "Banashankari Stage VI",
         "rawType": "bool",
         "type": "boolean"
        },
        {
         "name": "Banaswadi",
         "rawType": "bool",
         "type": "boolean"
        },
        {
         "name": "Banjara Layout",
         "rawType": "bool",
         "type": "boolean"
        },
        {
         "name": "Bannerghatta",
         "rawType": "bool",
         "type": "boolean"
        },
        {
         "name": "Bannerghatta Road",
         "rawType": "bool",
         "type": "boolean"
        },
        {
         "name": "Basavangudi",
         "rawType": "bool",
         "type": "boolean"
        },
        {
         "name": "Basaveshwara Nagar",
         "rawType": "bool",
         "type": "boolean"
        },
        {
         "name": "Battarahalli",
         "rawType": "bool",
         "type": "boolean"
        },
        {
         "name": "Begur",
         "rawType": "bool",
         "type": "boolean"
        },
        {
         "name": "Begur Road",
         "rawType": "bool",
         "type": "boolean"
        },
        {
         "name": "Bellandur",
         "rawType": "bool",
         "type": "boolean"
        },
        {
         "name": "Benson Town",
         "rawType": "bool",
         "type": "boolean"
        },
        {
         "name": "Bharathi Nagar",
         "rawType": "bool",
         "type": "boolean"
        },
        {
         "name": "Bhoganhalli",
         "rawType": "bool",
         "type": "boolean"
        },
        {
         "name": "Billekahalli",
         "rawType": "bool",
         "type": "boolean"
        },
        {
         "name": "Binny Pete",
         "rawType": "bool",
         "type": "boolean"
        },
        {
         "name": "Bisuvanahalli",
         "rawType": "bool",
         "type": "boolean"
        },
        {
         "name": "Bommanahalli",
         "rawType": "bool",
         "type": "boolean"
        },
        {
         "name": "Bommasandra",
         "rawType": "bool",
         "type": "boolean"
        },
        {
         "name": "Bommasandra Industrial Area",
         "rawType": "bool",
         "type": "boolean"
        },
        {
         "name": "Bommenahalli",
         "rawType": "bool",
         "type": "boolean"
        },
        {
         "name": "Brookefield",
         "rawType": "bool",
         "type": "boolean"
        },
        {
         "name": "Budigere",
         "rawType": "bool",
         "type": "boolean"
        },
        {
         "name": "CV Raman Nagar",
         "rawType": "bool",
         "type": "boolean"
        },
        {
         "name": "Chamrajpet",
         "rawType": "bool",
         "type": "boolean"
        },
        {
         "name": "Chandapura",
         "rawType": "bool",
         "type": "boolean"
        },
        {
         "name": "Channasandra",
         "rawType": "bool",
         "type": "boolean"
        },
        {
         "name": "Chikka Tirupathi",
         "rawType": "bool",
         "type": "boolean"
        },
        {
         "name": "Chikkabanavar",
         "rawType": "bool",
         "type": "boolean"
        },
        {
         "name": "Chikkalasandra",
         "rawType": "bool",
         "type": "boolean"
        },
        {
         "name": "Choodasandra",
         "rawType": "bool",
         "type": "boolean"
        },
        {
         "name": "Cooke Town",
         "rawType": "bool",
         "type": "boolean"
        },
        {
         "name": "Cox Town",
         "rawType": "bool",
         "type": "boolean"
        },
        {
         "name": "Cunningham Road",
         "rawType": "bool",
         "type": "boolean"
        },
        {
         "name": "Dasanapura",
         "rawType": "bool",
         "type": "boolean"
        },
        {
         "name": "Dasarahalli",
         "rawType": "bool",
         "type": "boolean"
        },
        {
         "name": "Devanahalli",
         "rawType": "bool",
         "type": "boolean"
        },
        {
         "name": "Devarachikkanahalli",
         "rawType": "bool",
         "type": "boolean"
        },
        {
         "name": "Dodda Nekkundi",
         "rawType": "bool",
         "type": "boolean"
        },
        {
         "name": "Doddaballapur",
         "rawType": "bool",
         "type": "boolean"
        },
        {
         "name": "Doddakallasandra",
         "rawType": "bool",
         "type": "boolean"
        },
        {
         "name": "Doddathoguru",
         "rawType": "bool",
         "type": "boolean"
        },
        {
         "name": "Domlur",
         "rawType": "bool",
         "type": "boolean"
        },
        {
         "name": "Dommasandra",
         "rawType": "bool",
         "type": "boolean"
        },
        {
         "name": "EPIP Zone",
         "rawType": "bool",
         "type": "boolean"
        },
        {
         "name": "Electronic City",
         "rawType": "bool",
         "type": "boolean"
        },
        {
         "name": "Electronic City Phase II",
         "rawType": "bool",
         "type": "boolean"
        },
        {
         "name": "Electronics City Phase 1",
         "rawType": "bool",
         "type": "boolean"
        },
        {
         "name": "Frazer Town",
         "rawType": "bool",
         "type": "boolean"
        },
        {
         "name": "GM Palaya",
         "rawType": "bool",
         "type": "boolean"
        },
        {
         "name": "Garudachar Palya",
         "rawType": "bool",
         "type": "boolean"
        },
        {
         "name": "Giri Nagar",
         "rawType": "bool",
         "type": "boolean"
        },
        {
         "name": "Gollarapalya Hosahalli",
         "rawType": "bool",
         "type": "boolean"
        },
        {
         "name": "Gottigere",
         "rawType": "bool",
         "type": "boolean"
        },
        {
         "name": "Green Glen Layout",
         "rawType": "bool",
         "type": "boolean"
        },
        {
         "name": "Gubbalala",
         "rawType": "bool",
         "type": "boolean"
        },
        {
         "name": "Gunjur",
         "rawType": "bool",
         "type": "boolean"
        },
        {
         "name": "HAL 2nd Stage",
         "rawType": "bool",
         "type": "boolean"
        },
        {
         "name": "HBR Layout",
         "rawType": "bool",
         "type": "boolean"
        },
        {
         "name": "HRBR Layout",
         "rawType": "bool",
         "type": "boolean"
        },
        {
         "name": "HSR Layout",
         "rawType": "bool",
         "type": "boolean"
        },
        {
         "name": "Haralur Road",
         "rawType": "bool",
         "type": "boolean"
        },
        {
         "name": "Harlur",
         "rawType": "bool",
         "type": "boolean"
        },
        {
         "name": "Hebbal",
         "rawType": "bool",
         "type": "boolean"
        },
        {
         "name": "Hebbal Kempapura",
         "rawType": "bool",
         "type": "boolean"
        },
        {
         "name": "Hegde Nagar",
         "rawType": "bool",
         "type": "boolean"
        },
        {
         "name": "Hennur",
         "rawType": "bool",
         "type": "boolean"
        },
        {
         "name": "Hennur Road",
         "rawType": "bool",
         "type": "boolean"
        },
        {
         "name": "Hoodi",
         "rawType": "bool",
         "type": "boolean"
        },
        {
         "name": "Horamavu Agara",
         "rawType": "bool",
         "type": "boolean"
        },
        {
         "name": "Horamavu Banaswadi",
         "rawType": "bool",
         "type": "boolean"
        },
        {
         "name": "Hormavu",
         "rawType": "bool",
         "type": "boolean"
        },
        {
         "name": "Hosa Road",
         "rawType": "bool",
         "type": "boolean"
        },
        {
         "name": "Hosakerehalli",
         "rawType": "bool",
         "type": "boolean"
        },
        {
         "name": "Hoskote",
         "rawType": "bool",
         "type": "boolean"
        },
        {
         "name": "Hosur Road",
         "rawType": "bool",
         "type": "boolean"
        },
        {
         "name": "Hulimavu",
         "rawType": "bool",
         "type": "boolean"
        },
        {
         "name": "ISRO Layout",
         "rawType": "bool",
         "type": "boolean"
        },
        {
         "name": "ITPL",
         "rawType": "bool",
         "type": "boolean"
        },
        {
         "name": "Iblur Village",
         "rawType": "bool",
         "type": "boolean"
        },
        {
         "name": "Indira Nagar",
         "rawType": "bool",
         "type": "boolean"
        },
        {
         "name": "JP Nagar",
         "rawType": "bool",
         "type": "boolean"
        },
        {
         "name": "Jakkur",
         "rawType": "bool",
         "type": "boolean"
        },
        {
         "name": "Jalahalli",
         "rawType": "bool",
         "type": "boolean"
        },
        {
         "name": "Jalahalli East",
         "rawType": "bool",
         "type": "boolean"
        },
        {
         "name": "Jigani",
         "rawType": "bool",
         "type": "boolean"
        },
        {
         "name": "Judicial Layout",
         "rawType": "bool",
         "type": "boolean"
        },
        {
         "name": "KR Puram",
         "rawType": "bool",
         "type": "boolean"
        },
        {
         "name": "Kadubeesanahalli",
         "rawType": "bool",
         "type": "boolean"
        },
        {
         "name": "Kadugodi",
         "rawType": "bool",
         "type": "boolean"
        },
        {
         "name": "Kaggadasapura",
         "rawType": "bool",
         "type": "boolean"
        },
        {
         "name": "Kaggalipura",
         "rawType": "bool",
         "type": "boolean"
        },
        {
         "name": "Kaikondrahalli",
         "rawType": "bool",
         "type": "boolean"
        },
        {
         "name": "Kalena Agrahara",
         "rawType": "bool",
         "type": "boolean"
        },
        {
         "name": "Kalyan nagar",
         "rawType": "bool",
         "type": "boolean"
        },
        {
         "name": "Kambipura",
         "rawType": "bool",
         "type": "boolean"
        },
        {
         "name": "Kammanahalli",
         "rawType": "bool",
         "type": "boolean"
        },
        {
         "name": "Kammasandra",
         "rawType": "bool",
         "type": "boolean"
        },
        {
         "name": "Kanakapura",
         "rawType": "bool",
         "type": "boolean"
        },
        {
         "name": "Kanakpura Road",
         "rawType": "bool",
         "type": "boolean"
        },
        {
         "name": "Kannamangala",
         "rawType": "bool",
         "type": "boolean"
        },
        {
         "name": "Karuna Nagar",
         "rawType": "bool",
         "type": "boolean"
        },
        {
         "name": "Kasavanhalli",
         "rawType": "bool",
         "type": "boolean"
        },
        {
         "name": "Kasturi Nagar",
         "rawType": "bool",
         "type": "boolean"
        },
        {
         "name": "Kathriguppe",
         "rawType": "bool",
         "type": "boolean"
        },
        {
         "name": "Kaval Byrasandra",
         "rawType": "bool",
         "type": "boolean"
        },
        {
         "name": "Kenchenahalli",
         "rawType": "bool",
         "type": "boolean"
        },
        {
         "name": "Kengeri",
         "rawType": "bool",
         "type": "boolean"
        },
        {
         "name": "Kengeri Satellite Town",
         "rawType": "bool",
         "type": "boolean"
        },
        {
         "name": "Kereguddadahalli",
         "rawType": "bool",
         "type": "boolean"
        },
        {
         "name": "Kodichikkanahalli",
         "rawType": "bool",
         "type": "boolean"
        },
        {
         "name": "Kodigehaali",
         "rawType": "bool",
         "type": "boolean"
        },
        {
         "name": "Kodigehalli",
         "rawType": "bool",
         "type": "boolean"
        },
        {
         "name": "Kodihalli",
         "rawType": "bool",
         "type": "boolean"
        },
        {
         "name": "Kogilu",
         "rawType": "bool",
         "type": "boolean"
        },
        {
         "name": "Konanakunte",
         "rawType": "bool",
         "type": "boolean"
        },
        {
         "name": "Koramangala",
         "rawType": "bool",
         "type": "boolean"
        },
        {
         "name": "Kothannur",
         "rawType": "bool",
         "type": "boolean"
        },
        {
         "name": "Kothanur",
         "rawType": "bool",
         "type": "boolean"
        },
        {
         "name": "Kudlu",
         "rawType": "bool",
         "type": "boolean"
        },
        {
         "name": "Kudlu Gate",
         "rawType": "bool",
         "type": "boolean"
        },
        {
         "name": "Kumaraswami Layout",
         "rawType": "bool",
         "type": "boolean"
        },
        {
         "name": "Kundalahalli",
         "rawType": "bool",
         "type": "boolean"
        },
        {
         "name": "LB Shastri Nagar",
         "rawType": "bool",
         "type": "boolean"
        },
        {
         "name": "Laggere",
         "rawType": "bool",
         "type": "boolean"
        },
        {
         "name": "Lakshminarayana Pura",
         "rawType": "bool",
         "type": "boolean"
        },
        {
         "name": "Lingadheeranahalli",
         "rawType": "bool",
         "type": "boolean"
        },
        {
         "name": "Magadi Road",
         "rawType": "bool",
         "type": "boolean"
        },
        {
         "name": "Mahadevpura",
         "rawType": "bool",
         "type": "boolean"
        },
        {
         "name": "Mahalakshmi Layout",
         "rawType": "bool",
         "type": "boolean"
        },
        {
         "name": "Mallasandra",
         "rawType": "bool",
         "type": "boolean"
        },
        {
         "name": "Malleshpalya",
         "rawType": "bool",
         "type": "boolean"
        },
        {
         "name": "Malleshwaram",
         "rawType": "bool",
         "type": "boolean"
        },
        {
         "name": "Marathahalli",
         "rawType": "bool",
         "type": "boolean"
        },
        {
         "name": "Margondanahalli",
         "rawType": "bool",
         "type": "boolean"
        },
        {
         "name": "Marsur",
         "rawType": "bool",
         "type": "boolean"
        },
        {
         "name": "Mico Layout",
         "rawType": "bool",
         "type": "boolean"
        },
        {
         "name": "Munnekollal",
         "rawType": "bool",
         "type": "boolean"
        },
        {
         "name": "Murugeshpalya",
         "rawType": "bool",
         "type": "boolean"
        },
        {
         "name": "Mysore Road",
         "rawType": "bool",
         "type": "boolean"
        },
        {
         "name": "NGR Layout",
         "rawType": "bool",
         "type": "boolean"
        },
        {
         "name": "NRI Layout",
         "rawType": "bool",
         "type": "boolean"
        },
        {
         "name": "Nagarbhavi",
         "rawType": "bool",
         "type": "boolean"
        },
        {
         "name": "Nagasandra",
         "rawType": "bool",
         "type": "boolean"
        },
        {
         "name": "Nagavara",
         "rawType": "bool",
         "type": "boolean"
        },
        {
         "name": "Nagavarapalya",
         "rawType": "bool",
         "type": "boolean"
        },
        {
         "name": "Narayanapura",
         "rawType": "bool",
         "type": "boolean"
        },
        {
         "name": "Neeladri Nagar",
         "rawType": "bool",
         "type": "boolean"
        },
        {
         "name": "Nehru Nagar",
         "rawType": "bool",
         "type": "boolean"
        },
        {
         "name": "OMBR Layout",
         "rawType": "bool",
         "type": "boolean"
        },
        {
         "name": "Old Airport Road",
         "rawType": "bool",
         "type": "boolean"
        },
        {
         "name": "Old Madras Road",
         "rawType": "bool",
         "type": "boolean"
        },
        {
         "name": "Padmanabhanagar",
         "rawType": "bool",
         "type": "boolean"
        },
        {
         "name": "Pai Layout",
         "rawType": "bool",
         "type": "boolean"
        },
        {
         "name": "Panathur",
         "rawType": "bool",
         "type": "boolean"
        },
        {
         "name": "Parappana Agrahara",
         "rawType": "bool",
         "type": "boolean"
        },
        {
         "name": "Pattandur Agrahara",
         "rawType": "bool",
         "type": "boolean"
        },
        {
         "name": "Poorna Pragna Layout",
         "rawType": "bool",
         "type": "boolean"
        },
        {
         "name": "Prithvi Layout",
         "rawType": "bool",
         "type": "boolean"
        },
        {
         "name": "R.T. Nagar",
         "rawType": "bool",
         "type": "boolean"
        },
        {
         "name": "Rachenahalli",
         "rawType": "bool",
         "type": "boolean"
        },
        {
         "name": "Raja Rajeshwari Nagar",
         "rawType": "bool",
         "type": "boolean"
        },
        {
         "name": "Rajaji Nagar",
         "rawType": "bool",
         "type": "boolean"
        },
        {
         "name": "Rajiv Nagar",
         "rawType": "bool",
         "type": "boolean"
        },
        {
         "name": "Ramagondanahalli",
         "rawType": "bool",
         "type": "boolean"
        },
        {
         "name": "Ramamurthy Nagar",
         "rawType": "bool",
         "type": "boolean"
        },
        {
         "name": "Rayasandra",
         "rawType": "bool",
         "type": "boolean"
        },
        {
         "name": "Sahakara Nagar",
         "rawType": "bool",
         "type": "boolean"
        },
        {
         "name": "Sanjay nagar",
         "rawType": "bool",
         "type": "boolean"
        },
        {
         "name": "Sarakki Nagar",
         "rawType": "bool",
         "type": "boolean"
        },
        {
         "name": "Sarjapur",
         "rawType": "bool",
         "type": "boolean"
        },
        {
         "name": "Sarjapur  Road",
         "rawType": "bool",
         "type": "boolean"
        },
        {
         "name": "Sarjapura - Attibele Road",
         "rawType": "bool",
         "type": "boolean"
        },
        {
         "name": "Sector 2 HSR Layout",
         "rawType": "bool",
         "type": "boolean"
        },
        {
         "name": "Sector 7 HSR Layout",
         "rawType": "bool",
         "type": "boolean"
        },
        {
         "name": "Seegehalli",
         "rawType": "bool",
         "type": "boolean"
        },
        {
         "name": "Shampura",
         "rawType": "bool",
         "type": "boolean"
        },
        {
         "name": "Shivaji Nagar",
         "rawType": "bool",
         "type": "boolean"
        },
        {
         "name": "Singasandra",
         "rawType": "bool",
         "type": "boolean"
        },
        {
         "name": "Somasundara Palya",
         "rawType": "bool",
         "type": "boolean"
        },
        {
         "name": "Sompura",
         "rawType": "bool",
         "type": "boolean"
        },
        {
         "name": "Sonnenahalli",
         "rawType": "bool",
         "type": "boolean"
        },
        {
         "name": "Subramanyapura",
         "rawType": "bool",
         "type": "boolean"
        },
        {
         "name": "Sultan Palaya",
         "rawType": "bool",
         "type": "boolean"
        },
        {
         "name": "TC Palaya",
         "rawType": "bool",
         "type": "boolean"
        },
        {
         "name": "Talaghattapura",
         "rawType": "bool",
         "type": "boolean"
        },
        {
         "name": "Thanisandra",
         "rawType": "bool",
         "type": "boolean"
        },
        {
         "name": "Thigalarapalya",
         "rawType": "bool",
         "type": "boolean"
        },
        {
         "name": "Thubarahalli",
         "rawType": "bool",
         "type": "boolean"
        },
        {
         "name": "Thyagaraja Nagar",
         "rawType": "bool",
         "type": "boolean"
        },
        {
         "name": "Tindlu",
         "rawType": "bool",
         "type": "boolean"
        },
        {
         "name": "Tumkur Road",
         "rawType": "bool",
         "type": "boolean"
        },
        {
         "name": "Ulsoor",
         "rawType": "bool",
         "type": "boolean"
        },
        {
         "name": "Uttarahalli",
         "rawType": "bool",
         "type": "boolean"
        },
        {
         "name": "Varthur",
         "rawType": "bool",
         "type": "boolean"
        },
        {
         "name": "Varthur Road",
         "rawType": "bool",
         "type": "boolean"
        },
        {
         "name": "Vasanthapura",
         "rawType": "bool",
         "type": "boolean"
        },
        {
         "name": "Vidyaranyapura",
         "rawType": "bool",
         "type": "boolean"
        },
        {
         "name": "Vijayanagar",
         "rawType": "bool",
         "type": "boolean"
        },
        {
         "name": "Vishveshwarya Layout",
         "rawType": "bool",
         "type": "boolean"
        },
        {
         "name": "Vishwapriya Layout",
         "rawType": "bool",
         "type": "boolean"
        },
        {
         "name": "Vittasandra",
         "rawType": "bool",
         "type": "boolean"
        },
        {
         "name": "Whitefield",
         "rawType": "bool",
         "type": "boolean"
        },
        {
         "name": "Yelachenahalli",
         "rawType": "bool",
         "type": "boolean"
        },
        {
         "name": "Yelahanka",
         "rawType": "bool",
         "type": "boolean"
        },
        {
         "name": "Yelahanka New Town",
         "rawType": "bool",
         "type": "boolean"
        },
        {
         "name": "Yelenahalli",
         "rawType": "bool",
         "type": "boolean"
        },
        {
         "name": "Yeshwanthpur",
         "rawType": "bool",
         "type": "boolean"
        }
       ],
       "ref": "4b8cd798-4e08-415b-92ef-3737e0350892",
       "rows": [
        [
         "0",
         "2850.0",
         "4.0",
         "428.0",
         "4",
         "True",
         "False",
         "False",
         "False",
         "False",
         "False",
         "False",
         "False",
         "False",
         "False",
         "False",
         "False",
         "False",
         "False",
         "False",
         "False",
         "False",
         "False",
         "False",
         "False",
         "False",
         "False",
         "False",
         "False",
         "False",
         "False",
         "False",
         "False",
         "False",
         "False",
         "False",
         "False",
         "False",
         "False",
         "False",
         "False",
         "False",
         "False",
         "False",
         "False",
         "False",
         "False",
         "False",
         "False",
         "False",
         "False",
         "False",
         "False",
         "False",
         "False",
         "False",
         "False",
         "False",
         "False",
         "False",
         "False",
         "False",
         "False",
         "False",
         "False",
         "False",
         "False",
         "False",
         "False",
         "False",
         "False",
         "False",
         "False",
         "False",
         "False",
         "False",
         "False",
         "False",
         "False",
         "False",
         "False",
         "False",
         "False",
         "False",
         "False",
         "False",
         "False",
         "False",
         "False",
         "False",
         "False",
         "False",
         "False",
         "False",
         "False",
         "False",
         "False",
         "False",
         "False",
         "False",
         "False",
         "False",
         "False",
         "False",
         "False",
         "False",
         "False",
         "False",
         "False",
         "False",
         "False",
         "False",
         "False",
         "False",
         "False",
         "False",
         "False",
         "False",
         "False",
         "False",
         "False",
         "False",
         "False",
         "False",
         "False",
         "False",
         "False",
         "False",
         "False",
         "False",
         "False",
         "False",
         "False",
         "False",
         "False",
         "False",
         "False",
         "False",
         "False",
         "False",
         "False",
         "False",
         "False",
         "False",
         "False",
         "False",
         "False",
         "False",
         "False",
         "False",
         "False",
         "False",
         "False",
         "False",
         "False",
         "False",
         "False",
         "False",
         "False",
         "False",
         "False",
         "False",
         "False",
         "False",
         "False",
         "False",
         "False",
         "False",
         "False",
         "False",
         "False",
         "False",
         "False",
         "False",
         "False",
         "False",
         "False",
         "False",
         "False",
         "False",
         "False",
         "False",
         "False",
         "False",
         "False",
         "False",
         "False",
         "False",
         "False",
         "False",
         "False",
         "False",
         "False",
         "False",
         "False",
         "False",
         "False",
         "False",
         "False",
         "False",
         "False",
         "False",
         "False",
         "False",
         "False",
         "False",
         "False",
         "False",
         "False",
         "False",
         "False",
         "False",
         "False",
         "False",
         "False",
         "False",
         "False",
         "False",
         "False",
         "False",
         "False",
         "False",
         "False",
         "False",
         "False",
         "False",
         "False",
         "False",
         "False",
         "False",
         "False",
         "False",
         "False",
         "False",
         "False",
         "False",
         "False",
         "False",
         "False",
         "False",
         "False",
         "False",
         "False",
         "False",
         "False",
         "False"
        ],
        [
         "1",
         "1630.0",
         "3.0",
         "194.0",
         "3",
         "True",
         "False",
         "False",
         "False",
         "False",
         "False",
         "False",
         "False",
         "False",
         "False",
         "False",
         "False",
         "False",
         "False",
         "False",
         "False",
         "False",
         "False",
         "False",
         "False",
         "False",
         "False",
         "False",
         "False",
         "False",
         "False",
         "False",
         "False",
         "False",
         "False",
         "False",
         "False",
         "False",
         "False",
         "False",
         "False",
         "False",
         "False",
         "False",
         "False",
         "False",
         "False",
         "False",
         "False",
         "False",
         "False",
         "False",
         "False",
         "False",
         "False",
         "False",
         "False",
         "False",
         "False",
         "False",
         "False",
         "False",
         "False",
         "False",
         "False",
         "False",
         "False",
         "False",
         "False",
         "False",
         "False",
         "False",
         "False",
         "False",
         "False",
         "False",
         "False",
         "False",
         "False",
         "False",
         "False",
         "False",
         "False",
         "False",
         "False",
         "False",
         "False",
         "False",
         "False",
         "False",
         "False",
         "False",
         "False",
         "False",
         "False",
         "False",
         "False",
         "False",
         "False",
         "False",
         "False",
         "False",
         "False",
         "False",
         "False",
         "False",
         "False",
         "False",
         "False",
         "False",
         "False",
         "False",
         "False",
         "False",
         "False",
         "False",
         "False",
         "False",
         "False",
         "False",
         "False",
         "False",
         "False",
         "False",
         "False",
         "False",
         "False",
         "False",
         "False",
         "False",
         "False",
         "False",
         "False",
         "False",
         "False",
         "False",
         "False",
         "False",
         "False",
         "False",
         "False",
         "False",
         "False",
         "False",
         "False",
         "False",
         "False",
         "False",
         "False",
         "False",
         "False",
         "False",
         "False",
         "False",
         "False",
         "False",
         "False",
         "False",
         "False",
         "False",
         "False",
         "False",
         "False",
         "False",
         "False",
         "False",
         "False",
         "False",
         "False",
         "False",
         "False",
         "False",
         "False",
         "False",
         "False",
         "False",
         "False",
         "False",
         "False",
         "False",
         "False",
         "False",
         "False",
         "False",
         "False",
         "False",
         "False",
         "False",
         "False",
         "False",
         "False",
         "False",
         "False",
         "False",
         "False",
         "False",
         "False",
         "False",
         "False",
         "False",
         "False",
         "False",
         "False",
         "False",
         "False",
         "False",
         "False",
         "False",
         "False",
         "False",
         "False",
         "False",
         "False",
         "False",
         "False",
         "False",
         "False",
         "False",
         "False",
         "False",
         "False",
         "False",
         "False",
         "False",
         "False",
         "False",
         "False",
         "False",
         "False",
         "False",
         "False",
         "False",
         "False",
         "False",
         "False",
         "False",
         "False",
         "False",
         "False",
         "False",
         "False",
         "False",
         "False",
         "False",
         "False",
         "False"
        ],
        [
         "2",
         "1875.0",
         "2.0",
         "235.0",
         "3",
         "True",
         "False",
         "False",
         "False",
         "False",
         "False",
         "False",
         "False",
         "False",
         "False",
         "False",
         "False",
         "False",
         "False",
         "False",
         "False",
         "False",
         "False",
         "False",
         "False",
         "False",
         "False",
         "False",
         "False",
         "False",
         "False",
         "False",
         "False",
         "False",
         "False",
         "False",
         "False",
         "False",
         "False",
         "False",
         "False",
         "False",
         "False",
         "False",
         "False",
         "False",
         "False",
         "False",
         "False",
         "False",
         "False",
         "False",
         "False",
         "False",
         "False",
         "False",
         "False",
         "False",
         "False",
         "False",
         "False",
         "False",
         "False",
         "False",
         "False",
         "False",
         "False",
         "False",
         "False",
         "False",
         "False",
         "False",
         "False",
         "False",
         "False",
         "False",
         "False",
         "False",
         "False",
         "False",
         "False",
         "False",
         "False",
         "False",
         "False",
         "False",
         "False",
         "False",
         "False",
         "False",
         "False",
         "False",
         "False",
         "False",
         "False",
         "False",
         "False",
         "False",
         "False",
         "False",
         "False",
         "False",
         "False",
         "False",
         "False",
         "False",
         "False",
         "False",
         "False",
         "False",
         "False",
         "False",
         "False",
         "False",
         "False",
         "False",
         "False",
         "False",
         "False",
         "False",
         "False",
         "False",
         "False",
         "False",
         "False",
         "False",
         "False",
         "False",
         "False",
         "False",
         "False",
         "False",
         "False",
         "False",
         "False",
         "False",
         "False",
         "False",
         "False",
         "False",
         "False",
         "False",
         "False",
         "False",
         "False",
         "False",
         "False",
         "False",
         "False",
         "False",
         "False",
         "False",
         "False",
         "False",
         "False",
         "False",
         "False",
         "False",
         "False",
         "False",
         "False",
         "False",
         "False",
         "False",
         "False",
         "False",
         "False",
         "False",
         "False",
         "False",
         "False",
         "False",
         "False",
         "False",
         "False",
         "False",
         "False",
         "False",
         "False",
         "False",
         "False",
         "False",
         "False",
         "False",
         "False",
         "False",
         "False",
         "False",
         "False",
         "False",
         "False",
         "False",
         "False",
         "False",
         "False",
         "False",
         "False",
         "False",
         "False",
         "False",
         "False",
         "False",
         "False",
         "False",
         "False",
         "False",
         "False",
         "False",
         "False",
         "False",
         "False",
         "False",
         "False",
         "False",
         "False",
         "False",
         "False",
         "False",
         "False",
         "False",
         "False",
         "False",
         "False",
         "False",
         "False",
         "False",
         "False",
         "False",
         "False",
         "False",
         "False",
         "False",
         "False",
         "False",
         "False",
         "False",
         "False",
         "False",
         "False",
         "False",
         "False",
         "False",
         "False",
         "False",
         "False",
         "False"
        ],
        [
         "3",
         "1200.0",
         "2.0",
         "130.0",
         "3",
         "True",
         "False",
         "False",
         "False",
         "False",
         "False",
         "False",
         "False",
         "False",
         "False",
         "False",
         "False",
         "False",
         "False",
         "False",
         "False",
         "False",
         "False",
         "False",
         "False",
         "False",
         "False",
         "False",
         "False",
         "False",
         "False",
         "False",
         "False",
         "False",
         "False",
         "False",
         "False",
         "False",
         "False",
         "False",
         "False",
         "False",
         "False",
         "False",
         "False",
         "False",
         "False",
         "False",
         "False",
         "False",
         "False",
         "False",
         "False",
         "False",
         "False",
         "False",
         "False",
         "False",
         "False",
         "False",
         "False",
         "False",
         "False",
         "False",
         "False",
         "False",
         "False",
         "False",
         "False",
         "False",
         "False",
         "False",
         "False",
         "False",
         "False",
         "False",
         "False",
         "False",
         "False",
         "False",
         "False",
         "False",
         "False",
         "False",
         "False",
         "False",
         "False",
         "False",
         "False",
         "False",
         "False",
         "False",
         "False",
         "False",
         "False",
         "False",
         "False",
         "False",
         "False",
         "False",
         "False",
         "False",
         "False",
         "False",
         "False",
         "False",
         "False",
         "False",
         "False",
         "False",
         "False",
         "False",
         "False",
         "False",
         "False",
         "False",
         "False",
         "False",
         "False",
         "False",
         "False",
         "False",
         "False",
         "False",
         "False",
         "False",
         "False",
         "False",
         "False",
         "False",
         "False",
         "False",
         "False",
         "False",
         "False",
         "False",
         "False",
         "False",
         "False",
         "False",
         "False",
         "False",
         "False",
         "False",
         "False",
         "False",
         "False",
         "False",
         "False",
         "False",
         "False",
         "False",
         "False",
         "False",
         "False",
         "False",
         "False",
         "False",
         "False",
         "False",
         "False",
         "False",
         "False",
         "False",
         "False",
         "False",
         "False",
         "False",
         "False",
         "False",
         "False",
         "False",
         "False",
         "False",
         "False",
         "False",
         "False",
         "False",
         "False",
         "False",
         "False",
         "False",
         "False",
         "False",
         "False",
         "False",
         "False",
         "False",
         "False",
         "False",
         "False",
         "False",
         "False",
         "False",
         "False",
         "False",
         "False",
         "False",
         "False",
         "False",
         "False",
         "False",
         "False",
         "False",
         "False",
         "False",
         "False",
         "False",
         "False",
         "False",
         "False",
         "False",
         "False",
         "False",
         "False",
         "False",
         "False",
         "False",
         "False",
         "False",
         "False",
         "False",
         "False",
         "False",
         "False",
         "False",
         "False",
         "False",
         "False",
         "False",
         "False",
         "False",
         "False",
         "False",
         "False",
         "False",
         "False",
         "False",
         "False",
         "False",
         "False",
         "False",
         "False",
         "False",
         "False",
         "False"
        ],
        [
         "4",
         "1235.0",
         "2.0",
         "148.0",
         "2",
         "True",
         "False",
         "False",
         "False",
         "False",
         "False",
         "False",
         "False",
         "False",
         "False",
         "False",
         "False",
         "False",
         "False",
         "False",
         "False",
         "False",
         "False",
         "False",
         "False",
         "False",
         "False",
         "False",
         "False",
         "False",
         "False",
         "False",
         "False",
         "False",
         "False",
         "False",
         "False",
         "False",
         "False",
         "False",
         "False",
         "False",
         "False",
         "False",
         "False",
         "False",
         "False",
         "False",
         "False",
         "False",
         "False",
         "False",
         "False",
         "False",
         "False",
         "False",
         "False",
         "False",
         "False",
         "False",
         "False",
         "False",
         "False",
         "False",
         "False",
         "False",
         "False",
         "False",
         "False",
         "False",
         "False",
         "False",
         "False",
         "False",
         "False",
         "False",
         "False",
         "False",
         "False",
         "False",
         "False",
         "False",
         "False",
         "False",
         "False",
         "False",
         "False",
         "False",
         "False",
         "False",
         "False",
         "False",
         "False",
         "False",
         "False",
         "False",
         "False",
         "False",
         "False",
         "False",
         "False",
         "False",
         "False",
         "False",
         "False",
         "False",
         "False",
         "False",
         "False",
         "False",
         "False",
         "False",
         "False",
         "False",
         "False",
         "False",
         "False",
         "False",
         "False",
         "False",
         "False",
         "False",
         "False",
         "False",
         "False",
         "False",
         "False",
         "False",
         "False",
         "False",
         "False",
         "False",
         "False",
         "False",
         "False",
         "False",
         "False",
         "False",
         "False",
         "False",
         "False",
         "False",
         "False",
         "False",
         "False",
         "False",
         "False",
         "False",
         "False",
         "False",
         "False",
         "False",
         "False",
         "False",
         "False",
         "False",
         "False",
         "False",
         "False",
         "False",
         "False",
         "False",
         "False",
         "False",
         "False",
         "False",
         "False",
         "False",
         "False",
         "False",
         "False",
         "False",
         "False",
         "False",
         "False",
         "False",
         "False",
         "False",
         "False",
         "False",
         "False",
         "False",
         "False",
         "False",
         "False",
         "False",
         "False",
         "False",
         "False",
         "False",
         "False",
         "False",
         "False",
         "False",
         "False",
         "False",
         "False",
         "False",
         "False",
         "False",
         "False",
         "False",
         "False",
         "False",
         "False",
         "False",
         "False",
         "False",
         "False",
         "False",
         "False",
         "False",
         "False",
         "False",
         "False",
         "False",
         "False",
         "False",
         "False",
         "False",
         "False",
         "False",
         "False",
         "False",
         "False",
         "False",
         "False",
         "False",
         "False",
         "False",
         "False",
         "False",
         "False",
         "False",
         "False",
         "False",
         "False",
         "False",
         "False",
         "False",
         "False",
         "False",
         "False",
         "False",
         "False",
         "False"
        ]
       ],
       "shape": {
        "columns": 245,
        "rows": 5
       }
      },
      "text/html": [
       "<div>\n",
       "<style scoped>\n",
       "    .dataframe tbody tr th:only-of-type {\n",
       "        vertical-align: middle;\n",
       "    }\n",
       "\n",
       "    .dataframe tbody tr th {\n",
       "        vertical-align: top;\n",
       "    }\n",
       "\n",
       "    .dataframe thead th {\n",
       "        text-align: right;\n",
       "    }\n",
       "</style>\n",
       "<table border=\"1\" class=\"dataframe\">\n",
       "  <thead>\n",
       "    <tr style=\"text-align: right;\">\n",
       "      <th></th>\n",
       "      <th>total_sqft</th>\n",
       "      <th>bath</th>\n",
       "      <th>price</th>\n",
       "      <th>BHK</th>\n",
       "      <th>1st Block Jayanagar</th>\n",
       "      <th>1st Phase JP Nagar</th>\n",
       "      <th>2nd Phase Judicial Layout</th>\n",
       "      <th>2nd Stage Nagarbhavi</th>\n",
       "      <th>5th Block Hbr Layout</th>\n",
       "      <th>5th Phase JP Nagar</th>\n",
       "      <th>...</th>\n",
       "      <th>Vijayanagar</th>\n",
       "      <th>Vishveshwarya Layout</th>\n",
       "      <th>Vishwapriya Layout</th>\n",
       "      <th>Vittasandra</th>\n",
       "      <th>Whitefield</th>\n",
       "      <th>Yelachenahalli</th>\n",
       "      <th>Yelahanka</th>\n",
       "      <th>Yelahanka New Town</th>\n",
       "      <th>Yelenahalli</th>\n",
       "      <th>Yeshwanthpur</th>\n",
       "    </tr>\n",
       "  </thead>\n",
       "  <tbody>\n",
       "    <tr>\n",
       "      <th>0</th>\n",
       "      <td>2850.0</td>\n",
       "      <td>4.0</td>\n",
       "      <td>428.0</td>\n",
       "      <td>4</td>\n",
       "      <td>True</td>\n",
       "      <td>False</td>\n",
       "      <td>False</td>\n",
       "      <td>False</td>\n",
       "      <td>False</td>\n",
       "      <td>False</td>\n",
       "      <td>...</td>\n",
       "      <td>False</td>\n",
       "      <td>False</td>\n",
       "      <td>False</td>\n",
       "      <td>False</td>\n",
       "      <td>False</td>\n",
       "      <td>False</td>\n",
       "      <td>False</td>\n",
       "      <td>False</td>\n",
       "      <td>False</td>\n",
       "      <td>False</td>\n",
       "    </tr>\n",
       "    <tr>\n",
       "      <th>1</th>\n",
       "      <td>1630.0</td>\n",
       "      <td>3.0</td>\n",
       "      <td>194.0</td>\n",
       "      <td>3</td>\n",
       "      <td>True</td>\n",
       "      <td>False</td>\n",
       "      <td>False</td>\n",
       "      <td>False</td>\n",
       "      <td>False</td>\n",
       "      <td>False</td>\n",
       "      <td>...</td>\n",
       "      <td>False</td>\n",
       "      <td>False</td>\n",
       "      <td>False</td>\n",
       "      <td>False</td>\n",
       "      <td>False</td>\n",
       "      <td>False</td>\n",
       "      <td>False</td>\n",
       "      <td>False</td>\n",
       "      <td>False</td>\n",
       "      <td>False</td>\n",
       "    </tr>\n",
       "    <tr>\n",
       "      <th>2</th>\n",
       "      <td>1875.0</td>\n",
       "      <td>2.0</td>\n",
       "      <td>235.0</td>\n",
       "      <td>3</td>\n",
       "      <td>True</td>\n",
       "      <td>False</td>\n",
       "      <td>False</td>\n",
       "      <td>False</td>\n",
       "      <td>False</td>\n",
       "      <td>False</td>\n",
       "      <td>...</td>\n",
       "      <td>False</td>\n",
       "      <td>False</td>\n",
       "      <td>False</td>\n",
       "      <td>False</td>\n",
       "      <td>False</td>\n",
       "      <td>False</td>\n",
       "      <td>False</td>\n",
       "      <td>False</td>\n",
       "      <td>False</td>\n",
       "      <td>False</td>\n",
       "    </tr>\n",
       "    <tr>\n",
       "      <th>3</th>\n",
       "      <td>1200.0</td>\n",
       "      <td>2.0</td>\n",
       "      <td>130.0</td>\n",
       "      <td>3</td>\n",
       "      <td>True</td>\n",
       "      <td>False</td>\n",
       "      <td>False</td>\n",
       "      <td>False</td>\n",
       "      <td>False</td>\n",
       "      <td>False</td>\n",
       "      <td>...</td>\n",
       "      <td>False</td>\n",
       "      <td>False</td>\n",
       "      <td>False</td>\n",
       "      <td>False</td>\n",
       "      <td>False</td>\n",
       "      <td>False</td>\n",
       "      <td>False</td>\n",
       "      <td>False</td>\n",
       "      <td>False</td>\n",
       "      <td>False</td>\n",
       "    </tr>\n",
       "    <tr>\n",
       "      <th>4</th>\n",
       "      <td>1235.0</td>\n",
       "      <td>2.0</td>\n",
       "      <td>148.0</td>\n",
       "      <td>2</td>\n",
       "      <td>True</td>\n",
       "      <td>False</td>\n",
       "      <td>False</td>\n",
       "      <td>False</td>\n",
       "      <td>False</td>\n",
       "      <td>False</td>\n",
       "      <td>...</td>\n",
       "      <td>False</td>\n",
       "      <td>False</td>\n",
       "      <td>False</td>\n",
       "      <td>False</td>\n",
       "      <td>False</td>\n",
       "      <td>False</td>\n",
       "      <td>False</td>\n",
       "      <td>False</td>\n",
       "      <td>False</td>\n",
       "      <td>False</td>\n",
       "    </tr>\n",
       "  </tbody>\n",
       "</table>\n",
       "<p>5 rows × 245 columns</p>\n",
       "</div>"
      ],
      "text/plain": [
       "   total_sqft  bath  price  BHK  1st Block Jayanagar  1st Phase JP Nagar  \\\n",
       "0      2850.0   4.0  428.0    4                 True               False   \n",
       "1      1630.0   3.0  194.0    3                 True               False   \n",
       "2      1875.0   2.0  235.0    3                 True               False   \n",
       "3      1200.0   2.0  130.0    3                 True               False   \n",
       "4      1235.0   2.0  148.0    2                 True               False   \n",
       "\n",
       "   2nd Phase Judicial Layout  2nd Stage Nagarbhavi  5th Block Hbr Layout  \\\n",
       "0                      False                 False                 False   \n",
       "1                      False                 False                 False   \n",
       "2                      False                 False                 False   \n",
       "3                      False                 False                 False   \n",
       "4                      False                 False                 False   \n",
       "\n",
       "   5th Phase JP Nagar  ...  Vijayanagar  Vishveshwarya Layout  \\\n",
       "0               False  ...        False                 False   \n",
       "1               False  ...        False                 False   \n",
       "2               False  ...        False                 False   \n",
       "3               False  ...        False                 False   \n",
       "4               False  ...        False                 False   \n",
       "\n",
       "   Vishwapriya Layout  Vittasandra  Whitefield  Yelachenahalli  Yelahanka  \\\n",
       "0               False        False       False           False      False   \n",
       "1               False        False       False           False      False   \n",
       "2               False        False       False           False      False   \n",
       "3               False        False       False           False      False   \n",
       "4               False        False       False           False      False   \n",
       "\n",
       "   Yelahanka New Town  Yelenahalli  Yeshwanthpur  \n",
       "0               False        False         False  \n",
       "1               False        False         False  \n",
       "2               False        False         False  \n",
       "3               False        False         False  \n",
       "4               False        False         False  \n",
       "\n",
       "[5 rows x 245 columns]"
      ]
     },
     "execution_count": 46,
     "metadata": {},
     "output_type": "execute_result"
    }
   ],
   "source": [
    "df12 = df11.drop('location' , axis = 1)\n",
    "df12.head()"
   ]
  },
  {
   "cell_type": "code",
   "execution_count": 47,
   "id": "028d0bbb",
   "metadata": {},
   "outputs": [
    {
     "data": {
      "text/plain": [
       "(7325, 245)"
      ]
     },
     "execution_count": 47,
     "metadata": {},
     "output_type": "execute_result"
    }
   ],
   "source": [
    "df12.shape"
   ]
  },
  {
   "cell_type": "code",
   "execution_count": 48,
   "id": "1ef9de78",
   "metadata": {},
   "outputs": [
    {
     "data": {
      "application/vnd.microsoft.datawrangler.viewer.v0+json": {
       "columns": [
        {
         "name": "index",
         "rawType": "int64",
         "type": "integer"
        },
        {
         "name": "total_sqft",
         "rawType": "float64",
         "type": "float"
        },
        {
         "name": "bath",
         "rawType": "float64",
         "type": "float"
        },
        {
         "name": "BHK",
         "rawType": "int64",
         "type": "integer"
        },
        {
         "name": "1st Block Jayanagar",
         "rawType": "bool",
         "type": "boolean"
        },
        {
         "name": "1st Phase JP Nagar",
         "rawType": "bool",
         "type": "boolean"
        },
        {
         "name": "2nd Phase Judicial Layout",
         "rawType": "bool",
         "type": "boolean"
        },
        {
         "name": "2nd Stage Nagarbhavi",
         "rawType": "bool",
         "type": "boolean"
        },
        {
         "name": "5th Block Hbr Layout",
         "rawType": "bool",
         "type": "boolean"
        },
        {
         "name": "5th Phase JP Nagar",
         "rawType": "bool",
         "type": "boolean"
        },
        {
         "name": "6th Phase JP Nagar",
         "rawType": "bool",
         "type": "boolean"
        },
        {
         "name": "7th Phase JP Nagar",
         "rawType": "bool",
         "type": "boolean"
        },
        {
         "name": "8th Phase JP Nagar",
         "rawType": "bool",
         "type": "boolean"
        },
        {
         "name": "9th Phase JP Nagar",
         "rawType": "bool",
         "type": "boolean"
        },
        {
         "name": "AECS Layout",
         "rawType": "bool",
         "type": "boolean"
        },
        {
         "name": "Abbigere",
         "rawType": "bool",
         "type": "boolean"
        },
        {
         "name": "Akshaya Nagar",
         "rawType": "bool",
         "type": "boolean"
        },
        {
         "name": "Ambalipura",
         "rawType": "bool",
         "type": "boolean"
        },
        {
         "name": "Ambedkar Nagar",
         "rawType": "bool",
         "type": "boolean"
        },
        {
         "name": "Amruthahalli",
         "rawType": "bool",
         "type": "boolean"
        },
        {
         "name": "Anandapura",
         "rawType": "bool",
         "type": "boolean"
        },
        {
         "name": "Ananth Nagar",
         "rawType": "bool",
         "type": "boolean"
        },
        {
         "name": "Anekal",
         "rawType": "bool",
         "type": "boolean"
        },
        {
         "name": "Anjanapura",
         "rawType": "bool",
         "type": "boolean"
        },
        {
         "name": "Ardendale",
         "rawType": "bool",
         "type": "boolean"
        },
        {
         "name": "Arekere",
         "rawType": "bool",
         "type": "boolean"
        },
        {
         "name": "Attibele",
         "rawType": "bool",
         "type": "boolean"
        },
        {
         "name": "BEML Layout",
         "rawType": "bool",
         "type": "boolean"
        },
        {
         "name": "BTM 2nd Stage",
         "rawType": "bool",
         "type": "boolean"
        },
        {
         "name": "BTM Layout",
         "rawType": "bool",
         "type": "boolean"
        },
        {
         "name": "Babusapalaya",
         "rawType": "bool",
         "type": "boolean"
        },
        {
         "name": "Badavala Nagar",
         "rawType": "bool",
         "type": "boolean"
        },
        {
         "name": "Balagere",
         "rawType": "bool",
         "type": "boolean"
        },
        {
         "name": "Banashankari",
         "rawType": "bool",
         "type": "boolean"
        },
        {
         "name": "Banashankari Stage II",
         "rawType": "bool",
         "type": "boolean"
        },
        {
         "name": "Banashankari Stage III",
         "rawType": "bool",
         "type": "boolean"
        },
        {
         "name": "Banashankari Stage V",
         "rawType": "bool",
         "type": "boolean"
        },
        {
         "name": "Banashankari Stage VI",
         "rawType": "bool",
         "type": "boolean"
        },
        {
         "name": "Banaswadi",
         "rawType": "bool",
         "type": "boolean"
        },
        {
         "name": "Banjara Layout",
         "rawType": "bool",
         "type": "boolean"
        },
        {
         "name": "Bannerghatta",
         "rawType": "bool",
         "type": "boolean"
        },
        {
         "name": "Bannerghatta Road",
         "rawType": "bool",
         "type": "boolean"
        },
        {
         "name": "Basavangudi",
         "rawType": "bool",
         "type": "boolean"
        },
        {
         "name": "Basaveshwara Nagar",
         "rawType": "bool",
         "type": "boolean"
        },
        {
         "name": "Battarahalli",
         "rawType": "bool",
         "type": "boolean"
        },
        {
         "name": "Begur",
         "rawType": "bool",
         "type": "boolean"
        },
        {
         "name": "Begur Road",
         "rawType": "bool",
         "type": "boolean"
        },
        {
         "name": "Bellandur",
         "rawType": "bool",
         "type": "boolean"
        },
        {
         "name": "Benson Town",
         "rawType": "bool",
         "type": "boolean"
        },
        {
         "name": "Bharathi Nagar",
         "rawType": "bool",
         "type": "boolean"
        },
        {
         "name": "Bhoganhalli",
         "rawType": "bool",
         "type": "boolean"
        },
        {
         "name": "Billekahalli",
         "rawType": "bool",
         "type": "boolean"
        },
        {
         "name": "Binny Pete",
         "rawType": "bool",
         "type": "boolean"
        },
        {
         "name": "Bisuvanahalli",
         "rawType": "bool",
         "type": "boolean"
        },
        {
         "name": "Bommanahalli",
         "rawType": "bool",
         "type": "boolean"
        },
        {
         "name": "Bommasandra",
         "rawType": "bool",
         "type": "boolean"
        },
        {
         "name": "Bommasandra Industrial Area",
         "rawType": "bool",
         "type": "boolean"
        },
        {
         "name": "Bommenahalli",
         "rawType": "bool",
         "type": "boolean"
        },
        {
         "name": "Brookefield",
         "rawType": "bool",
         "type": "boolean"
        },
        {
         "name": "Budigere",
         "rawType": "bool",
         "type": "boolean"
        },
        {
         "name": "CV Raman Nagar",
         "rawType": "bool",
         "type": "boolean"
        },
        {
         "name": "Chamrajpet",
         "rawType": "bool",
         "type": "boolean"
        },
        {
         "name": "Chandapura",
         "rawType": "bool",
         "type": "boolean"
        },
        {
         "name": "Channasandra",
         "rawType": "bool",
         "type": "boolean"
        },
        {
         "name": "Chikka Tirupathi",
         "rawType": "bool",
         "type": "boolean"
        },
        {
         "name": "Chikkabanavar",
         "rawType": "bool",
         "type": "boolean"
        },
        {
         "name": "Chikkalasandra",
         "rawType": "bool",
         "type": "boolean"
        },
        {
         "name": "Choodasandra",
         "rawType": "bool",
         "type": "boolean"
        },
        {
         "name": "Cooke Town",
         "rawType": "bool",
         "type": "boolean"
        },
        {
         "name": "Cox Town",
         "rawType": "bool",
         "type": "boolean"
        },
        {
         "name": "Cunningham Road",
         "rawType": "bool",
         "type": "boolean"
        },
        {
         "name": "Dasanapura",
         "rawType": "bool",
         "type": "boolean"
        },
        {
         "name": "Dasarahalli",
         "rawType": "bool",
         "type": "boolean"
        },
        {
         "name": "Devanahalli",
         "rawType": "bool",
         "type": "boolean"
        },
        {
         "name": "Devarachikkanahalli",
         "rawType": "bool",
         "type": "boolean"
        },
        {
         "name": "Dodda Nekkundi",
         "rawType": "bool",
         "type": "boolean"
        },
        {
         "name": "Doddaballapur",
         "rawType": "bool",
         "type": "boolean"
        },
        {
         "name": "Doddakallasandra",
         "rawType": "bool",
         "type": "boolean"
        },
        {
         "name": "Doddathoguru",
         "rawType": "bool",
         "type": "boolean"
        },
        {
         "name": "Domlur",
         "rawType": "bool",
         "type": "boolean"
        },
        {
         "name": "Dommasandra",
         "rawType": "bool",
         "type": "boolean"
        },
        {
         "name": "EPIP Zone",
         "rawType": "bool",
         "type": "boolean"
        },
        {
         "name": "Electronic City",
         "rawType": "bool",
         "type": "boolean"
        },
        {
         "name": "Electronic City Phase II",
         "rawType": "bool",
         "type": "boolean"
        },
        {
         "name": "Electronics City Phase 1",
         "rawType": "bool",
         "type": "boolean"
        },
        {
         "name": "Frazer Town",
         "rawType": "bool",
         "type": "boolean"
        },
        {
         "name": "GM Palaya",
         "rawType": "bool",
         "type": "boolean"
        },
        {
         "name": "Garudachar Palya",
         "rawType": "bool",
         "type": "boolean"
        },
        {
         "name": "Giri Nagar",
         "rawType": "bool",
         "type": "boolean"
        },
        {
         "name": "Gollarapalya Hosahalli",
         "rawType": "bool",
         "type": "boolean"
        },
        {
         "name": "Gottigere",
         "rawType": "bool",
         "type": "boolean"
        },
        {
         "name": "Green Glen Layout",
         "rawType": "bool",
         "type": "boolean"
        },
        {
         "name": "Gubbalala",
         "rawType": "bool",
         "type": "boolean"
        },
        {
         "name": "Gunjur",
         "rawType": "bool",
         "type": "boolean"
        },
        {
         "name": "HAL 2nd Stage",
         "rawType": "bool",
         "type": "boolean"
        },
        {
         "name": "HBR Layout",
         "rawType": "bool",
         "type": "boolean"
        },
        {
         "name": "HRBR Layout",
         "rawType": "bool",
         "type": "boolean"
        },
        {
         "name": "HSR Layout",
         "rawType": "bool",
         "type": "boolean"
        },
        {
         "name": "Haralur Road",
         "rawType": "bool",
         "type": "boolean"
        },
        {
         "name": "Harlur",
         "rawType": "bool",
         "type": "boolean"
        },
        {
         "name": "Hebbal",
         "rawType": "bool",
         "type": "boolean"
        },
        {
         "name": "Hebbal Kempapura",
         "rawType": "bool",
         "type": "boolean"
        },
        {
         "name": "Hegde Nagar",
         "rawType": "bool",
         "type": "boolean"
        },
        {
         "name": "Hennur",
         "rawType": "bool",
         "type": "boolean"
        },
        {
         "name": "Hennur Road",
         "rawType": "bool",
         "type": "boolean"
        },
        {
         "name": "Hoodi",
         "rawType": "bool",
         "type": "boolean"
        },
        {
         "name": "Horamavu Agara",
         "rawType": "bool",
         "type": "boolean"
        },
        {
         "name": "Horamavu Banaswadi",
         "rawType": "bool",
         "type": "boolean"
        },
        {
         "name": "Hormavu",
         "rawType": "bool",
         "type": "boolean"
        },
        {
         "name": "Hosa Road",
         "rawType": "bool",
         "type": "boolean"
        },
        {
         "name": "Hosakerehalli",
         "rawType": "bool",
         "type": "boolean"
        },
        {
         "name": "Hoskote",
         "rawType": "bool",
         "type": "boolean"
        },
        {
         "name": "Hosur Road",
         "rawType": "bool",
         "type": "boolean"
        },
        {
         "name": "Hulimavu",
         "rawType": "bool",
         "type": "boolean"
        },
        {
         "name": "ISRO Layout",
         "rawType": "bool",
         "type": "boolean"
        },
        {
         "name": "ITPL",
         "rawType": "bool",
         "type": "boolean"
        },
        {
         "name": "Iblur Village",
         "rawType": "bool",
         "type": "boolean"
        },
        {
         "name": "Indira Nagar",
         "rawType": "bool",
         "type": "boolean"
        },
        {
         "name": "JP Nagar",
         "rawType": "bool",
         "type": "boolean"
        },
        {
         "name": "Jakkur",
         "rawType": "bool",
         "type": "boolean"
        },
        {
         "name": "Jalahalli",
         "rawType": "bool",
         "type": "boolean"
        },
        {
         "name": "Jalahalli East",
         "rawType": "bool",
         "type": "boolean"
        },
        {
         "name": "Jigani",
         "rawType": "bool",
         "type": "boolean"
        },
        {
         "name": "Judicial Layout",
         "rawType": "bool",
         "type": "boolean"
        },
        {
         "name": "KR Puram",
         "rawType": "bool",
         "type": "boolean"
        },
        {
         "name": "Kadubeesanahalli",
         "rawType": "bool",
         "type": "boolean"
        },
        {
         "name": "Kadugodi",
         "rawType": "bool",
         "type": "boolean"
        },
        {
         "name": "Kaggadasapura",
         "rawType": "bool",
         "type": "boolean"
        },
        {
         "name": "Kaggalipura",
         "rawType": "bool",
         "type": "boolean"
        },
        {
         "name": "Kaikondrahalli",
         "rawType": "bool",
         "type": "boolean"
        },
        {
         "name": "Kalena Agrahara",
         "rawType": "bool",
         "type": "boolean"
        },
        {
         "name": "Kalyan nagar",
         "rawType": "bool",
         "type": "boolean"
        },
        {
         "name": "Kambipura",
         "rawType": "bool",
         "type": "boolean"
        },
        {
         "name": "Kammanahalli",
         "rawType": "bool",
         "type": "boolean"
        },
        {
         "name": "Kammasandra",
         "rawType": "bool",
         "type": "boolean"
        },
        {
         "name": "Kanakapura",
         "rawType": "bool",
         "type": "boolean"
        },
        {
         "name": "Kanakpura Road",
         "rawType": "bool",
         "type": "boolean"
        },
        {
         "name": "Kannamangala",
         "rawType": "bool",
         "type": "boolean"
        },
        {
         "name": "Karuna Nagar",
         "rawType": "bool",
         "type": "boolean"
        },
        {
         "name": "Kasavanhalli",
         "rawType": "bool",
         "type": "boolean"
        },
        {
         "name": "Kasturi Nagar",
         "rawType": "bool",
         "type": "boolean"
        },
        {
         "name": "Kathriguppe",
         "rawType": "bool",
         "type": "boolean"
        },
        {
         "name": "Kaval Byrasandra",
         "rawType": "bool",
         "type": "boolean"
        },
        {
         "name": "Kenchenahalli",
         "rawType": "bool",
         "type": "boolean"
        },
        {
         "name": "Kengeri",
         "rawType": "bool",
         "type": "boolean"
        },
        {
         "name": "Kengeri Satellite Town",
         "rawType": "bool",
         "type": "boolean"
        },
        {
         "name": "Kereguddadahalli",
         "rawType": "bool",
         "type": "boolean"
        },
        {
         "name": "Kodichikkanahalli",
         "rawType": "bool",
         "type": "boolean"
        },
        {
         "name": "Kodigehaali",
         "rawType": "bool",
         "type": "boolean"
        },
        {
         "name": "Kodigehalli",
         "rawType": "bool",
         "type": "boolean"
        },
        {
         "name": "Kodihalli",
         "rawType": "bool",
         "type": "boolean"
        },
        {
         "name": "Kogilu",
         "rawType": "bool",
         "type": "boolean"
        },
        {
         "name": "Konanakunte",
         "rawType": "bool",
         "type": "boolean"
        },
        {
         "name": "Koramangala",
         "rawType": "bool",
         "type": "boolean"
        },
        {
         "name": "Kothannur",
         "rawType": "bool",
         "type": "boolean"
        },
        {
         "name": "Kothanur",
         "rawType": "bool",
         "type": "boolean"
        },
        {
         "name": "Kudlu",
         "rawType": "bool",
         "type": "boolean"
        },
        {
         "name": "Kudlu Gate",
         "rawType": "bool",
         "type": "boolean"
        },
        {
         "name": "Kumaraswami Layout",
         "rawType": "bool",
         "type": "boolean"
        },
        {
         "name": "Kundalahalli",
         "rawType": "bool",
         "type": "boolean"
        },
        {
         "name": "LB Shastri Nagar",
         "rawType": "bool",
         "type": "boolean"
        },
        {
         "name": "Laggere",
         "rawType": "bool",
         "type": "boolean"
        },
        {
         "name": "Lakshminarayana Pura",
         "rawType": "bool",
         "type": "boolean"
        },
        {
         "name": "Lingadheeranahalli",
         "rawType": "bool",
         "type": "boolean"
        },
        {
         "name": "Magadi Road",
         "rawType": "bool",
         "type": "boolean"
        },
        {
         "name": "Mahadevpura",
         "rawType": "bool",
         "type": "boolean"
        },
        {
         "name": "Mahalakshmi Layout",
         "rawType": "bool",
         "type": "boolean"
        },
        {
         "name": "Mallasandra",
         "rawType": "bool",
         "type": "boolean"
        },
        {
         "name": "Malleshpalya",
         "rawType": "bool",
         "type": "boolean"
        },
        {
         "name": "Malleshwaram",
         "rawType": "bool",
         "type": "boolean"
        },
        {
         "name": "Marathahalli",
         "rawType": "bool",
         "type": "boolean"
        },
        {
         "name": "Margondanahalli",
         "rawType": "bool",
         "type": "boolean"
        },
        {
         "name": "Marsur",
         "rawType": "bool",
         "type": "boolean"
        },
        {
         "name": "Mico Layout",
         "rawType": "bool",
         "type": "boolean"
        },
        {
         "name": "Munnekollal",
         "rawType": "bool",
         "type": "boolean"
        },
        {
         "name": "Murugeshpalya",
         "rawType": "bool",
         "type": "boolean"
        },
        {
         "name": "Mysore Road",
         "rawType": "bool",
         "type": "boolean"
        },
        {
         "name": "NGR Layout",
         "rawType": "bool",
         "type": "boolean"
        },
        {
         "name": "NRI Layout",
         "rawType": "bool",
         "type": "boolean"
        },
        {
         "name": "Nagarbhavi",
         "rawType": "bool",
         "type": "boolean"
        },
        {
         "name": "Nagasandra",
         "rawType": "bool",
         "type": "boolean"
        },
        {
         "name": "Nagavara",
         "rawType": "bool",
         "type": "boolean"
        },
        {
         "name": "Nagavarapalya",
         "rawType": "bool",
         "type": "boolean"
        },
        {
         "name": "Narayanapura",
         "rawType": "bool",
         "type": "boolean"
        },
        {
         "name": "Neeladri Nagar",
         "rawType": "bool",
         "type": "boolean"
        },
        {
         "name": "Nehru Nagar",
         "rawType": "bool",
         "type": "boolean"
        },
        {
         "name": "OMBR Layout",
         "rawType": "bool",
         "type": "boolean"
        },
        {
         "name": "Old Airport Road",
         "rawType": "bool",
         "type": "boolean"
        },
        {
         "name": "Old Madras Road",
         "rawType": "bool",
         "type": "boolean"
        },
        {
         "name": "Padmanabhanagar",
         "rawType": "bool",
         "type": "boolean"
        },
        {
         "name": "Pai Layout",
         "rawType": "bool",
         "type": "boolean"
        },
        {
         "name": "Panathur",
         "rawType": "bool",
         "type": "boolean"
        },
        {
         "name": "Parappana Agrahara",
         "rawType": "bool",
         "type": "boolean"
        },
        {
         "name": "Pattandur Agrahara",
         "rawType": "bool",
         "type": "boolean"
        },
        {
         "name": "Poorna Pragna Layout",
         "rawType": "bool",
         "type": "boolean"
        },
        {
         "name": "Prithvi Layout",
         "rawType": "bool",
         "type": "boolean"
        },
        {
         "name": "R.T. Nagar",
         "rawType": "bool",
         "type": "boolean"
        },
        {
         "name": "Rachenahalli",
         "rawType": "bool",
         "type": "boolean"
        },
        {
         "name": "Raja Rajeshwari Nagar",
         "rawType": "bool",
         "type": "boolean"
        },
        {
         "name": "Rajaji Nagar",
         "rawType": "bool",
         "type": "boolean"
        },
        {
         "name": "Rajiv Nagar",
         "rawType": "bool",
         "type": "boolean"
        },
        {
         "name": "Ramagondanahalli",
         "rawType": "bool",
         "type": "boolean"
        },
        {
         "name": "Ramamurthy Nagar",
         "rawType": "bool",
         "type": "boolean"
        },
        {
         "name": "Rayasandra",
         "rawType": "bool",
         "type": "boolean"
        },
        {
         "name": "Sahakara Nagar",
         "rawType": "bool",
         "type": "boolean"
        },
        {
         "name": "Sanjay nagar",
         "rawType": "bool",
         "type": "boolean"
        },
        {
         "name": "Sarakki Nagar",
         "rawType": "bool",
         "type": "boolean"
        },
        {
         "name": "Sarjapur",
         "rawType": "bool",
         "type": "boolean"
        },
        {
         "name": "Sarjapur  Road",
         "rawType": "bool",
         "type": "boolean"
        },
        {
         "name": "Sarjapura - Attibele Road",
         "rawType": "bool",
         "type": "boolean"
        },
        {
         "name": "Sector 2 HSR Layout",
         "rawType": "bool",
         "type": "boolean"
        },
        {
         "name": "Sector 7 HSR Layout",
         "rawType": "bool",
         "type": "boolean"
        },
        {
         "name": "Seegehalli",
         "rawType": "bool",
         "type": "boolean"
        },
        {
         "name": "Shampura",
         "rawType": "bool",
         "type": "boolean"
        },
        {
         "name": "Shivaji Nagar",
         "rawType": "bool",
         "type": "boolean"
        },
        {
         "name": "Singasandra",
         "rawType": "bool",
         "type": "boolean"
        },
        {
         "name": "Somasundara Palya",
         "rawType": "bool",
         "type": "boolean"
        },
        {
         "name": "Sompura",
         "rawType": "bool",
         "type": "boolean"
        },
        {
         "name": "Sonnenahalli",
         "rawType": "bool",
         "type": "boolean"
        },
        {
         "name": "Subramanyapura",
         "rawType": "bool",
         "type": "boolean"
        },
        {
         "name": "Sultan Palaya",
         "rawType": "bool",
         "type": "boolean"
        },
        {
         "name": "TC Palaya",
         "rawType": "bool",
         "type": "boolean"
        },
        {
         "name": "Talaghattapura",
         "rawType": "bool",
         "type": "boolean"
        },
        {
         "name": "Thanisandra",
         "rawType": "bool",
         "type": "boolean"
        },
        {
         "name": "Thigalarapalya",
         "rawType": "bool",
         "type": "boolean"
        },
        {
         "name": "Thubarahalli",
         "rawType": "bool",
         "type": "boolean"
        },
        {
         "name": "Thyagaraja Nagar",
         "rawType": "bool",
         "type": "boolean"
        },
        {
         "name": "Tindlu",
         "rawType": "bool",
         "type": "boolean"
        },
        {
         "name": "Tumkur Road",
         "rawType": "bool",
         "type": "boolean"
        },
        {
         "name": "Ulsoor",
         "rawType": "bool",
         "type": "boolean"
        },
        {
         "name": "Uttarahalli",
         "rawType": "bool",
         "type": "boolean"
        },
        {
         "name": "Varthur",
         "rawType": "bool",
         "type": "boolean"
        },
        {
         "name": "Varthur Road",
         "rawType": "bool",
         "type": "boolean"
        },
        {
         "name": "Vasanthapura",
         "rawType": "bool",
         "type": "boolean"
        },
        {
         "name": "Vidyaranyapura",
         "rawType": "bool",
         "type": "boolean"
        },
        {
         "name": "Vijayanagar",
         "rawType": "bool",
         "type": "boolean"
        },
        {
         "name": "Vishveshwarya Layout",
         "rawType": "bool",
         "type": "boolean"
        },
        {
         "name": "Vishwapriya Layout",
         "rawType": "bool",
         "type": "boolean"
        },
        {
         "name": "Vittasandra",
         "rawType": "bool",
         "type": "boolean"
        },
        {
         "name": "Whitefield",
         "rawType": "bool",
         "type": "boolean"
        },
        {
         "name": "Yelachenahalli",
         "rawType": "bool",
         "type": "boolean"
        },
        {
         "name": "Yelahanka",
         "rawType": "bool",
         "type": "boolean"
        },
        {
         "name": "Yelahanka New Town",
         "rawType": "bool",
         "type": "boolean"
        },
        {
         "name": "Yelenahalli",
         "rawType": "bool",
         "type": "boolean"
        },
        {
         "name": "Yeshwanthpur",
         "rawType": "bool",
         "type": "boolean"
        }
       ],
       "ref": "0c81a981-9c53-4f5c-afba-7563aa8ed6b3",
       "rows": [
        [
         "0",
         "2850.0",
         "4.0",
         "4",
         "True",
         "False",
         "False",
         "False",
         "False",
         "False",
         "False",
         "False",
         "False",
         "False",
         "False",
         "False",
         "False",
         "False",
         "False",
         "False",
         "False",
         "False",
         "False",
         "False",
         "False",
         "False",
         "False",
         "False",
         "False",
         "False",
         "False",
         "False",
         "False",
         "False",
         "False",
         "False",
         "False",
         "False",
         "False",
         "False",
         "False",
         "False",
         "False",
         "False",
         "False",
         "False",
         "False",
         "False",
         "False",
         "False",
         "False",
         "False",
         "False",
         "False",
         "False",
         "False",
         "False",
         "False",
         "False",
         "False",
         "False",
         "False",
         "False",
         "False",
         "False",
         "False",
         "False",
         "False",
         "False",
         "False",
         "False",
         "False",
         "False",
         "False",
         "False",
         "False",
         "False",
         "False",
         "False",
         "False",
         "False",
         "False",
         "False",
         "False",
         "False",
         "False",
         "False",
         "False",
         "False",
         "False",
         "False",
         "False",
         "False",
         "False",
         "False",
         "False",
         "False",
         "False",
         "False",
         "False",
         "False",
         "False",
         "False",
         "False",
         "False",
         "False",
         "False",
         "False",
         "False",
         "False",
         "False",
         "False",
         "False",
         "False",
         "False",
         "False",
         "False",
         "False",
         "False",
         "False",
         "False",
         "False",
         "False",
         "False",
         "False",
         "False",
         "False",
         "False",
         "False",
         "False",
         "False",
         "False",
         "False",
         "False",
         "False",
         "False",
         "False",
         "False",
         "False",
         "False",
         "False",
         "False",
         "False",
         "False",
         "False",
         "False",
         "False",
         "False",
         "False",
         "False",
         "False",
         "False",
         "False",
         "False",
         "False",
         "False",
         "False",
         "False",
         "False",
         "False",
         "False",
         "False",
         "False",
         "False",
         "False",
         "False",
         "False",
         "False",
         "False",
         "False",
         "False",
         "False",
         "False",
         "False",
         "False",
         "False",
         "False",
         "False",
         "False",
         "False",
         "False",
         "False",
         "False",
         "False",
         "False",
         "False",
         "False",
         "False",
         "False",
         "False",
         "False",
         "False",
         "False",
         "False",
         "False",
         "False",
         "False",
         "False",
         "False",
         "False",
         "False",
         "False",
         "False",
         "False",
         "False",
         "False",
         "False",
         "False",
         "False",
         "False",
         "False",
         "False",
         "False",
         "False",
         "False",
         "False",
         "False",
         "False",
         "False",
         "False",
         "False",
         "False",
         "False",
         "False",
         "False",
         "False",
         "False",
         "False",
         "False",
         "False",
         "False",
         "False",
         "False",
         "False",
         "False",
         "False",
         "False",
         "False",
         "False",
         "False",
         "False",
         "False",
         "False",
         "False",
         "False"
        ],
        [
         "1",
         "1630.0",
         "3.0",
         "3",
         "True",
         "False",
         "False",
         "False",
         "False",
         "False",
         "False",
         "False",
         "False",
         "False",
         "False",
         "False",
         "False",
         "False",
         "False",
         "False",
         "False",
         "False",
         "False",
         "False",
         "False",
         "False",
         "False",
         "False",
         "False",
         "False",
         "False",
         "False",
         "False",
         "False",
         "False",
         "False",
         "False",
         "False",
         "False",
         "False",
         "False",
         "False",
         "False",
         "False",
         "False",
         "False",
         "False",
         "False",
         "False",
         "False",
         "False",
         "False",
         "False",
         "False",
         "False",
         "False",
         "False",
         "False",
         "False",
         "False",
         "False",
         "False",
         "False",
         "False",
         "False",
         "False",
         "False",
         "False",
         "False",
         "False",
         "False",
         "False",
         "False",
         "False",
         "False",
         "False",
         "False",
         "False",
         "False",
         "False",
         "False",
         "False",
         "False",
         "False",
         "False",
         "False",
         "False",
         "False",
         "False",
         "False",
         "False",
         "False",
         "False",
         "False",
         "False",
         "False",
         "False",
         "False",
         "False",
         "False",
         "False",
         "False",
         "False",
         "False",
         "False",
         "False",
         "False",
         "False",
         "False",
         "False",
         "False",
         "False",
         "False",
         "False",
         "False",
         "False",
         "False",
         "False",
         "False",
         "False",
         "False",
         "False",
         "False",
         "False",
         "False",
         "False",
         "False",
         "False",
         "False",
         "False",
         "False",
         "False",
         "False",
         "False",
         "False",
         "False",
         "False",
         "False",
         "False",
         "False",
         "False",
         "False",
         "False",
         "False",
         "False",
         "False",
         "False",
         "False",
         "False",
         "False",
         "False",
         "False",
         "False",
         "False",
         "False",
         "False",
         "False",
         "False",
         "False",
         "False",
         "False",
         "False",
         "False",
         "False",
         "False",
         "False",
         "False",
         "False",
         "False",
         "False",
         "False",
         "False",
         "False",
         "False",
         "False",
         "False",
         "False",
         "False",
         "False",
         "False",
         "False",
         "False",
         "False",
         "False",
         "False",
         "False",
         "False",
         "False",
         "False",
         "False",
         "False",
         "False",
         "False",
         "False",
         "False",
         "False",
         "False",
         "False",
         "False",
         "False",
         "False",
         "False",
         "False",
         "False",
         "False",
         "False",
         "False",
         "False",
         "False",
         "False",
         "False",
         "False",
         "False",
         "False",
         "False",
         "False",
         "False",
         "False",
         "False",
         "False",
         "False",
         "False",
         "False",
         "False",
         "False",
         "False",
         "False",
         "False",
         "False",
         "False",
         "False",
         "False",
         "False",
         "False",
         "False",
         "False",
         "False",
         "False",
         "False",
         "False",
         "False",
         "False",
         "False",
         "False",
         "False"
        ],
        [
         "2",
         "1875.0",
         "2.0",
         "3",
         "True",
         "False",
         "False",
         "False",
         "False",
         "False",
         "False",
         "False",
         "False",
         "False",
         "False",
         "False",
         "False",
         "False",
         "False",
         "False",
         "False",
         "False",
         "False",
         "False",
         "False",
         "False",
         "False",
         "False",
         "False",
         "False",
         "False",
         "False",
         "False",
         "False",
         "False",
         "False",
         "False",
         "False",
         "False",
         "False",
         "False",
         "False",
         "False",
         "False",
         "False",
         "False",
         "False",
         "False",
         "False",
         "False",
         "False",
         "False",
         "False",
         "False",
         "False",
         "False",
         "False",
         "False",
         "False",
         "False",
         "False",
         "False",
         "False",
         "False",
         "False",
         "False",
         "False",
         "False",
         "False",
         "False",
         "False",
         "False",
         "False",
         "False",
         "False",
         "False",
         "False",
         "False",
         "False",
         "False",
         "False",
         "False",
         "False",
         "False",
         "False",
         "False",
         "False",
         "False",
         "False",
         "False",
         "False",
         "False",
         "False",
         "False",
         "False",
         "False",
         "False",
         "False",
         "False",
         "False",
         "False",
         "False",
         "False",
         "False",
         "False",
         "False",
         "False",
         "False",
         "False",
         "False",
         "False",
         "False",
         "False",
         "False",
         "False",
         "False",
         "False",
         "False",
         "False",
         "False",
         "False",
         "False",
         "False",
         "False",
         "False",
         "False",
         "False",
         "False",
         "False",
         "False",
         "False",
         "False",
         "False",
         "False",
         "False",
         "False",
         "False",
         "False",
         "False",
         "False",
         "False",
         "False",
         "False",
         "False",
         "False",
         "False",
         "False",
         "False",
         "False",
         "False",
         "False",
         "False",
         "False",
         "False",
         "False",
         "False",
         "False",
         "False",
         "False",
         "False",
         "False",
         "False",
         "False",
         "False",
         "False",
         "False",
         "False",
         "False",
         "False",
         "False",
         "False",
         "False",
         "False",
         "False",
         "False",
         "False",
         "False",
         "False",
         "False",
         "False",
         "False",
         "False",
         "False",
         "False",
         "False",
         "False",
         "False",
         "False",
         "False",
         "False",
         "False",
         "False",
         "False",
         "False",
         "False",
         "False",
         "False",
         "False",
         "False",
         "False",
         "False",
         "False",
         "False",
         "False",
         "False",
         "False",
         "False",
         "False",
         "False",
         "False",
         "False",
         "False",
         "False",
         "False",
         "False",
         "False",
         "False",
         "False",
         "False",
         "False",
         "False",
         "False",
         "False",
         "False",
         "False",
         "False",
         "False",
         "False",
         "False",
         "False",
         "False",
         "False",
         "False",
         "False",
         "False",
         "False",
         "False",
         "False",
         "False",
         "False",
         "False",
         "False",
         "False",
         "False",
         "False"
        ],
        [
         "3",
         "1200.0",
         "2.0",
         "3",
         "True",
         "False",
         "False",
         "False",
         "False",
         "False",
         "False",
         "False",
         "False",
         "False",
         "False",
         "False",
         "False",
         "False",
         "False",
         "False",
         "False",
         "False",
         "False",
         "False",
         "False",
         "False",
         "False",
         "False",
         "False",
         "False",
         "False",
         "False",
         "False",
         "False",
         "False",
         "False",
         "False",
         "False",
         "False",
         "False",
         "False",
         "False",
         "False",
         "False",
         "False",
         "False",
         "False",
         "False",
         "False",
         "False",
         "False",
         "False",
         "False",
         "False",
         "False",
         "False",
         "False",
         "False",
         "False",
         "False",
         "False",
         "False",
         "False",
         "False",
         "False",
         "False",
         "False",
         "False",
         "False",
         "False",
         "False",
         "False",
         "False",
         "False",
         "False",
         "False",
         "False",
         "False",
         "False",
         "False",
         "False",
         "False",
         "False",
         "False",
         "False",
         "False",
         "False",
         "False",
         "False",
         "False",
         "False",
         "False",
         "False",
         "False",
         "False",
         "False",
         "False",
         "False",
         "False",
         "False",
         "False",
         "False",
         "False",
         "False",
         "False",
         "False",
         "False",
         "False",
         "False",
         "False",
         "False",
         "False",
         "False",
         "False",
         "False",
         "False",
         "False",
         "False",
         "False",
         "False",
         "False",
         "False",
         "False",
         "False",
         "False",
         "False",
         "False",
         "False",
         "False",
         "False",
         "False",
         "False",
         "False",
         "False",
         "False",
         "False",
         "False",
         "False",
         "False",
         "False",
         "False",
         "False",
         "False",
         "False",
         "False",
         "False",
         "False",
         "False",
         "False",
         "False",
         "False",
         "False",
         "False",
         "False",
         "False",
         "False",
         "False",
         "False",
         "False",
         "False",
         "False",
         "False",
         "False",
         "False",
         "False",
         "False",
         "False",
         "False",
         "False",
         "False",
         "False",
         "False",
         "False",
         "False",
         "False",
         "False",
         "False",
         "False",
         "False",
         "False",
         "False",
         "False",
         "False",
         "False",
         "False",
         "False",
         "False",
         "False",
         "False",
         "False",
         "False",
         "False",
         "False",
         "False",
         "False",
         "False",
         "False",
         "False",
         "False",
         "False",
         "False",
         "False",
         "False",
         "False",
         "False",
         "False",
         "False",
         "False",
         "False",
         "False",
         "False",
         "False",
         "False",
         "False",
         "False",
         "False",
         "False",
         "False",
         "False",
         "False",
         "False",
         "False",
         "False",
         "False",
         "False",
         "False",
         "False",
         "False",
         "False",
         "False",
         "False",
         "False",
         "False",
         "False",
         "False",
         "False",
         "False",
         "False",
         "False",
         "False",
         "False",
         "False",
         "False",
         "False",
         "False"
        ],
        [
         "4",
         "1235.0",
         "2.0",
         "2",
         "True",
         "False",
         "False",
         "False",
         "False",
         "False",
         "False",
         "False",
         "False",
         "False",
         "False",
         "False",
         "False",
         "False",
         "False",
         "False",
         "False",
         "False",
         "False",
         "False",
         "False",
         "False",
         "False",
         "False",
         "False",
         "False",
         "False",
         "False",
         "False",
         "False",
         "False",
         "False",
         "False",
         "False",
         "False",
         "False",
         "False",
         "False",
         "False",
         "False",
         "False",
         "False",
         "False",
         "False",
         "False",
         "False",
         "False",
         "False",
         "False",
         "False",
         "False",
         "False",
         "False",
         "False",
         "False",
         "False",
         "False",
         "False",
         "False",
         "False",
         "False",
         "False",
         "False",
         "False",
         "False",
         "False",
         "False",
         "False",
         "False",
         "False",
         "False",
         "False",
         "False",
         "False",
         "False",
         "False",
         "False",
         "False",
         "False",
         "False",
         "False",
         "False",
         "False",
         "False",
         "False",
         "False",
         "False",
         "False",
         "False",
         "False",
         "False",
         "False",
         "False",
         "False",
         "False",
         "False",
         "False",
         "False",
         "False",
         "False",
         "False",
         "False",
         "False",
         "False",
         "False",
         "False",
         "False",
         "False",
         "False",
         "False",
         "False",
         "False",
         "False",
         "False",
         "False",
         "False",
         "False",
         "False",
         "False",
         "False",
         "False",
         "False",
         "False",
         "False",
         "False",
         "False",
         "False",
         "False",
         "False",
         "False",
         "False",
         "False",
         "False",
         "False",
         "False",
         "False",
         "False",
         "False",
         "False",
         "False",
         "False",
         "False",
         "False",
         "False",
         "False",
         "False",
         "False",
         "False",
         "False",
         "False",
         "False",
         "False",
         "False",
         "False",
         "False",
         "False",
         "False",
         "False",
         "False",
         "False",
         "False",
         "False",
         "False",
         "False",
         "False",
         "False",
         "False",
         "False",
         "False",
         "False",
         "False",
         "False",
         "False",
         "False",
         "False",
         "False",
         "False",
         "False",
         "False",
         "False",
         "False",
         "False",
         "False",
         "False",
         "False",
         "False",
         "False",
         "False",
         "False",
         "False",
         "False",
         "False",
         "False",
         "False",
         "False",
         "False",
         "False",
         "False",
         "False",
         "False",
         "False",
         "False",
         "False",
         "False",
         "False",
         "False",
         "False",
         "False",
         "False",
         "False",
         "False",
         "False",
         "False",
         "False",
         "False",
         "False",
         "False",
         "False",
         "False",
         "False",
         "False",
         "False",
         "False",
         "False",
         "False",
         "False",
         "False",
         "False",
         "False",
         "False",
         "False",
         "False",
         "False",
         "False",
         "False",
         "False",
         "False",
         "False",
         "False",
         "False",
         "False"
        ]
       ],
       "shape": {
        "columns": 244,
        "rows": 5
       }
      },
      "text/html": [
       "<div>\n",
       "<style scoped>\n",
       "    .dataframe tbody tr th:only-of-type {\n",
       "        vertical-align: middle;\n",
       "    }\n",
       "\n",
       "    .dataframe tbody tr th {\n",
       "        vertical-align: top;\n",
       "    }\n",
       "\n",
       "    .dataframe thead th {\n",
       "        text-align: right;\n",
       "    }\n",
       "</style>\n",
       "<table border=\"1\" class=\"dataframe\">\n",
       "  <thead>\n",
       "    <tr style=\"text-align: right;\">\n",
       "      <th></th>\n",
       "      <th>total_sqft</th>\n",
       "      <th>bath</th>\n",
       "      <th>BHK</th>\n",
       "      <th>1st Block Jayanagar</th>\n",
       "      <th>1st Phase JP Nagar</th>\n",
       "      <th>2nd Phase Judicial Layout</th>\n",
       "      <th>2nd Stage Nagarbhavi</th>\n",
       "      <th>5th Block Hbr Layout</th>\n",
       "      <th>5th Phase JP Nagar</th>\n",
       "      <th>6th Phase JP Nagar</th>\n",
       "      <th>...</th>\n",
       "      <th>Vijayanagar</th>\n",
       "      <th>Vishveshwarya Layout</th>\n",
       "      <th>Vishwapriya Layout</th>\n",
       "      <th>Vittasandra</th>\n",
       "      <th>Whitefield</th>\n",
       "      <th>Yelachenahalli</th>\n",
       "      <th>Yelahanka</th>\n",
       "      <th>Yelahanka New Town</th>\n",
       "      <th>Yelenahalli</th>\n",
       "      <th>Yeshwanthpur</th>\n",
       "    </tr>\n",
       "  </thead>\n",
       "  <tbody>\n",
       "    <tr>\n",
       "      <th>0</th>\n",
       "      <td>2850.0</td>\n",
       "      <td>4.0</td>\n",
       "      <td>4</td>\n",
       "      <td>True</td>\n",
       "      <td>False</td>\n",
       "      <td>False</td>\n",
       "      <td>False</td>\n",
       "      <td>False</td>\n",
       "      <td>False</td>\n",
       "      <td>False</td>\n",
       "      <td>...</td>\n",
       "      <td>False</td>\n",
       "      <td>False</td>\n",
       "      <td>False</td>\n",
       "      <td>False</td>\n",
       "      <td>False</td>\n",
       "      <td>False</td>\n",
       "      <td>False</td>\n",
       "      <td>False</td>\n",
       "      <td>False</td>\n",
       "      <td>False</td>\n",
       "    </tr>\n",
       "    <tr>\n",
       "      <th>1</th>\n",
       "      <td>1630.0</td>\n",
       "      <td>3.0</td>\n",
       "      <td>3</td>\n",
       "      <td>True</td>\n",
       "      <td>False</td>\n",
       "      <td>False</td>\n",
       "      <td>False</td>\n",
       "      <td>False</td>\n",
       "      <td>False</td>\n",
       "      <td>False</td>\n",
       "      <td>...</td>\n",
       "      <td>False</td>\n",
       "      <td>False</td>\n",
       "      <td>False</td>\n",
       "      <td>False</td>\n",
       "      <td>False</td>\n",
       "      <td>False</td>\n",
       "      <td>False</td>\n",
       "      <td>False</td>\n",
       "      <td>False</td>\n",
       "      <td>False</td>\n",
       "    </tr>\n",
       "    <tr>\n",
       "      <th>2</th>\n",
       "      <td>1875.0</td>\n",
       "      <td>2.0</td>\n",
       "      <td>3</td>\n",
       "      <td>True</td>\n",
       "      <td>False</td>\n",
       "      <td>False</td>\n",
       "      <td>False</td>\n",
       "      <td>False</td>\n",
       "      <td>False</td>\n",
       "      <td>False</td>\n",
       "      <td>...</td>\n",
       "      <td>False</td>\n",
       "      <td>False</td>\n",
       "      <td>False</td>\n",
       "      <td>False</td>\n",
       "      <td>False</td>\n",
       "      <td>False</td>\n",
       "      <td>False</td>\n",
       "      <td>False</td>\n",
       "      <td>False</td>\n",
       "      <td>False</td>\n",
       "    </tr>\n",
       "    <tr>\n",
       "      <th>3</th>\n",
       "      <td>1200.0</td>\n",
       "      <td>2.0</td>\n",
       "      <td>3</td>\n",
       "      <td>True</td>\n",
       "      <td>False</td>\n",
       "      <td>False</td>\n",
       "      <td>False</td>\n",
       "      <td>False</td>\n",
       "      <td>False</td>\n",
       "      <td>False</td>\n",
       "      <td>...</td>\n",
       "      <td>False</td>\n",
       "      <td>False</td>\n",
       "      <td>False</td>\n",
       "      <td>False</td>\n",
       "      <td>False</td>\n",
       "      <td>False</td>\n",
       "      <td>False</td>\n",
       "      <td>False</td>\n",
       "      <td>False</td>\n",
       "      <td>False</td>\n",
       "    </tr>\n",
       "    <tr>\n",
       "      <th>4</th>\n",
       "      <td>1235.0</td>\n",
       "      <td>2.0</td>\n",
       "      <td>2</td>\n",
       "      <td>True</td>\n",
       "      <td>False</td>\n",
       "      <td>False</td>\n",
       "      <td>False</td>\n",
       "      <td>False</td>\n",
       "      <td>False</td>\n",
       "      <td>False</td>\n",
       "      <td>...</td>\n",
       "      <td>False</td>\n",
       "      <td>False</td>\n",
       "      <td>False</td>\n",
       "      <td>False</td>\n",
       "      <td>False</td>\n",
       "      <td>False</td>\n",
       "      <td>False</td>\n",
       "      <td>False</td>\n",
       "      <td>False</td>\n",
       "      <td>False</td>\n",
       "    </tr>\n",
       "  </tbody>\n",
       "</table>\n",
       "<p>5 rows × 244 columns</p>\n",
       "</div>"
      ],
      "text/plain": [
       "   total_sqft  bath  BHK  1st Block Jayanagar  1st Phase JP Nagar  \\\n",
       "0      2850.0   4.0    4                 True               False   \n",
       "1      1630.0   3.0    3                 True               False   \n",
       "2      1875.0   2.0    3                 True               False   \n",
       "3      1200.0   2.0    3                 True               False   \n",
       "4      1235.0   2.0    2                 True               False   \n",
       "\n",
       "   2nd Phase Judicial Layout  2nd Stage Nagarbhavi  5th Block Hbr Layout  \\\n",
       "0                      False                 False                 False   \n",
       "1                      False                 False                 False   \n",
       "2                      False                 False                 False   \n",
       "3                      False                 False                 False   \n",
       "4                      False                 False                 False   \n",
       "\n",
       "   5th Phase JP Nagar  6th Phase JP Nagar  ...  Vijayanagar  \\\n",
       "0               False               False  ...        False   \n",
       "1               False               False  ...        False   \n",
       "2               False               False  ...        False   \n",
       "3               False               False  ...        False   \n",
       "4               False               False  ...        False   \n",
       "\n",
       "   Vishveshwarya Layout  Vishwapriya Layout  Vittasandra  Whitefield  \\\n",
       "0                 False               False        False       False   \n",
       "1                 False               False        False       False   \n",
       "2                 False               False        False       False   \n",
       "3                 False               False        False       False   \n",
       "4                 False               False        False       False   \n",
       "\n",
       "   Yelachenahalli  Yelahanka  Yelahanka New Town  Yelenahalli  Yeshwanthpur  \n",
       "0           False      False               False        False         False  \n",
       "1           False      False               False        False         False  \n",
       "2           False      False               False        False         False  \n",
       "3           False      False               False        False         False  \n",
       "4           False      False               False        False         False  \n",
       "\n",
       "[5 rows x 244 columns]"
      ]
     },
     "execution_count": 48,
     "metadata": {},
     "output_type": "execute_result"
    }
   ],
   "source": [
    "X = df12.drop('price', axis = 1)\n",
    "X.head()"
   ]
  },
  {
   "cell_type": "code",
   "execution_count": 49,
   "id": "c87dee9c",
   "metadata": {},
   "outputs": [
    {
     "data": {
      "application/vnd.microsoft.datawrangler.viewer.v0+json": {
       "columns": [
        {
         "name": "index",
         "rawType": "int64",
         "type": "integer"
        },
        {
         "name": "price",
         "rawType": "float64",
         "type": "float"
        }
       ],
       "ref": "f86af22a-3c26-4c36-bb01-4ef65297cdd3",
       "rows": [
        [
         "0",
         "428.0"
        ],
        [
         "1",
         "194.0"
        ],
        [
         "2",
         "235.0"
        ],
        [
         "3",
         "130.0"
        ],
        [
         "4",
         "148.0"
        ]
       ],
       "shape": {
        "columns": 1,
        "rows": 5
       }
      },
      "text/plain": [
       "0    428.0\n",
       "1    194.0\n",
       "2    235.0\n",
       "3    130.0\n",
       "4    148.0\n",
       "Name: price, dtype: float64"
      ]
     },
     "execution_count": 49,
     "metadata": {},
     "output_type": "execute_result"
    }
   ],
   "source": [
    "y = df12.price\n",
    "y.head()"
   ]
  },
  {
   "cell_type": "markdown",
   "id": "36e390a3",
   "metadata": {},
   "source": [
    "## Model Selection"
   ]
  },
  {
   "cell_type": "code",
   "execution_count": 50,
   "id": "3721b024",
   "metadata": {},
   "outputs": [],
   "source": [
    "from sklearn.model_selection import train_test_split as ttp\n",
    "X_train, X_test, y_train, y_test = ttp(X,y,test_size = 0.2, random_state = 42)"
   ]
  },
  {
   "cell_type": "code",
   "execution_count": 51,
   "id": "c98656a3",
   "metadata": {},
   "outputs": [
    {
     "data": {
      "text/plain": [
       "0.827062349347875"
      ]
     },
     "execution_count": 51,
     "metadata": {},
     "output_type": "execute_result"
    }
   ],
   "source": [
    "from sklearn.linear_model import LinearRegression\n",
    "lr_model = LinearRegression()\n",
    "lr_model.fit(X_train,y_train)\n",
    "lr_model.score(X_test,y_test)"
   ]
  },
  {
   "cell_type": "code",
   "execution_count": 52,
   "id": "f450c2c1",
   "metadata": {},
   "outputs": [
    {
     "data": {
      "text/plain": [
       "array([0.83683414, 0.88576038, 0.86456858, 0.84938811, 0.86827334])"
      ]
     },
     "execution_count": 52,
     "metadata": {},
     "output_type": "execute_result"
    }
   ],
   "source": [
    "from sklearn.model_selection import ShuffleSplit\n",
    "from sklearn.model_selection import cross_val_score\n",
    "\n",
    "cv = ShuffleSplit(n_splits = 5, test_size = 0.2, random_state = 0)\n",
    "cross_val_score(LinearRegression(), X, y, cv = cv)"
   ]
  },
  {
   "cell_type": "code",
   "execution_count": 53,
   "id": "dc52a67e",
   "metadata": {},
   "outputs": [
    {
     "name": "stderr",
     "output_type": "stream",
     "text": [
      "C:\\Users\\Neville Evan\\AppData\\Roaming\\Python\\Python310\\site-packages\\sklearn\\model_selection\\_validation.py:547: FitFailedWarning: \n",
      "10 fits failed out of a total of 20.\n",
      "The score on these train-test partitions for these parameters will be set to nan.\n",
      "If these failures are not expected, you can try to debug them by setting error_score='raise'.\n",
      "\n",
      "Below are more details about the failures:\n",
      "--------------------------------------------------------------------------------\n",
      "10 fits failed with the following error:\n",
      "Traceback (most recent call last):\n",
      "  File \"C:\\Users\\Neville Evan\\AppData\\Roaming\\Python\\Python310\\site-packages\\sklearn\\model_selection\\_validation.py\", line 895, in _fit_and_score\n",
      "    estimator.fit(X_train, y_train, **fit_params)\n",
      "  File \"C:\\Users\\Neville Evan\\AppData\\Roaming\\Python\\Python310\\site-packages\\sklearn\\base.py\", line 1467, in wrapper\n",
      "    estimator._validate_params()\n",
      "  File \"C:\\Users\\Neville Evan\\AppData\\Roaming\\Python\\Python310\\site-packages\\sklearn\\base.py\", line 666, in _validate_params\n",
      "    validate_parameter_constraints(\n",
      "  File \"C:\\Users\\Neville Evan\\AppData\\Roaming\\Python\\Python310\\site-packages\\sklearn\\utils\\_param_validation.py\", line 95, in validate_parameter_constraints\n",
      "    raise InvalidParameterError(\n",
      "sklearn.utils._param_validation.InvalidParameterError: The 'criterion' parameter of DecisionTreeRegressor must be a str among {'squared_error', 'absolute_error', 'friedman_mse', 'poisson'}. Got 'mse' instead.\n",
      "\n",
      "  warnings.warn(some_fits_failed_message, FitFailedWarning)\n",
      "C:\\Users\\Neville Evan\\AppData\\Roaming\\Python\\Python310\\site-packages\\sklearn\\model_selection\\_search.py:1051: UserWarning: One or more of the test scores are non-finite: [       nan        nan 0.68129725 0.61037843]\n",
      "  warnings.warn(\n"
     ]
    },
    {
     "data": {
      "application/vnd.microsoft.datawrangler.viewer.v0+json": {
       "columns": [
        {
         "name": "index",
         "rawType": "int64",
         "type": "integer"
        },
        {
         "name": "model",
         "rawType": "object",
         "type": "string"
        },
        {
         "name": "best_score",
         "rawType": "float64",
         "type": "float"
        },
        {
         "name": "best_params",
         "rawType": "object",
         "type": "unknown"
        }
       ],
       "ref": "31c545f5-5914-42d8-a688-ec654574def2",
       "rows": [
        [
         "0",
         "linear_regression",
         "0.8609649076504453",
         "{'scaler': 'passthrough'}"
        ],
        [
         "1",
         "lasso",
         "0.7180649677418189",
         "{'alpha': 2, 'selection': 'cyclic'}"
        ],
        [
         "2",
         "decision_tree",
         "0.6812972459564728",
         "{'criterion': 'friedman_mse', 'splitter': 'best'}"
        ]
       ],
       "shape": {
        "columns": 3,
        "rows": 3
       }
      },
      "text/html": [
       "<div>\n",
       "<style scoped>\n",
       "    .dataframe tbody tr th:only-of-type {\n",
       "        vertical-align: middle;\n",
       "    }\n",
       "\n",
       "    .dataframe tbody tr th {\n",
       "        vertical-align: top;\n",
       "    }\n",
       "\n",
       "    .dataframe thead th {\n",
       "        text-align: right;\n",
       "    }\n",
       "</style>\n",
       "<table border=\"1\" class=\"dataframe\">\n",
       "  <thead>\n",
       "    <tr style=\"text-align: right;\">\n",
       "      <th></th>\n",
       "      <th>model</th>\n",
       "      <th>best_score</th>\n",
       "      <th>best_params</th>\n",
       "    </tr>\n",
       "  </thead>\n",
       "  <tbody>\n",
       "    <tr>\n",
       "      <th>0</th>\n",
       "      <td>linear_regression</td>\n",
       "      <td>0.860965</td>\n",
       "      <td>{'scaler': 'passthrough'}</td>\n",
       "    </tr>\n",
       "    <tr>\n",
       "      <th>1</th>\n",
       "      <td>lasso</td>\n",
       "      <td>0.718065</td>\n",
       "      <td>{'alpha': 2, 'selection': 'cyclic'}</td>\n",
       "    </tr>\n",
       "    <tr>\n",
       "      <th>2</th>\n",
       "      <td>decision_tree</td>\n",
       "      <td>0.681297</td>\n",
       "      <td>{'criterion': 'friedman_mse', 'splitter': 'best'}</td>\n",
       "    </tr>\n",
       "  </tbody>\n",
       "</table>\n",
       "</div>"
      ],
      "text/plain": [
       "               model  best_score  \\\n",
       "0  linear_regression    0.860965   \n",
       "1              lasso    0.718065   \n",
       "2      decision_tree    0.681297   \n",
       "\n",
       "                                         best_params  \n",
       "0                          {'scaler': 'passthrough'}  \n",
       "1                {'alpha': 2, 'selection': 'cyclic'}  \n",
       "2  {'criterion': 'friedman_mse', 'splitter': 'best'}  "
      ]
     },
     "execution_count": 53,
     "metadata": {},
     "output_type": "execute_result"
    }
   ],
   "source": [
    "from sklearn.model_selection import GridSearchCV\n",
    "from sklearn.pipeline import Pipeline\n",
    "from sklearn.preprocessing import StandardScaler\n",
    "\n",
    "from sklearn.linear_model import Lasso\n",
    "from sklearn.tree import DecisionTreeRegressor\n",
    "\n",
    "def find_best_model_using_gridsearchcv(X,y):\n",
    "    algos = {\n",
    "\n",
    "        'linear_regression': {\n",
    "            'model': Pipeline([\n",
    "                ('scaler', StandardScaler()),  \n",
    "                ('regressor', LinearRegression())]),\n",
    "            'params': {\n",
    "                'scaler': [StandardScaler(), 'passthrough']  \n",
    "            }\n",
    "        },\n",
    "\n",
    "\n",
    "        'lasso': {\n",
    "            'model': Lasso(),\n",
    "            'params': {\n",
    "                'alpha': [1,2],\n",
    "                'selection': ['random', 'cyclic']\n",
    "            }\n",
    "        },\n",
    "\n",
    "        'decision_tree': {\n",
    "            'model': DecisionTreeRegressor(),\n",
    "            'params': {\n",
    "                'criterion' : ['mse','friedman_mse'],\n",
    "                'splitter': ['best','random']\n",
    "            }\n",
    "        }\n",
    "    }\n",
    "\n",
    "    scores = []\n",
    "    cv = ShuffleSplit(n_splits=5, test_size=0.2, random_state=0)\n",
    "    for algo_name, config in algos.items():\n",
    "        gs =  GridSearchCV(config['model'], config['params'], cv = cv, return_train_score = False)\n",
    "        gs.fit(X,y)\n",
    "        scores.append({\n",
    "            'model': algo_name,\n",
    "            'best_score': gs.best_score_,\n",
    "            'best_params': gs.best_params_\n",
    "        })\n",
    "\n",
    "    return pd.DataFrame(scores,columns=['model','best_score','best_params'])\n",
    "\n",
    "find_best_model_using_gridsearchcv(X,y)"
   ]
  },
  {
   "cell_type": "code",
   "execution_count": 54,
   "id": "d242c81c",
   "metadata": {},
   "outputs": [
    {
     "data": {
      "text/plain": [
       "Index(['total_sqft', 'bath', 'BHK', '1st Block Jayanagar',\n",
       "       '1st Phase JP Nagar', '2nd Phase Judicial Layout',\n",
       "       '2nd Stage Nagarbhavi', '5th Block Hbr Layout', '5th Phase JP Nagar',\n",
       "       '6th Phase JP Nagar',\n",
       "       ...\n",
       "       'Vijayanagar', 'Vishveshwarya Layout', 'Vishwapriya Layout',\n",
       "       'Vittasandra', 'Whitefield', 'Yelachenahalli', 'Yelahanka',\n",
       "       'Yelahanka New Town', 'Yelenahalli', 'Yeshwanthpur'],\n",
       "      dtype='object', length=244)"
      ]
     },
     "execution_count": 54,
     "metadata": {},
     "output_type": "execute_result"
    }
   ],
   "source": [
    "X.columns"
   ]
  },
  {
   "cell_type": "code",
   "execution_count": 55,
   "id": "806e2207",
   "metadata": {},
   "outputs": [],
   "source": [
    "def predict_price(location,sqft,bath,bhk):\n",
    "    loc_index = np.where(X.columns == location)[0][0]\n",
    "\n",
    "    x = np.zeros(len(X.columns))\n",
    "    x[0] = sqft\n",
    "    x[1] = bath\n",
    "    x[2] = bhk\n",
    "    if loc_index >= 0:\n",
    "        x[loc_index] = 1\n",
    "\n",
    "    return lr_model.predict([x])[0]"
   ]
  },
  {
   "cell_type": "code",
   "execution_count": 56,
   "id": "645ada62",
   "metadata": {},
   "outputs": [
    {
     "name": "stderr",
     "output_type": "stream",
     "text": [
      "C:\\Users\\Neville Evan\\AppData\\Roaming\\Python\\Python310\\site-packages\\sklearn\\base.py:493: UserWarning: X does not have valid feature names, but LinearRegression was fitted with feature names\n",
      "  warnings.warn(\n"
     ]
    },
    {
     "data": {
      "text/plain": [
       "95.77813817038543"
      ]
     },
     "execution_count": 56,
     "metadata": {},
     "output_type": "execute_result"
    }
   ],
   "source": [
    "predict_price('1st Phase JP Nagar',1000, 2, 2)"
   ]
  },
  {
   "cell_type": "code",
   "execution_count": 57,
   "id": "fcc84e36",
   "metadata": {},
   "outputs": [
    {
     "name": "stderr",
     "output_type": "stream",
     "text": [
      "C:\\Users\\Neville Evan\\AppData\\Roaming\\Python\\Python310\\site-packages\\sklearn\\base.py:493: UserWarning: X does not have valid feature names, but LinearRegression was fitted with feature names\n",
      "  warnings.warn(\n"
     ]
    },
    {
     "data": {
      "text/plain": [
       "96.73260940353016"
      ]
     },
     "execution_count": 57,
     "metadata": {},
     "output_type": "execute_result"
    }
   ],
   "source": [
    "predict_price('1st Phase JP Nagar',1000, 3, 3)"
   ]
  },
  {
   "cell_type": "code",
   "execution_count": 58,
   "id": "013704c8",
   "metadata": {},
   "outputs": [
    {
     "name": "stderr",
     "output_type": "stream",
     "text": [
      "C:\\Users\\Neville Evan\\AppData\\Roaming\\Python\\Python310\\site-packages\\sklearn\\base.py:493: UserWarning: X does not have valid feature names, but LinearRegression was fitted with feature names\n",
      "  warnings.warn(\n"
     ]
    },
    {
     "data": {
      "text/plain": [
       "178.50804136866955"
      ]
     },
     "execution_count": 58,
     "metadata": {},
     "output_type": "execute_result"
    }
   ],
   "source": [
    "predict_price('Indira Nagar',1000, 2, 2)"
   ]
  },
  {
   "cell_type": "code",
   "execution_count": 59,
   "id": "990ec30c",
   "metadata": {},
   "outputs": [
    {
     "name": "stderr",
     "output_type": "stream",
     "text": [
      "C:\\Users\\Neville Evan\\AppData\\Roaming\\Python\\Python310\\site-packages\\sklearn\\base.py:493: UserWarning: X does not have valid feature names, but LinearRegression was fitted with feature names\n",
      "  warnings.warn(\n"
     ]
    },
    {
     "data": {
      "text/plain": [
       "179.46251260181424"
      ]
     },
     "execution_count": 59,
     "metadata": {},
     "output_type": "execute_result"
    }
   ],
   "source": [
    "predict_price('Indira Nagar',1000, 3, 3)"
   ]
  },
  {
   "cell_type": "code",
   "execution_count": 60,
   "id": "d9561510",
   "metadata": {},
   "outputs": [
    {
     "data": {
      "text/plain": [
       "['banglore_house_price_prediction']"
      ]
     },
     "execution_count": 60,
     "metadata": {},
     "output_type": "execute_result"
    }
   ],
   "source": [
    "import joblib\n",
    "joblib.dump(lr_model,'banglore_house_price_prediction')"
   ]
  },
  {
   "cell_type": "code",
   "execution_count": 62,
   "id": "2c94b01f",
   "metadata": {},
   "outputs": [],
   "source": [
    "import json\n",
    "columns = {\n",
    "    'data_columns' :X.columns.to_list()\n",
    "}\n",
    "with open(\"columns.json\",\"w\") as f:\n",
    "    f.write(json.dumps(columns))"
   ]
  }
 ],
 "metadata": {
  "kernelspec": {
   "display_name": "Python 3",
   "language": "python",
   "name": "python3"
  },
  "language_info": {
   "codemirror_mode": {
    "name": "ipython",
    "version": 3
   },
   "file_extension": ".py",
   "mimetype": "text/x-python",
   "name": "python",
   "nbconvert_exporter": "python",
   "pygments_lexer": "ipython3",
   "version": "3.10.0"
  }
 },
 "nbformat": 4,
 "nbformat_minor": 5
}
